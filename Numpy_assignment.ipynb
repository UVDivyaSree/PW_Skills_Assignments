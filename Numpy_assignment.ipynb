{
  "nbformat": 4,
  "nbformat_minor": 0,
  "metadata": {
    "colab": {
      "provenance": [],
      "authorship_tag": "ABX9TyPy5GUioch3xCc0M/PjRzOg",
      "include_colab_link": true
    },
    "kernelspec": {
      "name": "python3",
      "display_name": "Python 3"
    },
    "language_info": {
      "name": "python"
    }
  },
  "cells": [
    {
      "cell_type": "markdown",
      "metadata": {
        "id": "view-in-github",
        "colab_type": "text"
      },
      "source": [
        "<a href=\"https://colab.research.google.com/github/UVDivyaSree/PW_Skills_Assignments/blob/main/Numpy_assignment.ipynb\" target=\"_parent\"><img src=\"https://colab.research.google.com/assets/colab-badge.svg\" alt=\"Open In Colab\"/></a>"
      ]
    },
    {
      "cell_type": "markdown",
      "source": [
        "#1.create a 3*3 numPy array with random integers between 1 and 100. Then, interchange its rows and columns."
      ],
      "metadata": {
        "id": "uDcTxGMMyLpO"
      }
    },
    {
      "cell_type": "code",
      "execution_count": 3,
      "metadata": {
        "colab": {
          "base_uri": "https://localhost:8080/"
        },
        "id": "MfqQlXunxP9u",
        "outputId": "4bf1fff3-7afb-459f-b951-cbf2391545ee"
      },
      "outputs": [
        {
          "output_type": "execute_result",
          "data": {
            "text/plain": [
              "array([[35, 42, 31],\n",
              "       [46, 16, 29],\n",
              "       [ 6, 23, 74]])"
            ]
          },
          "metadata": {},
          "execution_count": 3
        }
      ],
      "source": [
        "import numpy as np\n",
        "\n",
        "# Create a 3x3 NumPy array with random integers between 1 and 100\n",
        "array = np.random.randint(1, 101, size=(3, 3))\n",
        "array"
      ]
    },
    {
      "cell_type": "code",
      "source": [
        "# Interchange its rows and columns (transpose)\n",
        "transposed_array = array.T\n",
        "\n",
        "print(\"Original Array:\")\n",
        "print(array)\n",
        "print(\"\\nTransposed Array:\")\n",
        "print(transposed_array)"
      ],
      "metadata": {
        "colab": {
          "base_uri": "https://localhost:8080/"
        },
        "id": "BlUcex5dyj1o",
        "outputId": "0a9835b8-6878-461c-d09d-808c57be477c"
      },
      "execution_count": 4,
      "outputs": [
        {
          "output_type": "stream",
          "name": "stdout",
          "text": [
            "Original Array:\n",
            "[[35 42 31]\n",
            " [46 16 29]\n",
            " [ 6 23 74]]\n",
            "\n",
            "Transposed Array:\n",
            "[[35 46  6]\n",
            " [42 16 23]\n",
            " [31 29 74]]\n"
          ]
        }
      ]
    },
    {
      "cell_type": "markdown",
      "source": [
        "#2.Generate a 1D NumPy array with 10 elements. Reshape it into a 2x5 array, then into a 5x2 array\n"
      ],
      "metadata": {
        "id": "D0DJs5aty08i"
      }
    },
    {
      "cell_type": "code",
      "source": [
        "import numpy as np\n",
        "# Generate a 1D NumPy array with 10 elements\n",
        "array_1d = np.arange(10)\n",
        "array_1d"
      ],
      "metadata": {
        "colab": {
          "base_uri": "https://localhost:8080/"
        },
        "id": "Yy7MtL46zCkj",
        "outputId": "602bccd7-1250-453b-e594-05941a267b47"
      },
      "execution_count": 6,
      "outputs": [
        {
          "output_type": "execute_result",
          "data": {
            "text/plain": [
              "array([0, 1, 2, 3, 4, 5, 6, 7, 8, 9])"
            ]
          },
          "metadata": {},
          "execution_count": 6
        }
      ]
    },
    {
      "cell_type": "code",
      "source": [
        "# Reshape it into a 2x5 array\n",
        "array_2x5 = array_1d.reshape(2, 5)\n",
        "array_2x5"
      ],
      "metadata": {
        "colab": {
          "base_uri": "https://localhost:8080/"
        },
        "id": "u1lcP6Ig0JgU",
        "outputId": "2fcda960-37a5-465c-bc06-2ad3917dd71f"
      },
      "execution_count": 7,
      "outputs": [
        {
          "output_type": "execute_result",
          "data": {
            "text/plain": [
              "array([[0, 1, 2, 3, 4],\n",
              "       [5, 6, 7, 8, 9]])"
            ]
          },
          "metadata": {},
          "execution_count": 7
        }
      ]
    },
    {
      "cell_type": "code",
      "source": [
        "# Reshape it into a 5x2 array\n",
        "array_5x2 = array_1d.reshape(5, 2)\n",
        "array_5x2"
      ],
      "metadata": {
        "colab": {
          "base_uri": "https://localhost:8080/"
        },
        "id": "i_UKnR6H0Nob",
        "outputId": "975efb89-a2b3-4496-a5c2-984a4ab2312f"
      },
      "execution_count": 8,
      "outputs": [
        {
          "output_type": "execute_result",
          "data": {
            "text/plain": [
              "array([[0, 1],\n",
              "       [2, 3],\n",
              "       [4, 5],\n",
              "       [6, 7],\n",
              "       [8, 9]])"
            ]
          },
          "metadata": {},
          "execution_count": 8
        }
      ]
    },
    {
      "cell_type": "code",
      "source": [
        "print(\"1D Array:\")\n",
        "print(array_1d)\n",
        "print(\"\\n2x5 Array:\")\n",
        "print(array_2x5)\n",
        "print(\"\\n5x2 Array:\")\n",
        "print(array_5x2)"
      ],
      "metadata": {
        "colab": {
          "base_uri": "https://localhost:8080/"
        },
        "id": "oOxx1C3U0ZtK",
        "outputId": "b1fbff97-ed12-45ef-81c9-3248a10e8efd"
      },
      "execution_count": 11,
      "outputs": [
        {
          "output_type": "stream",
          "name": "stdout",
          "text": [
            "1D Array:\n",
            "[0 1 2 3 4 5 6 7 8 9]\n",
            "\n",
            "2x5 Array:\n",
            "[[0 1 2 3 4]\n",
            " [5 6 7 8 9]]\n",
            "\n",
            "5x2 Array:\n",
            "[[0 1]\n",
            " [2 3]\n",
            " [4 5]\n",
            " [6 7]\n",
            " [8 9]]\n"
          ]
        }
      ]
    },
    {
      "cell_type": "markdown",
      "source": [
        "#3.Create a 4x4 NumPy array with random float values. Add a border of zeros around it, resulting in a 6x6 array."
      ],
      "metadata": {
        "id": "JsNaQt9u02b-"
      }
    },
    {
      "cell_type": "code",
      "source": [
        "import numpy as np\n",
        "#4x4 NumPy array with random float values.\n",
        "array = np.random.rand(4,4)\n",
        "array"
      ],
      "metadata": {
        "colab": {
          "base_uri": "https://localhost:8080/"
        },
        "id": "2aqhmGVs061D",
        "outputId": "ed7310fc-0e0d-481a-8f71-3d32a3169dd7"
      },
      "execution_count": 15,
      "outputs": [
        {
          "output_type": "execute_result",
          "data": {
            "text/plain": [
              "array([[0.06350327, 0.90590246, 0.78765414, 0.63664062],\n",
              "       [0.61871512, 0.81616993, 0.66925052, 0.57008865],\n",
              "       [0.77237715, 0.06310413, 0.02225446, 0.01600534],\n",
              "       [0.87255421, 0.44958877, 0.43087412, 0.27663889]])"
            ]
          },
          "metadata": {},
          "execution_count": 15
        }
      ]
    },
    {
      "cell_type": "code",
      "source": [
        "# Add a border of zeros around it, resulting in a 6x6 array\n",
        "array_6x6 = np.pad(array, pad_width=1, mode='constant', constant_values=0)\n",
        "array_6x6"
      ],
      "metadata": {
        "colab": {
          "base_uri": "https://localhost:8080/"
        },
        "id": "q_1iZbK_1kBV",
        "outputId": "27be19dc-5be4-4bff-9391-0b6105cc3ae4"
      },
      "execution_count": 18,
      "outputs": [
        {
          "output_type": "execute_result",
          "data": {
            "text/plain": [
              "array([[0.        , 0.        , 0.        , 0.        , 0.        ,\n",
              "        0.        ],\n",
              "       [0.        , 0.06350327, 0.90590246, 0.78765414, 0.63664062,\n",
              "        0.        ],\n",
              "       [0.        , 0.61871512, 0.81616993, 0.66925052, 0.57008865,\n",
              "        0.        ],\n",
              "       [0.        , 0.77237715, 0.06310413, 0.02225446, 0.01600534,\n",
              "        0.        ],\n",
              "       [0.        , 0.87255421, 0.44958877, 0.43087412, 0.27663889,\n",
              "        0.        ],\n",
              "       [0.        , 0.        , 0.        , 0.        , 0.        ,\n",
              "        0.        ]])"
            ]
          },
          "metadata": {},
          "execution_count": 18
        }
      ]
    },
    {
      "cell_type": "code",
      "source": [
        "\"\"\"The np.pad function adds extra space around your array. In this case:\n",
        "\n",
        "pad_width=1: It adds 1 row of padding on the top and bottom, and 1 column on the left and right, making the array bigger.\n",
        "mode='constant' and constant_values=0: It fills the padding with zeros.\n",
        "So, if your original array is 4x4, np.pad makes it a 6x6 array by adding a \"border\" of zeros around it.\"\"\"\n"
      ],
      "metadata": {
        "id": "EAIJSwGY2ehs"
      },
      "execution_count": null,
      "outputs": []
    },
    {
      "cell_type": "markdown",
      "source": [],
      "metadata": {
        "id": "KxtxHNJByDUS"
      }
    },
    {
      "cell_type": "markdown",
      "source": [
        "#4. Using NumPy, create an array of integers from 10 to 60 with a step of 5."
      ],
      "metadata": {
        "id": "ezsXqjqw2uFe"
      }
    },
    {
      "cell_type": "code",
      "source": [
        "import numpy as np\n",
        "# Create an array of integers from 10 to 60 with a step of 5\n",
        "array = np.arange(10, 60, 5)\n",
        "array\n",
        "#in above case if we give 60 it will be excluded and give values upto 59\n",
        "#if we give 61 then 61 will excluded and give values upto 60\n",
        "#10-included-start , 60-excluded-stop , 5-step-difference value"
      ],
      "metadata": {
        "colab": {
          "base_uri": "https://localhost:8080/"
        },
        "id": "50l8UiTk2ymK",
        "outputId": "627e6d18-226a-4c0e-ac68-a4fdf7abb96e"
      },
      "execution_count": 21,
      "outputs": [
        {
          "output_type": "execute_result",
          "data": {
            "text/plain": [
              "array([10, 15, 20, 25, 30, 35, 40, 45, 50, 55])"
            ]
          },
          "metadata": {},
          "execution_count": 21
        }
      ]
    },
    {
      "cell_type": "markdown",
      "source": [
        "#5.5. Create a NumPy array of strings ['python', 'numpy', 'pandas']. Apply different case transformations\n",
        "(uppercase, lowercase, title case, etc.) to each element."
      ],
      "metadata": {
        "id": "rhGJoCGl3zlr"
      }
    },
    {
      "cell_type": "code",
      "source": [
        "import numpy as np\n",
        "\n",
        "# Create a NumPy array of strings\n",
        "array = np.array(['python', 'numpy', 'pandas'])\n",
        "\n",
        "# Apply different case transformations\n",
        "uppercase_array = np.char.upper(array)\n",
        "lowercase_array = np.char.lower(array)\n",
        "titlecase_array = np.char.title(array)\n",
        "capitalize_array = np.char.capitalize(array)\n",
        "\n",
        "print(\"Original Array:\", array)\n",
        "print(\"Uppercase:\", uppercase_array)\n",
        "print(\"Lowercase:\", lowercase_array)\n",
        "print(\"Title Case:\", titlecase_array)\n",
        "print(\"Capitalized:\", capitalize_array)\n"
      ],
      "metadata": {
        "colab": {
          "base_uri": "https://localhost:8080/"
        },
        "id": "9j61ItSE3_ES",
        "outputId": "d41a30e9-be67-4d40-af14-c635bf0af6da"
      },
      "execution_count": 22,
      "outputs": [
        {
          "output_type": "stream",
          "name": "stdout",
          "text": [
            "Original Array: ['python' 'numpy' 'pandas']\n",
            "Uppercase: ['PYTHON' 'NUMPY' 'PANDAS']\n",
            "Lowercase: ['python' 'numpy' 'pandas']\n",
            "Title Case: ['Python' 'Numpy' 'Pandas']\n",
            "Capitalized: ['Python' 'Numpy' 'Pandas']\n"
          ]
        }
      ]
    },
    {
      "cell_type": "markdown",
      "source": [
        "#6.Generate a NumPy array of words. Insert a space between each character of every word  in the array."
      ],
      "metadata": {
        "id": "ShUtWG4Z4gA1"
      }
    },
    {
      "cell_type": "code",
      "source": [
        "import numpy as np\n",
        "\n",
        "# Create a NumPy array of words\n",
        "words_array = np.array(['hello', 'world', 'numpy', 'array'])\n",
        "\n",
        "# Insert a space between each character of every word\n",
        "spaced_words_array = np.char.join(' ', words_array)\n",
        "\n",
        "print(\"Original Array:\", words_array)\n",
        "print(\"Spaced Characters Array:\", spaced_words_array)\n"
      ],
      "metadata": {
        "colab": {
          "base_uri": "https://localhost:8080/"
        },
        "id": "d3WDFWFs4Ysh",
        "outputId": "1aa98d6c-b21b-4d03-940d-be8f58d1461c"
      },
      "execution_count": 23,
      "outputs": [
        {
          "output_type": "stream",
          "name": "stdout",
          "text": [
            "Original Array: ['hello' 'world' 'numpy' 'array']\n",
            "Spaced Characters Array: ['h e l l o' 'w o r l d' 'n u m p y' 'a r r a y']\n"
          ]
        }
      ]
    },
    {
      "cell_type": "markdown",
      "source": [
        "#7. Create two 2D NumPy arrays and perform element-wise addition, subtraction, multiplication, and division."
      ],
      "metadata": {
        "id": "LIDZd1vl6vj-"
      }
    },
    {
      "cell_type": "code",
      "source": [
        "import numpy as np\n",
        "\n",
        "# Create two 2D NumPy arrays\n",
        "array1 = np.array([[1, 2, 3],\n",
        "                   [4, 5, 6]])\n",
        "array2 = np.array([[7, 8, 9],\n",
        "                   [10, 11, 12]])\n",
        "\n",
        "# Perform element-wise addition\n",
        "addition = array1 + array2\n",
        "\n",
        "# Perform element-wise subtraction\n",
        "subtraction = array1 - array2\n",
        "\n",
        "# Perform element-wise multiplication\n",
        "multiplication = array1 * array2\n",
        "\n",
        "# Perform element-wise division\n",
        "division = array1 / array2\n",
        "\n",
        "print(\"Array 1:\\n\", array1)\n",
        "print(\"Array 2:\\n\", array2)\n",
        "print(\"\\nElement-wise Addition:\\n\", addition)\n",
        "print(\"\\nElement-wise Subtraction:\\n\", subtraction)\n",
        "print(\"\\nElement-wise Multiplication:\\n\", multiplication)\n",
        "print(\"\\nElement-wise Division:\\n\", division)\n"
      ],
      "metadata": {
        "colab": {
          "base_uri": "https://localhost:8080/"
        },
        "id": "XY-iPb4g5_A4",
        "outputId": "f93a9e1b-2449-4364-b3e8-080edea970fd"
      },
      "execution_count": 24,
      "outputs": [
        {
          "output_type": "stream",
          "name": "stdout",
          "text": [
            "Array 1:\n",
            " [[1 2 3]\n",
            " [4 5 6]]\n",
            "Array 2:\n",
            " [[ 7  8  9]\n",
            " [10 11 12]]\n",
            "\n",
            "Element-wise Addition:\n",
            " [[ 8 10 12]\n",
            " [14 16 18]]\n",
            "\n",
            "Element-wise Subtraction:\n",
            " [[-6 -6 -6]\n",
            " [-6 -6 -6]]\n",
            "\n",
            "Element-wise Multiplication:\n",
            " [[ 7 16 27]\n",
            " [40 55 72]]\n",
            "\n",
            "Element-wise Division:\n",
            " [[0.14285714 0.25       0.33333333]\n",
            " [0.4        0.45454545 0.5       ]]\n"
          ]
        }
      ]
    },
    {
      "cell_type": "markdown",
      "source": [
        "#8. Use NumPy to create a 5x5 identity matrix, then extract its diagonal elements"
      ],
      "metadata": {
        "id": "1mIRBLjF8S6h"
      }
    },
    {
      "cell_type": "code",
      "source": [
        "import numpy as np\n",
        "\n",
        "# Create a 5x5 identity matrix\n",
        "identity_matrix = np.eye(5)\n",
        "\n",
        "# Extract the diagonal elements\n",
        "diagonal_elements = np.diag(identity_matrix)\n",
        "\n",
        "print(\"5x5 Identity Matrix:\\n\", identity_matrix)\n",
        "print(\"\\nDiagonal Elements:\", diagonal_elements)\n"
      ],
      "metadata": {
        "colab": {
          "base_uri": "https://localhost:8080/"
        },
        "id": "tZbIvHsm8OMA",
        "outputId": "c79ad58b-26ca-4414-bbf9-a9ac9294fcca"
      },
      "execution_count": 25,
      "outputs": [
        {
          "output_type": "stream",
          "name": "stdout",
          "text": [
            "5x5 Identity Matrix:\n",
            " [[1. 0. 0. 0. 0.]\n",
            " [0. 1. 0. 0. 0.]\n",
            " [0. 0. 1. 0. 0.]\n",
            " [0. 0. 0. 1. 0.]\n",
            " [0. 0. 0. 0. 1.]]\n",
            "\n",
            "Diagonal Elements: [1. 1. 1. 1. 1.]\n"
          ]
        }
      ]
    },
    {
      "cell_type": "markdown",
      "source": [
        "#9. Generate a NumPy array of 100 random integers between 0 and 1000. Find and display all prime numbers in this array."
      ],
      "metadata": {
        "id": "nUpfOZeA8zu4"
      }
    },
    {
      "cell_type": "code",
      "source": [
        "import numpy as np\n",
        "\n",
        "# Function to check if a number is prime\n",
        "def is_prime(num):\n",
        "    if num < 2:\n",
        "        return False\n",
        "    for i in range(2, int(num**0.5) + 1):\n",
        "        if num % i == 0:\n",
        "            return False\n",
        "    return True\n",
        "\n",
        "# Generate a NumPy array of 100 random integers between 0 and 1000\n",
        "random_integers = np.random.randint(0, 1000, size=100)\n",
        "\n",
        "# Find all prime numbers in the array\n",
        "prime_numbers = [num for num in random_integers if is_prime(num)]\n",
        "\n",
        "print(\"Random Integers Array:\\n\", random_integers)\n",
        "print(\"\\nPrime Numbers in the Array:\", prime_numbers)\n"
      ],
      "metadata": {
        "colab": {
          "base_uri": "https://localhost:8080/"
        },
        "id": "yvhjuonu9L8t",
        "outputId": "52ead5e3-4a90-4aa8-a438-22b12d8fd31c"
      },
      "execution_count": 27,
      "outputs": [
        {
          "output_type": "stream",
          "name": "stdout",
          "text": [
            "Random Integers Array:\n",
            " [656 665 300 306 534  17 174 196  55 986 447 990 416 616 721 726 338 607\n",
            " 221 376 630 899 831 339 804 897 795 326 971 665   8 261 324 663 219 240\n",
            "  77 582 380 417 595 935 849 600 144 924 343 530 981 152 808 846 198 889\n",
            " 236 206 331 693 706 409 837 216 487  16 824 541 861 346  40 782 857 126\n",
            " 541 997 457 922 360 508 154 826 516 416 491 466 993 232 128 991 389 733\n",
            " 400 401 753 699 800 786 223 749 800 709]\n",
            "\n",
            "Prime Numbers in the Array: [17, 607, 971, 331, 409, 487, 541, 857, 541, 997, 457, 491, 991, 389, 733, 401, 223, 709]\n"
          ]
        }
      ]
    },
    {
      "cell_type": "markdown",
      "source": [
        "#10.Create a NumPy array representing daily temperatures for a month. Calculate and display the weekly averages."
      ],
      "metadata": {
        "id": "9cbi4V7l9uuI"
      }
    },
    {
      "cell_type": "code",
      "source": [
        "import numpy as np\n",
        "\n",
        "# Create a NumPy array representing daily temperatures for a month (30 days)\n",
        "# For example, let's use random temperatures between 25 and 45 degrees Celsius\n",
        "daily_temperatures = np.random.randint(25, 46, size=30)\n",
        "\n",
        "# Calculate weekly averages\n",
        "# We have 4 full weeks and 2 extra days\n",
        "weeks = daily_temperatures[:28].reshape(4, 7)  # First 28 days\n",
        "remaining_days = daily_temperatures[28:]  # Last 2 days\n",
        "\n",
        "# Calculate weekly averages for the full weeks\n",
        "weekly_averages = np.mean(weeks, axis=1)\n",
        "\n",
        "# Calculate average for the last 2 days (or you can choose to include them as a separate week)\n",
        "remaining_average = np.mean(remaining_days) if len(remaining_days) > 0 else 0\n",
        "\n",
        "print(\"Daily Temperatures for the Month (30 days):\\n\", daily_temperatures)\n",
        "print(\"\\nWeekly Averages for the First 4 Weeks:\\n\", weekly_averages)\n",
        "print(\"\\nAverage for Remaining Days:\\n\", remaining_average)\n"
      ],
      "metadata": {
        "colab": {
          "base_uri": "https://localhost:8080/"
        },
        "id": "i0216FpJ-xwV",
        "outputId": "2ba85b25-4917-4f72-aaad-235d6632131e"
      },
      "execution_count": 30,
      "outputs": [
        {
          "output_type": "stream",
          "name": "stdout",
          "text": [
            "Daily Temperatures for the Month (30 days):\n",
            " [25 33 35 31 25 28 44 34 41 35 31 35 42 37 39 39 39 36 42 34 44 41 45 38\n",
            " 35 35 43 31 27 42]\n",
            "\n",
            "Weekly Averages for the First 4 Weeks:\n",
            " [31.57142857 36.42857143 39.         38.28571429]\n",
            "\n",
            "Average for Remaining Days:\n",
            " 34.5\n"
          ]
        }
      ]
    },
    {
      "cell_type": "markdown",
      "source": [
        "Explanation:\n",
        "\n",
        "daily_temperatures[:28].reshape(4, 7): This takes the first 28 days and reshapes them into a 4x7 array.\n",
        "\n",
        "remaining_days = daily_temperatures[28:]: This captures the last 2 days of temperatures.\n",
        "\n",
        "Calculating averages: The average is calculated for the first four weeks, and the average for the remaining two days is calculated separately.\n",
        "\n",
        "Running this code will display the daily temperatures for the month, the weekly averages for the first four weeks, and the average for the remaining days.\n",
        "\n",
        "\n",
        "\n",
        "\n",
        "\n",
        "\n",
        "\n",
        "\n",
        "\n"
      ],
      "metadata": {
        "id": "Ne03SFo0_PgA"
      }
    },
    {
      "cell_type": "code",
      "source": [],
      "metadata": {
        "id": "RDtTByew_cpw"
      },
      "execution_count": null,
      "outputs": []
    }
  ]
}