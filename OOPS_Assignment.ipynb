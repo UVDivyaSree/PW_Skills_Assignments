{
  "nbformat": 4,
  "nbformat_minor": 0,
  "metadata": {
    "colab": {
      "provenance": []
    },
    "kernelspec": {
      "name": "python3",
      "display_name": "Python 3"
    },
    "language_info": {
      "name": "python"
    }
  },
  "cells": [
    {
      "cell_type": "markdown",
      "source": [
        "#1.What are the five key concepts of Object-Oriented Programming(OOP)?\n",
        "The five key concepts of Object-Oriented Programming (OOP):\n",
        "\n",
        "###1.Class\n",
        "A class is like a blueprint for creating objects (instances). It defines the attributes (properties) and methods (behaviors) that the objects created from the class will have. Think of a class as a template, and objects are the individual instances of that template.\n",
        "\n",
        "**Attributes**: These are variables that belong to the class and describe the object’s properties.\n",
        "Methods: Functions defined inside a class, which describe the behaviors of the objects.\n",
        "Example:\n",
        "```\n",
        "class Car:\n",
        "    def __init__(self, make, model, year):\n",
        "        self.make = make  # Attribute\n",
        "        self.model = model\n",
        "        self.year = year\n",
        "\n",
        "    def start_engine(self):  # Method\n",
        "        print(f\"{self.make} {self.model} engine started.\")\n",
        "```\n",
        "Here, Car is a class with attributes like make, model, and year, and a method start_engine() that prints a message when called.\n",
        "\n",
        "###2.Object\n",
        "An object is an instance of a class. When a class is defined, no memory is allocated until you create an object of that class. Objects allow us to work with the actual data stored in the class and perform actions using the methods defined within the class.\n",
        "\n",
        "**Instantiation**: The process of creating an object from a class is called instantiation.\n",
        "Example:\n",
        "```\n",
        "car1 = Car(\"Toyota\", \"Corolla\", 2020)  # Object of Car class\n",
        "car2 = Car(\"Honda\", \"Civic\", 2021)\n",
        "\n",
        "car1.start_engine()  # Output: Toyota Corolla engine started.\n",
        "```\n",
        "Here, car1 and car2 are objects created from the Car class, and they hold different values for the attributes.\n",
        "\n",
        "###3.Encapsulation\n",
        "Encapsulation is the concept of bundling the data (attributes) and methods (functions) that operate on the data into a single unit (class). It also involves restricting access to some of the object's components, meaning some attributes and methods can be hidden from external access. This is achieved using access modifiers like private (denoted by __) and public.\n",
        "\n",
        "**Private** **attributes**: Attributes that cannot be accessed directly outside the class and are prefixed with two underscores (__).\n",
        "Example:\n",
        "```\n",
        "class Car:\n",
        "    def __init__(self, make, model):\n",
        "        self.__make = make  # Private attribute\n",
        "        self.model = model  # Public attribute\n",
        "\n",
        "    def get_make(self):  # Getter for private attribute\n",
        "        return self.__make\n",
        "\n",
        "car1 = Car(\"Toyota\", \"Corolla\")\n",
        "print(car1.model)  # Output: Corolla\n",
        "print(car1.__make)  # Error: AttributeError, as __make is private\n",
        "print(car1.get_make())  # Output: Toyota\n",
        "```\n",
        "Encapsulation helps protect the integrity of the object’s data by preventing direct modifications.\n",
        "\n",
        "###4.Inheritance\n",
        "Inheritance is the ability of a class (child or derived class) to inherit properties and behaviors (attributes and methods) from another class (parent or base class). This allows for code reuse and makes the system easier to maintain and extend.\n",
        "\n",
        "**Parent** **Class**: The class whose properties are inherited.\n",
        "\n",
        "**Child** **Class**: The class that inherits from the parent class.\n",
        "Example:\n",
        "```\n",
        "class Vehicle:\n",
        "    def __init__(self, make, model):\n",
        "        self.make = make\n",
        "        self.model = model\n",
        "\n",
        "    def start_engine(self):\n",
        "        print(f\"{self.make} {self.model} engine started.\")\n",
        "\n",
        "class ElectricCar(Vehicle):  # Child class inheriting from Vehicle\n",
        "    def __init__(self, make, model, battery_size):\n",
        "        super().__init__(make, model)  # Calling the parent class's constructor\n",
        "        self.battery_size = battery_size\n",
        "\n",
        "    def charge_battery(self):\n",
        "        print(f\"Charging the {self.battery_size}kWh battery.\")\n",
        "\n",
        "car1 = ElectricCar(\"Tesla\", \"Model S\", 100)\n",
        "car1.start_engine()  # Output: Tesla Model S engine started.\n",
        "car1.charge_battery()  # Output: Charging the 100kWh battery.\n",
        "```\n",
        "In this example, ElectricCar inherits from Vehicle and adds new functionality with the charge_battery() method.\n",
        "\n",
        "###5.Polymorphism\n",
        "Polymorphism allows objects of different classes to be treated as objects of a common parent class. It also allows methods to be implemented differently in various classes. The term \"polymorphism\" means \"many forms,\" meaning the same function name can be used for different types of objects, enabling flexibility and reusability.\n",
        "\n",
        "**Method Overriding**: A child class can provide its specific implementation of a method that is already defined in the parent class.\n",
        "Example:\n",
        "```\n",
        "class Animal:\n",
        "    def make_sound(self):\n",
        "        pass\n",
        "\n",
        "class Dog(Animal):\n",
        "    def make_sound(self):\n",
        "        return \"Bark\"\n",
        "\n",
        "class Cat(Animal):\n",
        "    def make_sound(self):\n",
        "        return \"Meow\"\n",
        "\n",
        "# Polymorphism in action\n",
        "def animal_sound(animal):  # Takes an object of type Animal\n",
        "    print(animal.make_sound())\n",
        "\n",
        "dog = Dog()\n",
        "cat = Cat()\n",
        "\n",
        "animal_sound(dog)  # Output: Bark\n",
        "animal_sound(cat)  # Output: Meow\n",
        "```\n",
        "In this example, the method make_sound() is defined in the parent class Animal but overridden in the Dog and Cat classes. The function animal_sound() can accept objects of both Dog and Cat types and call the correct version of make_sound().\n",
        "\n"
      ],
      "metadata": {
        "id": "H-mcc1hJuaSC"
      }
    },
    {
      "cell_type": "code",
      "source": [
        "#class\n",
        "class Car:\n",
        "    def __init__(self, make, model, year):\n",
        "        self.make = make  # Attribute\n",
        "        self.model = model\n",
        "        self.year = year\n",
        "\n",
        "    def start_engine(self):  # Method\n",
        "        print(f\"{self.make} {self.model} engine started.\")\n"
      ],
      "metadata": {
        "id": "uG4rE58kw27s"
      },
      "execution_count": 1,
      "outputs": []
    },
    {
      "cell_type": "code",
      "source": [
        "#object\n",
        "car1 = Car(\"Toyota\", \"Corolla\", 2020)  # Object of Car class\n",
        "car2 = Car(\"Honda\", \"Civic\", 2021)\n",
        "\n",
        "car1.start_engine()  # Output: Toyota Corolla engine started.\n"
      ],
      "metadata": {
        "colab": {
          "base_uri": "https://localhost:8080/"
        },
        "id": "BzHVd5aqw3LS",
        "outputId": "688e1ccf-00d0-448e-ed18-1672d4e20925"
      },
      "execution_count": 2,
      "outputs": [
        {
          "output_type": "stream",
          "name": "stdout",
          "text": [
            "Toyota Corolla engine started.\n"
          ]
        }
      ]
    },
    {
      "cell_type": "code",
      "source": [
        "#Encapsulation\n",
        "class Car:\n",
        "    def __init__(self, make, model):\n",
        "        self.__make = make  # Private attribute\n",
        "        self.model = model  # Public attribute\n",
        "\n",
        "    def get_make(self):  # Getter for private attribute\n",
        "        return self.__make\n",
        "\n",
        "car1 = Car(\"Toyota\", \"Corolla\")\n",
        "print(car1.model)  # Output: Corolla\n",
        "print(car1.__make)  # Error: AttributeError, as __make is private\n",
        "print(car1.get_make())  # Output: Toyota\n"
      ],
      "metadata": {
        "colab": {
          "base_uri": "https://localhost:8080/",
          "height": 217
        },
        "id": "5WhLmp_Zw3Rr",
        "outputId": "d87c2e67-a010-4731-9792-77ff9285bfd8"
      },
      "execution_count": 3,
      "outputs": [
        {
          "output_type": "stream",
          "name": "stdout",
          "text": [
            "Corolla\n"
          ]
        },
        {
          "output_type": "error",
          "ename": "AttributeError",
          "evalue": "'Car' object has no attribute '__make'",
          "traceback": [
            "\u001b[0;31m---------------------------------------------------------------------------\u001b[0m",
            "\u001b[0;31mAttributeError\u001b[0m                            Traceback (most recent call last)",
            "\u001b[0;32m<ipython-input-3-085219129508>\u001b[0m in \u001b[0;36m<cell line: 12>\u001b[0;34m()\u001b[0m\n\u001b[1;32m     10\u001b[0m \u001b[0mcar1\u001b[0m \u001b[0;34m=\u001b[0m \u001b[0mCar\u001b[0m\u001b[0;34m(\u001b[0m\u001b[0;34m\"Toyota\"\u001b[0m\u001b[0;34m,\u001b[0m \u001b[0;34m\"Corolla\"\u001b[0m\u001b[0;34m)\u001b[0m\u001b[0;34m\u001b[0m\u001b[0;34m\u001b[0m\u001b[0m\n\u001b[1;32m     11\u001b[0m \u001b[0mprint\u001b[0m\u001b[0;34m(\u001b[0m\u001b[0mcar1\u001b[0m\u001b[0;34m.\u001b[0m\u001b[0mmodel\u001b[0m\u001b[0;34m)\u001b[0m  \u001b[0;31m# Output: Corolla\u001b[0m\u001b[0;34m\u001b[0m\u001b[0;34m\u001b[0m\u001b[0m\n\u001b[0;32m---> 12\u001b[0;31m \u001b[0mprint\u001b[0m\u001b[0;34m(\u001b[0m\u001b[0mcar1\u001b[0m\u001b[0;34m.\u001b[0m\u001b[0m__make\u001b[0m\u001b[0;34m)\u001b[0m  \u001b[0;31m# Error: AttributeError, as __make is private\u001b[0m\u001b[0;34m\u001b[0m\u001b[0;34m\u001b[0m\u001b[0m\n\u001b[0m\u001b[1;32m     13\u001b[0m \u001b[0mprint\u001b[0m\u001b[0;34m(\u001b[0m\u001b[0mcar1\u001b[0m\u001b[0;34m.\u001b[0m\u001b[0mget_make\u001b[0m\u001b[0;34m(\u001b[0m\u001b[0;34m)\u001b[0m\u001b[0;34m)\u001b[0m  \u001b[0;31m# Output: Toyota\u001b[0m\u001b[0;34m\u001b[0m\u001b[0;34m\u001b[0m\u001b[0m\n",
            "\u001b[0;31mAttributeError\u001b[0m: 'Car' object has no attribute '__make'"
          ]
        }
      ]
    },
    {
      "cell_type": "code",
      "source": [
        "#inheritence\n",
        "class Vehicle:\n",
        "    def __init__(self, make, model):\n",
        "        self.make = make\n",
        "        self.model = model\n",
        "\n",
        "    def start_engine(self):\n",
        "        print(f\"{self.make} {self.model} engine started.\")\n",
        "\n",
        "class ElectricCar(Vehicle):  # Child class inheriting from Vehicle\n",
        "    def __init__(self, make, model, battery_size):\n",
        "        super().__init__(make, model)  # Calling the parent class's constructor\n",
        "        self.battery_size = battery_size\n",
        "\n",
        "    def charge_battery(self):\n",
        "        print(f\"Charging the {self.battery_size}kWh battery.\")\n",
        "\n",
        "car1 = ElectricCar(\"Tesla\", \"Model S\", 100)\n",
        "car1.start_engine()  # Output: Tesla Model S engine started.\n",
        "car1.charge_battery()  # Output: Charging the 100kWh battery.\n"
      ],
      "metadata": {
        "colab": {
          "base_uri": "https://localhost:8080/"
        },
        "id": "WeNW1p_Iw3X6",
        "outputId": "85069a15-7d33-4799-8c52-23731124d960"
      },
      "execution_count": 4,
      "outputs": [
        {
          "output_type": "stream",
          "name": "stdout",
          "text": [
            "Tesla Model S engine started.\n",
            "Charging the 100kWh battery.\n"
          ]
        }
      ]
    },
    {
      "cell_type": "code",
      "source": [
        "#polymorphism\n",
        "class Animal:\n",
        "    def make_sound(self):\n",
        "        pass\n",
        "\n",
        "class Dog(Animal):\n",
        "    def make_sound(self):\n",
        "        return \"Bark\"\n",
        "\n",
        "class Cat(Animal):\n",
        "    def make_sound(self):\n",
        "        return \"Meow\"\n",
        "\n",
        "# Polymorphism in action\n",
        "def animal_sound(animal):  # Takes an object of type Animal\n",
        "    print(animal.make_sound())\n",
        "\n",
        "dog = Dog()\n",
        "cat = Cat()\n",
        "\n",
        "animal_sound(dog)  # Output: Bark\n",
        "animal_sound(cat)  # Output: Meow\n"
      ],
      "metadata": {
        "colab": {
          "base_uri": "https://localhost:8080/"
        },
        "id": "JMc9yQdixVFJ",
        "outputId": "c187e800-c562-484a-e183-8a133eb9d08f"
      },
      "execution_count": 5,
      "outputs": [
        {
          "output_type": "stream",
          "name": "stdout",
          "text": [
            "Bark\n",
            "Meow\n"
          ]
        }
      ]
    },
    {
      "cell_type": "markdown",
      "source": [
        "#2.Write a Python class for a 'Car' with attributes for 'make','model' and 'year'.Include a method to display the car's information.\n",
        "Here's a Python class for a Car with attributes make, model, and year, along with a method to display the car's information:\n",
        "```\n",
        "class Car:\n",
        "    def __init__(self, make, model, year):\n",
        "        # Initializing the attributes\n",
        "        self.make = make\n",
        "        self.model = model\n",
        "        self.year = year\n",
        "\n",
        "    def display_info(self):\n",
        "        # Method to display the car's information\n",
        "        print(f\"Car Info: {self.year} {self.make} {self.model}\")\n",
        "\n",
        "# Example usage:\n",
        "car1 = Car(\"Toyota\", \"Corolla\", 2020)\n",
        "car1.display_info()  # Output: Car Info: 2020 Toyota Corolla\n",
        "```\n",
        "**Explanation**:\n",
        "The __init__() method is a constructor that initializes the make, model, and year attributes when an object of the Car class is created.\n",
        "The display_info() method prints the car's information in a readable format."
      ],
      "metadata": {
        "id": "d0q8n3YivEa7"
      }
    },
    {
      "cell_type": "code",
      "source": [
        "class Car:\n",
        "    def __init__(self, make, model, year):\n",
        "        # Initializing the attributes\n",
        "        self.make = make\n",
        "        self.model = model\n",
        "        self.year = year\n",
        "\n",
        "    def display_info(self):\n",
        "        # Method to display the car's information\n",
        "        print(f\"Car Info: {self.year} {self.make} {self.model}\")\n",
        "\n",
        "# Example usage:\n",
        "car1 = Car(\"Toyota\", \"Corolla\", 2020)\n",
        "car1.display_info()  # Output: Car Info: 2020 Toyota Corolla"
      ],
      "metadata": {
        "colab": {
          "base_uri": "https://localhost:8080/"
        },
        "id": "7FKLdHCGxT60",
        "outputId": "e0f1b835-1bed-4fb2-fe1a-ed459e50341d"
      },
      "execution_count": 6,
      "outputs": [
        {
          "output_type": "stream",
          "name": "stdout",
          "text": [
            "Car Info: 2020 Toyota Corolla\n"
          ]
        }
      ]
    },
    {
      "cell_type": "markdown",
      "source": [
        "#3.Explain the difference between instance methods and class methods.provide an example of each.\n",
        "\n",
        "In Python, both instance methods and class methods are types of methods that can be defined within a class. However, they differ in how they are called and what they operate on. Here’s a detailed explanation of each, along with examples.\n",
        "\n",
        "#1. Instance Methods\n",
        "Instance methods are the most common type of method in a class. They operate on instances of the class (objects) and can access instance variables (attributes) and methods. They take the instance (usually named self) as the first parameter.\n",
        "\n",
        "###Characteristics:\n",
        "Can access and modify the object’s state (instance variables).\n",
        "Can call other instance methods.\n",
        "Defined normally using the def keyword.\n",
        "\n",
        "###Example:\n",
        "```\n",
        "class Dog:\n",
        "    def __init__(self, name, age):\n",
        "        self.name = name  # Instance variable\n",
        "        self.age = age    # Instance variable\n",
        "\n",
        "    def bark(self):\n",
        "        return f\"{self.name} says Woof!\"\n",
        "\n",
        "    def get_age(self):\n",
        "        return self.age\n",
        "\n",
        "# Usage\n",
        "dog = Dog(\"Buddy\", 3)\n",
        "print(dog.bark())      # Output: Buddy says Woof!\n",
        "print(dog.get_age())   # Output: 3\n",
        "```\n",
        "\n",
        "#2. Class Methods\n",
        "Class methods operate on the class itself rather than on instances of the class. They can be called on the class or on instances of the class. Class methods take the class (cls) as the first parameter. They are defined using the @classmethod decorator.\n",
        "\n",
        "###Characteristics:\n",
        "Can access class variables (attributes shared among all instances).\n",
        "Cannot modify instance-specific data unless an instance is created within the method.\n",
        "Useful for factory methods that create instances of the class.\n",
        "Example:\n",
        "```\n",
        "class Dog:\n",
        "    species = \"Canis familiaris\"  # Class variable\n",
        "\n",
        "    def __init__(self, name, age):\n",
        "        self.name = name\n",
        "        self.age = age\n",
        "\n",
        "    @classmethod\n",
        "    def get_species(cls):\n",
        "        return cls.species\n",
        "\n",
        "# Usage\n",
        "print(Dog.get_species())  # Output: Canis familiaris\n",
        "```\n",
        "\n",
        "#Summary of Differences:\n",
        "\n",
        "1.Instance methods and class methods are two types of methods in Python that serve different purposes within a class.\n",
        "\n",
        "2.Instance methods take self as the first parameter, allowing them to access and modify instance variables specific to an object. They are called on instances of the class and are primarily used to operate on instance-specific data. In contrast, class methods take cls as the first parameter, enabling them to access and modify class variables shared across all instances.\n",
        "\n",
        "3.Class methods are called on the class itself or its instances and are often used for operations related to class-level data or for factory methods.\n",
        "\n",
        "\n",
        "\n",
        "\n",
        "\n",
        "\n",
        "\n",
        "\n",
        "#Conclusion:\n",
        "\n",
        "Instance methods and class methods serve different purposes in a class. Instance methods are used for operations related to a specific object, while class methods are used for operations that pertain to the class as a whole. Understanding these differences helps in designing classes and methods effectively in Python."
      ],
      "metadata": {
        "id": "7sFFetuax-95"
      }
    },
    {
      "cell_type": "code",
      "source": [
        "class Dog:\n",
        "    def __init__(self, name, age):\n",
        "        self.name = name  # Instance variable\n",
        "        self.age = age    # Instance variable\n",
        "\n",
        "    def bark(self):\n",
        "        return f\"{self.name} says Woof!\"\n",
        "\n",
        "    def get_age(self):\n",
        "        return self.age\n",
        "\n",
        "# Usage\n",
        "dog = Dog(\"Buddy\", 3)\n",
        "print(dog.bark())      # Output: Buddy says Woof!\n",
        "print(dog.get_age())   # Output: 3\n"
      ],
      "metadata": {
        "colab": {
          "base_uri": "https://localhost:8080/"
        },
        "id": "tlL6NZ0YJ-k2",
        "outputId": "af3fa056-00b4-4c55-8da1-3185c5390b97"
      },
      "execution_count": 26,
      "outputs": [
        {
          "output_type": "stream",
          "name": "stdout",
          "text": [
            "Buddy says Woof!\n",
            "3\n"
          ]
        }
      ]
    },
    {
      "cell_type": "code",
      "source": [
        "class Dog:\n",
        "    species = \"Canis familiaris\"  # Class variable\n",
        "\n",
        "    def __init__(self, name, age):\n",
        "        self.name = name\n",
        "        self.age = age\n",
        "\n",
        "    @classmethod\n",
        "    def get_species(cls):\n",
        "        return cls.species\n",
        "\n",
        "# Usage\n",
        "print(Dog.get_species())  # Output: Canis familiaris\n"
      ],
      "metadata": {
        "colab": {
          "base_uri": "https://localhost:8080/"
        },
        "id": "LzpqDnFQJ_B_",
        "outputId": "8422c5df-33fb-4451-c61a-3d0cc219124d"
      },
      "execution_count": 27,
      "outputs": [
        {
          "output_type": "stream",
          "name": "stdout",
          "text": [
            "Canis familiaris\n"
          ]
        }
      ]
    },
    {
      "cell_type": "markdown",
      "source": [
        "#4.How does Python implement method overloading?Give an example.\n",
        "\n",
        "In Python, method overloading is not implemented in the same way as in some other programming languages like Java or C++. In those languages, you can define multiple methods with the same name but different parameter lists. Python does not support this directly because it allows only one method definition for a given name in a class.\n",
        "\n",
        "###How Python Handles Method Overloading\n",
        "Instead of traditional method overloading, Python achieves similar functionality through:\n",
        "\n",
        "1.Default Arguments: You can provide default values for parameters, allowing the method to be called with a varying number of arguments.\n",
        "\n",
        "2.Variable-length Arguments: Using *args and **kwargs allows you to accept a variable number of positional and keyword arguments, respectively.\n",
        "\n",
        "3.Checking Argument Types: Inside a single method, you can check the types or the number of arguments to perform different actions based on the input.\n",
        "\n",
        "###Example of Method Overloading using Default Arguments and Type Checking\n",
        "Here's an example demonstrating these concepts:\n",
        "```\n",
        "class MathOperations:\n",
        "    def add(self, a, b=0, c=0):\n",
        "        \"\"\"Adds two or three numbers.\"\"\"\n",
        "        return a + b + c\n",
        "\n",
        "# Example usage\n",
        "math_op = MathOperations()\n",
        "\n",
        "# Calling with two arguments\n",
        "result1 = math_op.add(5, 10)       # 5 + 10 + 0 = 15\n",
        "print(f\"Result of add(5, 10): {result1}\")  # Output: 15\n",
        "\n",
        "# Calling with three arguments\n",
        "result2 = math_op.add(5, 10, 15)   # 5 + 10 + 15 = 30\n",
        "print(f\"Result of add(5, 10, 15): {result2}\")  # Output: 30\n",
        "\n",
        "# Calling with one argument\n",
        "result3 = math_op.add(5)           # 5 + 0 + 0 = 5\n",
        "print(f\"Result of add(5): {result3}\")  # Output: 5\n",
        "```\n",
        "###Explanation:\n",
        "1.Method Definition:\n",
        "\n",
        "The add method can take one, two, or three arguments. The second and third arguments have default values of 0, allowing the method to be called with fewer than three arguments.\n",
        "\n",
        "2.Method Calls:\n",
        "\n",
        "add(5, 10) adds two numbers (5 and 10).\n",
        "\n",
        "add(5, 10, 15) adds three numbers (5, 10, and 15).\n",
        "\n",
        "add(5) only adds one number (5) and uses the default values for the other two.\n",
        "\n",
        "###Example of Variable-length Arguments\n",
        "You can also use variable-length arguments to achieve overloading-like behavior:\n",
        "\n",
        "```\n",
        "class MathOperations:\n",
        "    def add(self, *args):\n",
        "        \"\"\"Adds any number of numbers.\"\"\"\n",
        "        return sum(args)\n",
        "\n",
        "# Example usage\n",
        "math_op = MathOperations()\n",
        "\n",
        "# Calling with two arguments\n",
        "result1 = math_op.add(5, 10)            # 5 + 10 = 15\n",
        "print(f\"Result of add(5, 10): {result1}\")  # Output: 15\n",
        "\n",
        "# Calling with three arguments\n",
        "result2 = math_op.add(5, 10, 15)        # 5 + 10 + 15 = 30\n",
        "print(f\"Result of add(5, 10, 15): {result2}\")  # Output: 30\n",
        "\n",
        "# Calling with more arguments\n",
        "result3 = math_op.add(1, 2, 3, 4, 5)    # 1 + 2 + 3 + 4 + 5 = 15\n",
        "print(f\"Result of add(1, 2, 3, 4, 5): {result3}\")  # Output: 15\n",
        "```\n",
        "\n",
        "###Conclusion:\n",
        "\n",
        "While Python does not support method overloading in the traditional sense, you can achieve similar behavior through default arguments, variable-length arguments, and type checking within a single method. This flexibility allows for cleaner code without needing to define multiple methods with the same name."
      ],
      "metadata": {
        "id": "aGhvTPaYyPdU"
      }
    },
    {
      "cell_type": "code",
      "source": [
        "class MathOperations:\n",
        "    def add(self, a, b=0, c=0):\n",
        "        \"\"\"Adds two or three numbers.\"\"\"\n",
        "        return a + b + c\n",
        "\n",
        "# Example usage\n",
        "math_op = MathOperations()\n",
        "\n",
        "# Calling with two arguments\n",
        "result1 = math_op.add(5, 10)       # 5 + 10 + 0 = 15\n",
        "print(f\"Result of add(5, 10): {result1}\")  # Output: 15\n",
        "\n",
        "# Calling with three arguments\n",
        "result2 = math_op.add(5, 10, 15)   # 5 + 10 + 15 = 30\n",
        "print(f\"Result of add(5, 10, 15): {result2}\")  # Output: 30\n",
        "\n",
        "# Calling with one argument\n",
        "result3 = math_op.add(5)           # 5 + 0 + 0 = 5\n",
        "print(f\"Result of add(5): {result3}\")  # Output: 5\n"
      ],
      "metadata": {
        "colab": {
          "base_uri": "https://localhost:8080/"
        },
        "id": "wWZusykLKCIN",
        "outputId": "4d6fa294-01a2-4eef-bea7-7ea1b577a445"
      },
      "execution_count": 24,
      "outputs": [
        {
          "output_type": "stream",
          "name": "stdout",
          "text": [
            "Result of add(5, 10): 15\n",
            "Result of add(5, 10, 15): 30\n",
            "Result of add(5): 5\n"
          ]
        }
      ]
    },
    {
      "cell_type": "code",
      "source": [
        "class MathOperations:\n",
        "    def add(self, a, b=0, c=0):\n",
        "        \"\"\"Adds two or three numbers.\"\"\"\n",
        "        return a + b + c\n",
        "\n",
        "# Example usage\n",
        "math_op = MathOperations()\n",
        "\n",
        "# Calling with two arguments\n",
        "result1 = math_op.add(5, 10)       # 5 + 10 + 0 = 15\n",
        "print(f\"Result of add(5, 10): {result1}\")  # Output: 15\n",
        "\n",
        "# Calling with three arguments\n",
        "result2 = math_op.add(5, 10, 15)   # 5 + 10 + 15 = 30\n",
        "print(f\"Result of add(5, 10, 15): {result2}\")  # Output: 30\n",
        "\n",
        "# Calling with one argument\n",
        "result3 = math_op.add(5)           # 5 + 0 + 0 = 5\n",
        "print(f\"Result of add(5): {result3}\")  # Output: 5\n"
      ],
      "metadata": {
        "colab": {
          "base_uri": "https://localhost:8080/"
        },
        "id": "9GQv8giiKB-m",
        "outputId": "03987702-8f22-4012-d3c5-9a483cb7c21c"
      },
      "execution_count": 25,
      "outputs": [
        {
          "output_type": "stream",
          "name": "stdout",
          "text": [
            "Result of add(5, 10): 15\n",
            "Result of add(5, 10, 15): 30\n",
            "Result of add(5): 5\n"
          ]
        }
      ]
    },
    {
      "cell_type": "markdown",
      "source": [
        "#5.What are the three types of access modifiers in Python?How are they denoted?\n",
        "\n",
        "In Python, access modifiers control the visibility and accessibility of class attributes and methods. They determine how and where these members can be accessed in code. Python has three primary types of access modifiers:\n",
        "\n",
        "###1. Public\n",
        "Description: Public members (attributes and methods) are accessible from anywhere in the code. They can be accessed directly by the class instances and also from outside the class.\n",
        "\n",
        "Denotation: Public members do not have any special prefix.\n",
        "\n",
        "###Example:\n",
        "```\n",
        "class MyClass:\n",
        "    def __init__(self):\n",
        "        self.public_attribute = \"I am public\"\n",
        "\n",
        "    def public_method(self):\n",
        "        return \"This is a public method\"\n",
        "\n",
        "# Usage\n",
        "obj = MyClass()\n",
        "print(obj.public_attribute)  # Output: I am public\n",
        "print(obj.public_method())    # Output: This is a public method\n",
        "```\n",
        "\n",
        "###2. Protected\n",
        "Description: Protected members are intended to be accessible within the class itself and by subclasses. They are not meant to be accessed directly from outside the class hierarchy.\n",
        "\n",
        "Denotation: Protected members are prefixed with a single underscore (_).\n",
        "\n",
        "###Example:\n",
        "```\n",
        "class BaseClass:\n",
        "    def __init__(self):\n",
        "        self._protected_attribute = \"I am protected\"\n",
        "\n",
        "class DerivedClass(BaseClass):\n",
        "    def access_protected(self):\n",
        "        return self._protected_attribute\n",
        "\n",
        "# Usage\n",
        "obj = DerivedClass()\n",
        "print(obj.access_protected())  # Output: I am protected\n",
        "# Direct access (not recommended):\n",
        "print(obj._protected_attribute)  # Output: I am protected\n",
        "```\n",
        "\n",
        "###3. Private\n",
        "Description: Private members are intended to be accessible only within the class they are defined. They cannot be accessed from outside the class, even by subclasses. This is used to enforce encapsulation.\n",
        "\n",
        "Denotation: Private members are prefixed with double underscores (__).\n",
        "\n",
        "###Example:\n",
        "```\n",
        "class MyClass:\n",
        "    def __init__(self):\n",
        "        self.__private_attribute = \"I am private\"\n",
        "\n",
        "    def get_private_attribute(self):\n",
        "        return self.__private_attribute\n",
        "\n",
        "# Usage\n",
        "obj = MyClass()\n",
        "print(obj.get_private_attribute())  # Output: I am private\n",
        "# Direct access will raise an AttributeError\n",
        "# print(obj.__private_attribute)  # Uncommenting this will raise an error\n",
        "```\n",
        "\n",
        "###Conclusion\n",
        "\n",
        "Public: Accessible from anywhere; no prefix.\n",
        "\n",
        "Protected: Accessible within the class and its subclasses; prefixed with a single underscore.\n",
        "\n",
        "Private: Accessible only within the defining class; prefixed with double underscores.\n",
        "\n",
        "These access modifiers help in maintaining data encapsulation and hiding the internal state of an object, which is a fundamental principle of object-oriented programming."
      ],
      "metadata": {
        "id": "EYYB1vkLyYEK"
      }
    },
    {
      "cell_type": "code",
      "source": [
        "class MyClass:\n",
        "    def __init__(self):\n",
        "        self.public_attribute = \"I am public\"\n",
        "\n",
        "    def public_method(self):\n",
        "        return \"This is a public method\"\n",
        "\n",
        "# Usage\n",
        "obj = MyClass()\n",
        "print(obj.public_attribute)  # Output: I am public\n",
        "print(obj.public_method())    # Output: This is a public method\n"
      ],
      "metadata": {
        "colab": {
          "base_uri": "https://localhost:8080/"
        },
        "id": "DBMS6fTuGaJR",
        "outputId": "186faa91-7eba-45c9-a77e-bd43a7cf1cff"
      },
      "execution_count": 21,
      "outputs": [
        {
          "output_type": "stream",
          "name": "stdout",
          "text": [
            "I am public\n",
            "This is a public method\n"
          ]
        }
      ]
    },
    {
      "cell_type": "code",
      "source": [
        "class BaseClass:\n",
        "    def __init__(self):\n",
        "        self._protected_attribute = \"I am protected\"\n",
        "\n",
        "class DerivedClass(BaseClass):\n",
        "    def access_protected(self):\n",
        "        return self._protected_attribute\n",
        "\n",
        "# Usage\n",
        "obj = DerivedClass()\n",
        "print(obj.access_protected())  # Output: I am protected\n",
        "# Direct access (not recommended):\n",
        "print(obj._protected_attribute)  # Output: I am protected\n"
      ],
      "metadata": {
        "colab": {
          "base_uri": "https://localhost:8080/"
        },
        "id": "M-19PP1JGadK",
        "outputId": "d422a99a-6b55-4f60-f43e-9437c4e45e1c"
      },
      "execution_count": 22,
      "outputs": [
        {
          "output_type": "stream",
          "name": "stdout",
          "text": [
            "I am protected\n",
            "I am protected\n"
          ]
        }
      ]
    },
    {
      "cell_type": "code",
      "source": [
        "class MyClass:\n",
        "    def __init__(self):\n",
        "        self.__private_attribute = \"I am private\"\n",
        "\n",
        "    def get_private_attribute(self):\n",
        "        return self.__private_attribute\n",
        "\n",
        "# Usage\n",
        "obj = MyClass()\n",
        "print(obj.get_private_attribute())  # Output: I am private\n",
        "# Direct access will raise an AttributeError\n",
        "# print(obj.__private_attribute)  # Uncommenting this will raise an error\n"
      ],
      "metadata": {
        "colab": {
          "base_uri": "https://localhost:8080/"
        },
        "id": "s-V0oP4hGahb",
        "outputId": "627fb2fc-9b00-4ee8-db55-9dab573f63f6"
      },
      "execution_count": 23,
      "outputs": [
        {
          "output_type": "stream",
          "name": "stdout",
          "text": [
            "I am private\n"
          ]
        }
      ]
    },
    {
      "cell_type": "markdown",
      "source": [
        "#6.Describe the five types of inheritence in Python.Provide a simple example of multiple inheritence.\n",
        "\n",
        "In Python, inheritance allows a class (child or subclass) to inherit attributes and methods from another class (parent or superclass). There are several types of inheritance, each serving different purposes in object-oriented programming. Here are the five main types of inheritance in Python:\n",
        "\n",
        "###1. Single Inheritance\n",
        "In single inheritance, a class (subclass) inherits from a single parent class. This is the simplest form of inheritance.\n",
        "\n",
        "###Example:\n",
        "```\n",
        "class Animal:\n",
        "    def speak(self):\n",
        "        return \"Animal speaks\"\n",
        "\n",
        "class Dog(Animal):\n",
        "    def bark(self):\n",
        "        return \"Dog barks\"\n",
        "\n",
        "# Usage\n",
        "dog = Dog()\n",
        "print(dog.speak())  # Output: Animal speaks\n",
        "print(dog.bark())   # Output: Dog barks\n",
        "```\n",
        "\n",
        "###2. Multiple Inheritance\n",
        "In multiple inheritance, a class can inherit from more than one parent class. This allows the subclass to inherit attributes and methods from multiple sources.\n",
        "\n",
        "###Example:\n",
        "```\n",
        "class Vehicle:\n",
        "    def start(self):\n",
        "        return \"Vehicle starts\"\n",
        "\n",
        "class Engine:\n",
        "    def run(self):\n",
        "        return \"Engine runs\"\n",
        "\n",
        "class Car(Vehicle, Engine):\n",
        "    def drive(self):\n",
        "        return \"Car drives\"\n",
        "\n",
        "# Usage\n",
        "car = Car()\n",
        "print(car.start())  # Output: Vehicle starts\n",
        "print(car.run())    # Output: Engine runs\n",
        "print(car.drive())  # Output: Car drives\n",
        "```\n",
        "\n",
        "###3. Multilevel Inheritance\n",
        "In multilevel inheritance, a class can inherit from another class, forming a chain. The derived class can inherit attributes and methods from the parent class, and also act as a parent class for another class.\n",
        "\n",
        "###Example:\n",
        "```\n",
        "class Animal:\n",
        "    def speak(self):\n",
        "        return \"Animal speaks\"\n",
        "\n",
        "class Dog(Animal):\n",
        "    def bark(self):\n",
        "        return \"Dog barks\"\n",
        "\n",
        "class Puppy(Dog):\n",
        "    def weep(self):\n",
        "        return \"Puppy weeps\"\n",
        "\n",
        "# Usage\n",
        "puppy = Puppy()\n",
        "print(puppy.speak())  # Output: Animal speaks\n",
        "print(puppy.bark())   # Output: Dog barks\n",
        "print(puppy.weep())   # Output: Puppy weeps\n",
        "```\n",
        "\n",
        "###4. Hierarchical Inheritance\n",
        "In hierarchical inheritance, multiple subclasses inherit from a single parent class. This allows multiple classes to share the same base class.\n",
        "\n",
        "###Example:\n",
        "```\n",
        "class Animal:\n",
        "    def speak(self):\n",
        "        return \"Animal speaks\"\n",
        "\n",
        "class Dog(Animal):\n",
        "    def bark(self):\n",
        "        return \"Dog barks\"\n",
        "\n",
        "class Cat(Animal):\n",
        "    def meow(self):\n",
        "        return \"Cat meows\"\n",
        "\n",
        "# Usage\n",
        "dog = Dog()\n",
        "cat = Cat()\n",
        "print(dog.speak())  # Output: Animal speaks\n",
        "print(cat.speak())   # Output: Animal speaks\n",
        "print(dog.bark())    # Output: Dog barks\n",
        "print(cat.meow())    # Output: Cat meows\n",
        "```\n",
        "\n",
        "###5. Hybrid Inheritance\n",
        "Hybrid inheritance is a combination of two or more types of inheritance. It can involve multiple inheritance, multilevel inheritance, etc. Hybrid inheritance can lead to complex relationships among classes.\n",
        "\n",
        "###Example:\n",
        "```\n",
        "class Vehicle:\n",
        "    def start(self):\n",
        "        return \"Vehicle starts\"\n",
        "\n",
        "class Engine:\n",
        "    def run(self):\n",
        "        return \"Engine runs\"\n",
        "\n",
        "class Car(Vehicle):\n",
        "    def drive(self):\n",
        "        return \"Car drives\"\n",
        "\n",
        "class HybridCar(Car, Engine):\n",
        "    def eco_mode(self):\n",
        "        return \"Hybrid car is in eco mode\"\n",
        "\n",
        "# Usage\n",
        "hybrid_car = HybridCar()\n",
        "print(hybrid_car.start())  # Output: Vehicle starts\n",
        "print(hybrid_car.drive())   # Output: Car drives\n",
        "print(hybrid_car.run())     # Output: Engine runs\n",
        "print(hybrid_car.eco_mode()) # Output: Hybrid car is in eco mode\n",
        "```\n",
        "\n",
        "###Conclusion:\n",
        "\n",
        "These five types of inheritance allow for different designs and relationships in object-oriented programming. Understanding the distinctions between them helps in creating flexible and reusable code. In particular, multiple inheritance can be powerful, but it also requires careful management of method resolution order (MRO) to avoid ambiguity and maintain clarity in your code.\n",
        "\n",
        "\n",
        "\n",
        "\n",
        "\n",
        "\n"
      ],
      "metadata": {
        "id": "qLewAzXlyhnh"
      }
    },
    {
      "cell_type": "code",
      "source": [
        "#single inheritence\n",
        "class Animal:\n",
        "    def speak(self):\n",
        "        return \"Animal speaks\"\n",
        "\n",
        "class Dog(Animal):\n",
        "    def bark(self):\n",
        "        return \"Dog barks\"\n",
        "\n",
        "# Usage\n",
        "dog = Dog()\n",
        "print(dog.speak())  # Output: Animal speaks\n",
        "print(dog.bark())   # Output: Dog barks\n"
      ],
      "metadata": {
        "colab": {
          "base_uri": "https://localhost:8080/"
        },
        "id": "3ekH3lfTFC25",
        "outputId": "5b07db42-4d59-4065-f80a-fd337cb1f2ec"
      },
      "execution_count": 16,
      "outputs": [
        {
          "output_type": "stream",
          "name": "stdout",
          "text": [
            "Animal speaks\n",
            "Dog barks\n"
          ]
        }
      ]
    },
    {
      "cell_type": "code",
      "source": [
        "#multiple inheritence\n",
        "class Vehicle:\n",
        "    def start(self):\n",
        "        return \"Vehicle starts\"\n",
        "\n",
        "class Engine:\n",
        "    def run(self):\n",
        "        return \"Engine runs\"\n",
        "\n",
        "class Car(Vehicle, Engine):\n",
        "    def drive(self):\n",
        "        return \"Car drives\"\n",
        "\n",
        "# Usage\n",
        "car = Car()\n",
        "print(car.start())  # Output: Vehicle starts\n",
        "print(car.run())    # Output: Engine runs\n",
        "print(car.drive())  # Output: Car drives\n"
      ],
      "metadata": {
        "colab": {
          "base_uri": "https://localhost:8080/"
        },
        "id": "lGeh1yRFFD2a",
        "outputId": "8e64684c-db6a-499c-97d0-9c2e7f641a1d"
      },
      "execution_count": 17,
      "outputs": [
        {
          "output_type": "stream",
          "name": "stdout",
          "text": [
            "Vehicle starts\n",
            "Engine runs\n",
            "Car drives\n"
          ]
        }
      ]
    },
    {
      "cell_type": "code",
      "source": [
        "#multilevel inheritence\n",
        "class Animal:\n",
        "    def speak(self):\n",
        "        return \"Animal speaks\"\n",
        "\n",
        "class Dog(Animal):\n",
        "    def bark(self):\n",
        "        return \"Dog barks\"\n",
        "\n",
        "class Puppy(Dog):\n",
        "    def weep(self):\n",
        "        return \"Puppy weeps\"\n",
        "\n",
        "# Usage\n",
        "puppy = Puppy()\n",
        "print(puppy.speak())  # Output: Animal speaks\n",
        "print(puppy.bark())   # Output: Dog barks\n",
        "print(puppy.weep())   # Output: Puppy weeps\n"
      ],
      "metadata": {
        "colab": {
          "base_uri": "https://localhost:8080/"
        },
        "id": "coyyhD6JFD-Q",
        "outputId": "cb779740-548c-4fe3-b928-a9a1916c9c6e"
      },
      "execution_count": 18,
      "outputs": [
        {
          "output_type": "stream",
          "name": "stdout",
          "text": [
            "Animal speaks\n",
            "Dog barks\n",
            "Puppy weeps\n"
          ]
        }
      ]
    },
    {
      "cell_type": "code",
      "source": [
        "#hierarchial inheritence\n",
        "class Animal:\n",
        "    def speak(self):\n",
        "        return \"Animal speaks\"\n",
        "\n",
        "class Dog(Animal):\n",
        "    def bark(self):\n",
        "        return \"Dog barks\"\n",
        "\n",
        "class Cat(Animal):\n",
        "    def meow(self):\n",
        "        return \"Cat meows\"\n",
        "\n",
        "# Usage\n",
        "dog = Dog()\n",
        "cat = Cat()\n",
        "print(dog.speak())  # Output: Animal speaks\n",
        "print(cat.speak())   # Output: Animal speaks\n",
        "print(dog.bark())    # Output: Dog barks\n",
        "print(cat.meow())    # Output: Cat meows\n"
      ],
      "metadata": {
        "colab": {
          "base_uri": "https://localhost:8080/"
        },
        "id": "FCACCWYGFEFZ",
        "outputId": "3d946755-89a8-479b-b624-fa64b2e93065"
      },
      "execution_count": 19,
      "outputs": [
        {
          "output_type": "stream",
          "name": "stdout",
          "text": [
            "Animal speaks\n",
            "Animal speaks\n",
            "Dog barks\n",
            "Cat meows\n"
          ]
        }
      ]
    },
    {
      "cell_type": "code",
      "source": [
        "#hybrid inheritence\n",
        "class Vehicle:\n",
        "    def start(self):\n",
        "        return \"Vehicle starts\"\n",
        "\n",
        "class Engine:\n",
        "    def run(self):\n",
        "        return \"Engine runs\"\n",
        "\n",
        "class Car(Vehicle):\n",
        "    def drive(self):\n",
        "        return \"Car drives\"\n",
        "\n",
        "class HybridCar(Car, Engine):\n",
        "    def eco_mode(self):\n",
        "        return \"Hybrid car is in eco mode\"\n",
        "\n",
        "# Usage\n",
        "hybrid_car = HybridCar()\n",
        "print(hybrid_car.start())  # Output: Vehicle starts\n",
        "print(hybrid_car.drive())   # Output: Car drives\n",
        "print(hybrid_car.run())     # Output: Engine runs\n",
        "print(hybrid_car.eco_mode()) # Output: Hybrid car is in eco mode\n"
      ],
      "metadata": {
        "colab": {
          "base_uri": "https://localhost:8080/"
        },
        "id": "Y6pCOv3aFEMS",
        "outputId": "78df25ed-e54b-4679-b275-ead5f5e6cd29"
      },
      "execution_count": 20,
      "outputs": [
        {
          "output_type": "stream",
          "name": "stdout",
          "text": [
            "Vehicle starts\n",
            "Car drives\n",
            "Engine runs\n",
            "Hybrid car is in eco mode\n"
          ]
        }
      ]
    },
    {
      "cell_type": "markdown",
      "source": [
        "#7.What is the Method Resolution Order(MRO) in Python?How can you retrieve it programmatically?\n",
        "\n",
        "**Method Resolution Order (MRO) in Python**\n",
        "\n",
        "Method Resolution Order (MRO) is the order in which Python looks for a method or attribute in a hierarchy of classes when dealing with inheritance, especially in multiple inheritance scenarios. MRO defines the sequence of classes that Python traverses to find the method being called. Understanding MRO is crucial to avoiding ambiguity in method calls and to understanding how attributes are resolved in an inheritance hierarchy.\n",
        "\n",
        "**How MRO Works**\n",
        "\n",
        "When you call a method on an instance of a class, Python searches for that method in the following order:\n",
        "\n",
        "1.The class of the instance itself.\n",
        "\n",
        "2.The parent classes in the order they are inherited.\n",
        "\n",
        "3.If a parent class also has its own parent (i.e., a grandparent), Python will continue to check those in the order defined by the class hierarchy.\n",
        "\n",
        "In the case of multiple inheritance, Python uses the C3 linearization algorithm to determine the MRO, ensuring a consistent and predictable order.\n",
        "\n",
        "**Example of MRO**\n",
        "\n",
        "Here’s a simple example to illustrate MRO:\n",
        "```\n",
        "class A:\n",
        "    def show(self):\n",
        "        print(\"A's show() method\")\n",
        "\n",
        "class B(A):\n",
        "    def show(self):\n",
        "        print(\"B's show() method\")\n",
        "\n",
        "class C(A):\n",
        "    def show(self):\n",
        "        print(\"C's show() method\")\n",
        "\n",
        "class D(B, C):\n",
        "    pass\n",
        "\n",
        "# Creating an instance of D\n",
        "d = D()\n",
        "d.show()  # This will call the show() method\n",
        "\n",
        "# Retrieve the MRO for class D\n",
        "print(D.__mro__)  # Output: (<class '__main__.D'>, <class '__main__.B'>, <class '__main__.C'>, <class '__main__.A'>, <class 'object'>)\n",
        "```\n",
        "###Output:\n",
        "```\n",
        "\n",
        "B's show() method\n",
        "(<class '__main__.D'>, <class '__main__.B'>, <class '__main__.C'>, <class '__main__.A'>, <class 'object'>)\n",
        "```\n",
        "\n",
        "###Explanation:\n",
        "1.Method Call:\n",
        "\n",
        "When d.show() is called, Python first checks class D for the show() method. Since D does not have its own show() method, it looks in the MRO.\n",
        "\n",
        "According to the MRO, the next class checked is B, which has the show() method, so \"B's show() method\" is printed.\n",
        "\n",
        "2.Retrieving MRO:\n",
        "\n",
        "You can retrieve the MRO for any class using the __mro__ attribute or by calling the mro() method:\n",
        "\n",
        "D.__mro__ gives you a tuple containing the classes in the order they are searched.\n",
        "\n",
        "Alternatively, D.mro() can also be called to get the same result.\n",
        "\n",
        "###Conclusion:\n",
        "MRO in Python helps determine the order in which classes are searched for methods and attributes in a hierarchy, especially important in multiple inheritance scenarios. It provides a systematic approach to resolving method calls and can be retrieved programmatically using __mro__ or mro(). Understanding MRO is crucial for debugging and writing effective Python code, especially in complex class hierarchies.\n",
        "\n",
        "\n",
        "\n",
        "\n",
        "\n",
        "\n"
      ],
      "metadata": {
        "id": "i_6xEjW_ywkR"
      }
    },
    {
      "cell_type": "code",
      "source": [
        "class A:\n",
        "    def show(self):\n",
        "        print(\"A's show() method\")\n",
        "\n",
        "class B(A):\n",
        "    def show(self):\n",
        "        print(\"B's show() method\")\n",
        "\n",
        "class C(A):\n",
        "    def show(self):\n",
        "        print(\"C's show() method\")\n",
        "\n",
        "class D(B, C):\n",
        "    pass\n",
        "\n",
        "# Creating an instance of D\n",
        "d = D()\n",
        "d.show()  # This will call the show() method\n",
        "\n",
        "# Retrieve the MRO for class D\n",
        "print(D.__mro__)  # Output: (<class '__main__.D'>, <class '__main__.B'>, <class '__main__.C'>, <class '__main__.A'>, <class 'object'>)\n"
      ],
      "metadata": {
        "colab": {
          "base_uri": "https://localhost:8080/"
        },
        "id": "q8cjZz5UELTq",
        "outputId": "ef6177f9-01b9-45c0-a9e4-28ed4d6fa7fa"
      },
      "execution_count": 15,
      "outputs": [
        {
          "output_type": "stream",
          "name": "stdout",
          "text": [
            "B's show() method\n",
            "(<class '__main__.D'>, <class '__main__.B'>, <class '__main__.C'>, <class '__main__.A'>, <class 'object'>)\n"
          ]
        }
      ]
    },
    {
      "cell_type": "markdown",
      "source": [
        "#8.Create an abstract base class 'Shape' with an abstract method 'area()'.Then create two subclasses 'Circle' and 'Rectangle' that implements the 'area()' method.\n",
        "\n",
        "To create an abstract base class in Python, you can use the abc module, which provides the infrastructure for defining Abstract Base Classes (ABCs). Here's how you can implement an abstract base class Shape with an abstract method area(), and then create two subclasses Circle and Rectangle that implement this method.\n",
        "\n",
        "###Example: Abstract Base Class and Subclasses\n",
        "```\n",
        "from abc import ABC, abstractmethod\n",
        "import math\n",
        "\n",
        "# Abstract Base Class\n",
        "class Shape(ABC):\n",
        "    @abstractmethod\n",
        "    def area(self):\n",
        "        pass  # Abstract method, must be overridden in subclasses\n",
        "\n",
        "# Subclass for Circle\n",
        "class Circle(Shape):\n",
        "    def __init__(self, radius):\n",
        "        self.radius = radius\n",
        "\n",
        "    def area(self):\n",
        "        return math.pi * self.radius ** 2  # Pi * r^2\n",
        "\n",
        "# Subclass for Rectangle\n",
        "class Rectangle(Shape):\n",
        "    def __init__(self, width, height):\n",
        "        self.width = width\n",
        "        self.height = height\n",
        "\n",
        "    def area(self):\n",
        "        return self.width * self.height  # width * height\n",
        "\n",
        "# Example usage\n",
        "circle = Circle(5)\n",
        "rectangle = Rectangle(4, 6)\n",
        "\n",
        "print(f\"Area of Circle: {circle.area():.2f}\")     # Output: Area of Circle: 78.54\n",
        "print(f\"Area of Rectangle: {rectangle.area()}\")    # Output: Area of Rectangle: 24\n",
        "```\n",
        "###Explanation:\n",
        "**1.Abstract Base Class (Shape):**\n",
        "\n",
        "The Shape class inherits from ABC (Abstract Base Class) provided by the abc module.\n",
        "\n",
        "The @abstractmethod decorator is used to declare the area() method as an abstract method, which means that any subclass must implement this method.\n",
        "\n",
        "**2.Subclass Circle:**\n",
        "\n",
        "The Circle class inherits from the Shape class and provides an implementation of the area() method, calculating the area using the formula\n",
        "𝜋\n",
        "×\n",
        "𝑟\n",
        "2\n",
        "\n",
        "\n",
        "**3.Subclass Rectangle:**\n",
        "\n",
        "The Rectangle class also inherits from the Shape class and implements the area() method, calculating the area using the\n",
        "formula\n",
        "\n",
        "width\n",
        "×\n",
        "height\n",
        "\n",
        "####Example Usage:\n",
        "\n",
        "You can create instances of Circle and Rectangle, and call their area() methods to get the respective areas.\n",
        "\n",
        "###Conclusion:\n",
        "By using an abstract base class, you enforce a contract that all subclasses must adhere to by implementing the area() method. This allows for a consistent interface across different shapes while enabling polymorphism and code reuse."
      ],
      "metadata": {
        "id": "PzCiFZMUy_7B"
      }
    },
    {
      "cell_type": "code",
      "source": [
        "from abc import ABC, abstractmethod\n",
        "import math\n",
        "\n",
        "# Abstract Base Class\n",
        "class Shape(ABC):\n",
        "    @abstractmethod\n",
        "    def area(self):\n",
        "        pass  # Abstract method, must be overridden in subclasses\n",
        "\n",
        "# Subclass for Circle\n",
        "class Circle(Shape):\n",
        "    def __init__(self, radius):\n",
        "        self.radius = radius\n",
        "\n",
        "    def area(self):\n",
        "        return math.pi * self.radius ** 2  # Pi * r^2\n",
        "\n",
        "# Subclass for Rectangle\n",
        "class Rectangle(Shape):\n",
        "    def __init__(self, width, height):\n",
        "        self.width = width\n",
        "        self.height = height\n",
        "\n",
        "    def area(self):\n",
        "        return self.width * self.height  # width * height\n",
        "\n",
        "# Example usage\n",
        "circle = Circle(5)\n",
        "rectangle = Rectangle(4, 6)\n",
        "\n",
        "print(f\"Area of Circle: {circle.area():.2f}\")     # Output: Area of Circle: 78.54\n",
        "print(f\"Area of Rectangle: {rectangle.area()}\")    # Output: Area of Rectangle: 24\n"
      ],
      "metadata": {
        "colab": {
          "base_uri": "https://localhost:8080/"
        },
        "id": "rvJRCMXaCmqB",
        "outputId": "639424f5-dbd3-4a49-975e-f954c0e18828"
      },
      "execution_count": 14,
      "outputs": [
        {
          "output_type": "stream",
          "name": "stdout",
          "text": [
            "Area of Circle: 78.54\n",
            "Area of Rectangle: 24\n"
          ]
        }
      ]
    },
    {
      "cell_type": "markdown",
      "source": [
        "#9.Demonstrate polymorphism by creating a function that can work with different shape objects to calculate and print their areas.\n",
        "\n",
        "To demonstrate polymorphism, we can create a function that calculates and prints the area of different shape objects. Each shape class will have its own area() method, and the polymorphic function will work with any shape object by calling its area() method without knowing the exact type of the shape.\n",
        "\n",
        "###Example of Polymorphism with Shapes:\n",
        "```\n",
        "# Base class Shape\n",
        "class Shape:\n",
        "    def area(self):\n",
        "        pass  # Placeholder method, meant to be overridden by subclasses\n",
        "\n",
        "# Subclass for Rectangle\n",
        "class Rectangle(Shape):\n",
        "    def __init__(self, width, height):\n",
        "        self.width = width\n",
        "        self.height = height\n",
        "\n",
        "    def area(self):\n",
        "        return self.width * self.height\n",
        "\n",
        "# Subclass for Circle\n",
        "class Circle(Shape):\n",
        "    def __init__(self, radius):\n",
        "        self.radius = radius\n",
        "\n",
        "    def area(self):\n",
        "        return 3.14159 * self.radius * self.radius  # Pi * r^2\n",
        "\n",
        "# Subclass for Triangle\n",
        "class Triangle(Shape):\n",
        "    def __init__(self, base, height):\n",
        "        self.base = base\n",
        "        self.height = height\n",
        "\n",
        "    def area(self):\n",
        "        return 0.5 * self.base * self.height\n",
        "\n",
        "# Polymorphic function to calculate and print the area of any shape\n",
        "def print_area(shape):\n",
        "    print(f\"The area of the shape is: {shape.area()}\")\n",
        "\n",
        "# Example usage\n",
        "rect = Rectangle(5, 10)\n",
        "circle = Circle(7)\n",
        "triangle = Triangle(6, 8)\n",
        "\n",
        "print_area(rect)      # Output: The area of the shape is: 50\n",
        "print_area(circle)    # Output: The area of the shape is: 153.93804\n",
        "print_area(triangle)  # Output: The area of the shape is: 24.0\n",
        "```\n",
        "###Explanation of Polymorphism:\n",
        "Polymorphic Behavior:\n",
        "\n",
        "The print_area() function works with different objects (Rectangle, Circle, Triangle) by calling the area() method on each one.\n",
        "Even though print_area() doesn't know what specific type of shape it is dealing with, it can still calculate the area because all shape classes implement the area() method.\n",
        "\n",
        "Inheritance:\n",
        "\n",
        "The Shape class is a base class that defines a common interface (area() method) that all subclasses (like Rectangle, Circle, Triangle) must implement.\n",
        "\n",
        "Overriding:\n",
        "\n",
        "Each subclass overrides the area() method to provide its own implementation for calculating the area based on its unique properties (e.g., width and height for a rectangle, radius for a circle, base and height for a triangle).\n",
        "\n",
        "###Conclusion:\n",
        "\n",
        "This is an example of polymorphism because the same print_area() function can work with different types of objects (Rectangle, Circle, Triangle), and it calls the correct area() method depending on the object passed to it. This allows for flexible and reusable code.\n",
        "\n",
        "\n",
        "\n",
        "\n",
        "\n",
        "\n"
      ],
      "metadata": {
        "id": "_WGMn6SgzZh8"
      }
    },
    {
      "cell_type": "code",
      "source": [
        "# Base class Shape\n",
        "class Shape:\n",
        "    def area(self):\n",
        "        pass  # Placeholder method, meant to be overridden by subclasses\n",
        "\n",
        "# Subclass for Rectangle\n",
        "class Rectangle(Shape):\n",
        "    def __init__(self, width, height):\n",
        "        self.width = width\n",
        "        self.height = height\n",
        "\n",
        "    def area(self):\n",
        "        return self.width * self.height\n",
        "\n",
        "# Subclass for Circle\n",
        "class Circle(Shape):\n",
        "    def __init__(self, radius):\n",
        "        self.radius = radius\n",
        "\n",
        "    def area(self):\n",
        "        return 3.14159 * self.radius * self.radius  # Pi * r^2\n",
        "\n",
        "# Subclass for Triangle\n",
        "class Triangle(Shape):\n",
        "    def __init__(self, base, height):\n",
        "        self.base = base\n",
        "        self.height = height\n",
        "\n",
        "    def area(self):\n",
        "        return 0.5 * self.base * self.height\n",
        "\n",
        "# Polymorphic function to calculate and print the area of any shape\n",
        "def print_area(shape):\n",
        "    print(f\"The area of the shape is: {shape.area()}\")\n",
        "\n",
        "# Example usage\n",
        "rect = Rectangle(5, 10)\n",
        "circle = Circle(7)\n",
        "triangle = Triangle(6, 8)\n",
        "\n",
        "print_area(rect)      # Output: The area of the shape is: 50\n",
        "print_area(circle)    # Output: The area of the shape is: 153.93804\n",
        "print_area(triangle)  # Output: The area of the shape is: 24.0\n"
      ],
      "metadata": {
        "colab": {
          "base_uri": "https://localhost:8080/"
        },
        "id": "nw3YITeYBQdZ",
        "outputId": "f8ef7b1f-6c21-401d-92eb-e6f47047fdb9"
      },
      "execution_count": 13,
      "outputs": [
        {
          "output_type": "stream",
          "name": "stdout",
          "text": [
            "The area of the shape is: 50\n",
            "The area of the shape is: 153.93791\n",
            "The area of the shape is: 24.0\n"
          ]
        }
      ]
    },
    {
      "cell_type": "markdown",
      "source": [
        "#10.Implement encapsulation in  a 'BankAccount' class with private attributes for 'balance' and 'accont_number'.Include methods for deposit,withdrawl,and balance enquiry.\n",
        "\n",
        "Implementing encapsulation in a 'BankAccount' class by making the balance and account_number attributes private. We will also include methods for depositing money, withdrawing money, and checking the balance.\n",
        "\n",
        "###Example: BankAccount Class with Encapsulation\n",
        "```\n",
        "class BankAccount:\n",
        "    def __init__(self, account_number, initial_balance=0):\n",
        "        # Private attributes\n",
        "        self.__account_number = account_number\n",
        "        self.__balance = initial_balance\n",
        "\n",
        "    # Method to deposit money\n",
        "    def deposit(self, amount):\n",
        "        if amount > 0:\n",
        "            self.__balance += amount\n",
        "            print(f\"Deposited ${amount}. New balance: ${self.__balance}\")\n",
        "        else:\n",
        "            print(\"Deposit amount must be positive.\")\n",
        "\n",
        "    # Method to withdraw money\n",
        "    def withdrawl(self, amount):\n",
        "        if 0 < amount <= self.__balance:\n",
        "            self.__balance -= amount\n",
        "            print(f\"Withdrew ${amount}. Remaining balance: ${self.__balance}\")\n",
        "        else:\n",
        "            print(\"Invalid withdrawl amount or insufficient funds.\")\n",
        "\n",
        "    # Method to check balance (balance enquiry)\n",
        "    def balance(self):\n",
        "        print(f\"Current balance: ${self.__balance}\")\n",
        "        return self.__balance\n",
        "\n",
        "    # Optional method to display account details\n",
        "    def get_account_info(self):\n",
        "        print(f\"Account Number: {self.__account_number}\")\n",
        "        self.balance()\n",
        "\n",
        "# Example usage\n",
        "account = BankAccount(\"123456789\", 1000)\n",
        "account.get_account_info()  # Account Number: 123456789, Current balance: $1000\n",
        "\n",
        "account.deposit(500)        # Deposited $500. New balance: $1500\n",
        "account.withdrawl(200)       # Withdrew $200. Remaining balance: $1300\n",
        "account.balance()     # Current balance: $1300\n",
        "```\n",
        "###Explanation:\n",
        "**1.Private Attributes (__balance and __account_number):**\n",
        "\n",
        "These attributes are prefixed with double underscores (__), making them private. Private attributes cannot be accessed directly from outside the class. This is how encapsulation is implemented, hiding the internal details of the class.\n",
        "\n",
        "**2.Methods for interacting with the attributes:**\n",
        "\n",
        "deposit(self, amount): Increases the balance if the deposit amount is positive.\n",
        "\n",
        "withdraw(self, amount): Reduces the balance if the withdrawal amount is valid (greater than zero and less than or equal to the current balance).\n",
        "\n",
        "check_balance(self): Prints the current balance.\n",
        "\n",
        "get_account_info(self): Prints the account number and balance (this method demonstrates how to access private attributes from within the class).\n",
        "\n",
        "**3.Encapsulation:**\n",
        "\n",
        "The class restricts direct access to the balance and account_number attributes, ensuring they can only be modified via the provided methods (deposit(), withdraw(), etc.). This protects the internal state of the BankAccount object.\n",
        "\n",
        "By encapsulating the balance and account_number, we ensure that the attributes are safe from external modification and can only be altered through controlled methods. This is a fundamental concept in object-oriented programming.\n",
        "\n",
        "\n",
        "\n",
        "\n",
        "\n",
        "\n"
      ],
      "metadata": {
        "id": "UPUBF0yEzpYa"
      }
    },
    {
      "cell_type": "code",
      "source": [
        "class BankAccount:\n",
        "    def __init__(self, account_number, initial_balance=0):\n",
        "        # Private attributes\n",
        "        self.__account_number = account_number\n",
        "        self.__balance = initial_balance\n",
        "\n",
        "    # Method to deposit money\n",
        "    def deposit(self, amount):\n",
        "        if amount > 0:\n",
        "            self.__balance += amount\n",
        "            print(f\"Deposited ${amount}. New balance: ${self.__balance}\")\n",
        "        else:\n",
        "            print(\"Deposit amount must be positive.\")\n",
        "\n",
        "    # Method to withdraw money\n",
        "    def withdraw(self, amount):\n",
        "        if 0 < amount <= self.__balance:\n",
        "            self.__balance -= amount\n",
        "            print(f\"Withdrew ${amount}. Remaining balance: ${self.__balance}\")\n",
        "        else:\n",
        "            print(\"Invalid withdrawal amount or insufficient funds.\")\n",
        "\n",
        "    # Method to check balance (balance enquiry)\n",
        "    def check_balance(self):\n",
        "        print(f\"Current balance: ${self.__balance}\")\n",
        "        return self.__balance\n",
        "\n",
        "    # Optional method to display account details\n",
        "    def get_account_info(self):\n",
        "        print(f\"Account Number: {self.__account_number}\")\n",
        "        self.check_balance()\n",
        "\n",
        "# Example usage\n",
        "account = BankAccount(\"123456789\", 1000)\n",
        "account.get_account_info()  # Account Number: 123456789, Current balance: $1000\n",
        "\n",
        "account.deposit(500)        # Deposited $500. New balance: $1500\n",
        "account.withdraw(200)       # Withdrew $200. Remaining balance: $1300\n",
        "account.check_balance()     # Current balance: $1300\n"
      ],
      "metadata": {
        "colab": {
          "base_uri": "https://localhost:8080/"
        },
        "id": "vyCzPi0w0Ggb",
        "outputId": "be97184a-316d-4eb0-a791-014f69a3eb71"
      },
      "execution_count": 12,
      "outputs": [
        {
          "output_type": "stream",
          "name": "stdout",
          "text": [
            "Account Number: 123456789\n",
            "Current balance: $1000\n",
            "Deposited $500. New balance: $1500\n",
            "Withdrew $200. Remaining balance: $1300\n",
            "Current balance: $1300\n"
          ]
        },
        {
          "output_type": "execute_result",
          "data": {
            "text/plain": [
              "1300"
            ]
          },
          "metadata": {},
          "execution_count": 12
        }
      ]
    },
    {
      "cell_type": "markdown",
      "source": [
        "#11.Write a class that overrides the '_ _ _str_ _ _ ' and ' _ _ _add_ _ _' magic methods.What will these methods allow you to do?\n",
        "In Python, magic methods (also called dunder methods because of the double underscores) allow you to define how objects of a class behave in different situations. The _ _ _str_ _ _ () method allows you to define how an object is represented as a string, while the _ _ add_ _ () method allows you to define how objects should behave when the + operator is used.\n",
        "\n",
        "Let’s create a class that overrides these two magic methods and explain their functionality.\n",
        "\n",
        "###Example Class with _ _ _str_ _ _ () and _ _ add_ _ () Magic Methods:\n",
        "```\n",
        "class MyNumber:\n",
        "    def __init__(self, value):\n",
        "        self.value = value\n",
        "\n",
        "    # Override the __str__ method to return a string representation of the object\n",
        "    def __str__(self):\n",
        "        return f\"MyNumber({self.value})\"\n",
        "\n",
        "    # Override the __add__ method to define behavior for the + operator\n",
        "    def __add__(self, other):\n",
        "        if isinstance(other, MyNumber):\n",
        "            return MyNumber(self.value + other.value)\n",
        "        else:\n",
        "            raise TypeError(\"Can only add MyNumber objects together\")\n",
        "\n",
        "# Example usage:\n",
        "\n",
        "# Creating two MyNumber objects\n",
        "num1 = MyNumber(10)\n",
        "num2 = MyNumber(20)\n",
        "\n",
        "# Using the __str__ method to print the objects\n",
        "print(num1)  # Output: MyNumber(10)\n",
        "print(num2)  # Output: MyNumber(20)\n",
        "\n",
        "# Using the __add__ method to add the objects\n",
        "result = num1 + num2\n",
        "print(result)  # Output: MyNumber(30)\n",
        "```\n",
        "###Explanation of the Methods:\n",
        "1._ _ _str_ _ _ () Method:\n",
        "\n",
        "This method defines how the object should be represented as a string. It is called when you use print() on the object or when the object is converted to a string using str().\n",
        "\n",
        "In the example, the _ _ _str_ _ _ () method returns the string MyNumber(value) where value is the internal value of the object.\n",
        "When print(num1) is called, Python uses _ _ _str_ _ _ () to produce the output MyNumber(10).\n",
        "\n",
        "2._ _ add_ _ ()Method:\n",
        "\n",
        "This method defines how objects of the class should behave when the + operator is used.\n",
        "\n",
        "In the example, _ _ add_ _ () checks if the object being added (other) is also an instance of MyNumber. If so, it adds their value attributes together and returns a new MyNumber object with the sum.\n",
        "When num1 + num2 is executed, the _ _ add_ _ () method is called, and it returns MyNumber(30).\n",
        "\n",
        "###What these methods allow you to do:\n",
        "1._ _ _str_ _ _ (): Allows you to customize the string representation of objects, making it easier to read and understand when printed or logged.\n",
        "\n",
        "2._ _ add_ _ (): Allows you to define how objects of your class should be added together using the + operator. This makes your class behave more like built-in types (e.g., integers) that support addition.\n",
        "By overriding these magic methods, you can control how instances of your class interact with common Python operations like printing and arithmetic."
      ],
      "metadata": {
        "id": "yl69rjVU0G7Y"
      }
    },
    {
      "cell_type": "code",
      "source": [
        "class MyNumber:\n",
        "    def __init__(self, value):\n",
        "        self.value = value\n",
        "\n",
        "    # Override the __str__ method to return a string representation of the object\n",
        "    def __str__(self):\n",
        "        return f\"MyNumber({self.value})\"\n",
        "\n",
        "    # Override the __add__ method to define behavior for the + operator\n",
        "    def __add__(self, other):\n",
        "        if isinstance(other, MyNumber):\n",
        "            return MyNumber(self.value + other.value)\n",
        "        else:\n",
        "            raise TypeError(\"Can only add MyNumber objects together\")\n",
        "\n",
        "# Example usage:\n",
        "\n",
        "# Creating two MyNumber objects\n",
        "num1 = MyNumber(10)\n",
        "num2 = MyNumber(20)\n",
        "\n",
        "# Using the __str__ method to print the objects\n",
        "print(num1)  # Output: MyNumber(10)\n",
        "print(num2)  # Output: MyNumber(20)\n",
        "\n",
        "# Using the __add__ method to add the objects\n",
        "result = num1 + num2\n",
        "print(result)  # Output: MyNumber(30)\n"
      ],
      "metadata": {
        "colab": {
          "base_uri": "https://localhost:8080/"
        },
        "id": "Ei-GDvkk9aoh",
        "outputId": "6e319255-ecff-44a9-c128-8651da365eb0"
      },
      "execution_count": 11,
      "outputs": [
        {
          "output_type": "stream",
          "name": "stdout",
          "text": [
            "MyNumber(10)\n",
            "MyNumber(20)\n",
            "MyNumber(30)\n"
          ]
        }
      ]
    },
    {
      "cell_type": "markdown",
      "source": [
        "#12.Create a decorator that measures and prints the execution time  a function.\n",
        "###Example: Execution Time Decorator\n",
        "```\n",
        "import time\n",
        "\n",
        "def execution_time(func):\n",
        "    def wrapper(*args, **kwargs):\n",
        "        start_time = time.time()  # Record the start time\n",
        "        result = func(*args, **kwargs)  # Call the actual function\n",
        "        end_time = time.time()  # Record the end time\n",
        "        elapsed_time = end_time - start_time  # Calculate the time difference\n",
        "        print(f\"Execution time of {func.__name__}: {elapsed_time:.4f} seconds\")\n",
        "        return result  # Return the result of the function\n",
        "    return wrapper\n",
        "\n",
        "# Example usage of the decorator\n",
        "\n",
        "@execution_time\n",
        "def example_function(n):\n",
        "    total = 0\n",
        "    for i in range(n):\n",
        "        total += i\n",
        "    return total\n",
        "\n",
        "# Calling the decorated function\n",
        "example_function(1000000)\n",
        "```\n",
        "###Explanation:\n",
        "**1.Decorator Function (execution_time):**\n",
        "\n",
        "The execution_time decorator accepts a function (func) as an argument.\n",
        "\n",
        "The wrapper function inside the decorator does the following:\n",
        "\n",
        "Records the start time using time.time().\n",
        "\n",
        "Calls the original function and stores the result.\n",
        "\n",
        "Records the end time after the function finishes.\n",
        "\n",
        "Calculates the elapsed time and prints it.\n",
        "\n",
        "Returns the result of the original function.\n",
        "\n",
        "**2.Usage:**\n",
        "\n",
        "The @execution_time decorator is applied to example_function, and when it’s called, the execution time is printed along with the result.\n",
        "\n",
        "###Sample Output:\n",
        "```\n",
        "Execution time of example_function: 0.0496 seconds\n",
        "```\n",
        "This way, you can easily measure and display the execution time for any function.\n",
        "\n",
        "\n",
        "\n",
        "\n",
        "\n",
        "\n"
      ],
      "metadata": {
        "id": "htbsvncq0e41"
      }
    },
    {
      "cell_type": "code",
      "source": [
        "import time\n",
        "\n",
        "def execution_time(func):\n",
        "    def wrapper(*args, **kwargs):\n",
        "        start_time = time.time()  # Record the start time\n",
        "        result = func(*args, **kwargs)  # Call the actual function\n",
        "        end_time = time.time()  # Record the end time\n",
        "        elapsed_time = end_time - start_time  # Calculate the time difference\n",
        "        print(f\"Execution time of {func.__name__}: {elapsed_time:.4f} seconds\")\n",
        "        return result  # Return the result of the function\n",
        "    return wrapper\n",
        "\n",
        "# Example usage of the decorator\n",
        "\n",
        "@execution_time\n",
        "def example_function(n):\n",
        "    total = 0\n",
        "    for i in range(n):\n",
        "        total += i\n",
        "    return total\n",
        "\n",
        "# Calling the decorated function\n",
        "example_function(1000000)\n"
      ],
      "metadata": {
        "colab": {
          "base_uri": "https://localhost:8080/"
        },
        "id": "iQzZwr4J62Vx",
        "outputId": "8b797d19-78f3-412d-a873-72cb69a15e7c"
      },
      "execution_count": 10,
      "outputs": [
        {
          "output_type": "stream",
          "name": "stdout",
          "text": [
            "Execution time of example_function: 0.0709 seconds\n"
          ]
        },
        {
          "output_type": "execute_result",
          "data": {
            "text/plain": [
              "499999500000"
            ]
          },
          "metadata": {},
          "execution_count": 10
        }
      ]
    },
    {
      "cell_type": "markdown",
      "source": [
        "#13.Explain the concept of the Diamond problem in multiple inheritence.How does Python resolve it?\n",
        "###Diamond Problem in Multiple Inheritance\n",
        "The Diamond Problem occurs in object-oriented programming languages that support multiple inheritance, where a class can inherit from more than one parent class. The issue arises when two or more parent classes inherit from the same base class, and the child class inherits from these parent classes. This forms a diamond-shaped inheritance structure, leading to ambiguity in the method resolution order (MRO).\n",
        "\n",
        "Example of the Diamond Problem\n",
        "\n",
        "Consider the following class hierarchy:\n",
        "\n",
        "css\n",
        "\n",
        "      A\n",
        "     / \\\n",
        "    B   C\n",
        "     \\ /\n",
        "      D\n",
        "Class B and class C both inherit from class A.\n",
        "Class D inherits from both B and C.\n",
        "\n",
        "The diamond problem occurs when class D tries to access a method or attribute defined in class A. Which path should it follow: D -> B -> A or D -> C -> A? If both B and C override a method from A, there is ambiguity about which method D should inherit.\n",
        "\n",
        "###How Python Resolves the Diamond Problem: Method Resolution Order (MRO)\n",
        "Python uses a method called C3 Linearization (also known as C3 superclass linearization) to resolve the diamond problem. This ensures a well-defined, predictable order in which classes are searched when a method or attribute is called. The method resolution order (MRO) determines the order in which Python looks for methods and attributes in the inheritance hierarchy.\n",
        "\n",
        "In Python, you can view the MRO of a class using the __mro__ attribute or the mro() method.\n",
        "\n",
        "Example: Diamond Problem in Python\n",
        "```\n",
        "class A:\n",
        "    def show(self):\n",
        "        print(\"Class A\")\n",
        "\n",
        "class B(A):\n",
        "    def show(self):\n",
        "        print(\"Class B\")\n",
        "\n",
        "class C(A):\n",
        "    def show(self):\n",
        "        print(\"Class C\")\n",
        "\n",
        "class D(B, C):  # D inherits from both B and C\n",
        "    pass\n",
        "\n",
        "# Create an instance of D\n",
        "d = D()\n",
        "d.show()  # Which show method is called?\n",
        "\n",
        "# Check the method resolution order\n",
        "print(D.__mro__)  # Prints the MRO for class D\n",
        "```\n",
        "###Output:\n",
        "```\n",
        "Class B\n",
        "(<class '__main__.D'>, <class '__main__.B'>, <class '__main__.C'>, <class '__main__.A'>, <class 'object'>)\n",
        "```\n",
        "###Explanation of Python's Resolution:\n",
        "When the show() method is called on an instance of D, Python looks at the MRO to determine the order in which it will search for the method.\n",
        "\n",
        "In this case, the MRO for class D is: D -> B -> C -> A -> object.\n",
        "\n",
        "Python first looks in class D for the show() method.\n",
        "\n",
        "Since D doesn't have its own show() method, it follows the MRO and checks class B, where it finds the method.\n",
        "\n",
        "Therefore, class B's show() method is called, even though class C and class A also define a show() method.\n",
        "\n",
        "###C3 Linearization Algorithm (MRO)\n",
        "Python uses C3 linearization to generate the MRO. This linearization ensures that:\n",
        "\n",
        "A class comes before its parents.\n",
        "\n",
        "The order of parents is maintained.\n",
        "\n",
        "No conflicts arise from multiple inheritance paths.\n",
        "\n",
        "In Python, MRO solves the diamond problem in a consistent and predictable way, ensuring that classes are resolved without ambiguity.\n",
        "\n",
        "###Conclusion\n",
        "The diamond problem refers to ambiguity in multiple inheritance when two parent classes inherit from a common ancestor, and the child class inherits from both parents. Python resolves this using the C3 Linearization algorithm, which defines a clear method resolution order (MRO). This prevents ambiguity and ensures a consistent lookup for methods and attributes in the inheritance hierarchy.\n",
        "\n",
        "\n",
        "\n",
        "\n",
        "\n",
        "\n"
      ],
      "metadata": {
        "id": "b1WZEjvI0pjJ"
      }
    },
    {
      "cell_type": "code",
      "source": [
        "class A:\n",
        "    def show(self):\n",
        "        print(\"Class A\")\n",
        "\n",
        "class B(A):\n",
        "    def show(self):\n",
        "        print(\"Class B\")\n",
        "\n",
        "class C(A):\n",
        "    def show(self):\n",
        "        print(\"Class C\")\n",
        "\n",
        "class D(B, C):  # D inherits from both B and C\n",
        "    pass\n",
        "\n",
        "# Create an instance of D\n",
        "d = D()\n",
        "d.show()  # Which show method is called?\n",
        "\n",
        "# Check the method resolution order\n",
        "print(D.__mro__)  # Prints the MRO for class D\n"
      ],
      "metadata": {
        "colab": {
          "base_uri": "https://localhost:8080/"
        },
        "id": "4mKMLmz35zDa",
        "outputId": "c2719824-a6d4-4d30-e806-7483dae025a9"
      },
      "execution_count": 9,
      "outputs": [
        {
          "output_type": "stream",
          "name": "stdout",
          "text": [
            "Class B\n",
            "(<class '__main__.D'>, <class '__main__.B'>, <class '__main__.C'>, <class '__main__.A'>, <class 'object'>)\n"
          ]
        }
      ]
    },
    {
      "cell_type": "markdown",
      "source": [
        "#14.Write a class method that keeps track of the number of instances created from a class.\n",
        " class method that keeps track of the number of instances created from a class:\n",
        "```\n",
        "class Car:\n",
        "    # Class attribute to track the number of instances\n",
        "    instance_count = 0\n",
        "\n",
        "    def __init__(self, make, model, year):\n",
        "        self.make = make\n",
        "        self.model = model\n",
        "        self.year = year\n",
        "        # Increment the class attribute whenever a new instance is created\n",
        "        Car.instance_count += 1\n",
        "\n",
        "    def display_info(self):\n",
        "        print(f\"Car Info: {self.year} {self.make} {self.model}\")\n",
        "\n",
        "    @classmethod\n",
        "    def get_instance_count(cls):\n",
        "        # Class method to return the number of instances created\n",
        "        return cls.instance_count\n",
        "\n",
        "# Example usage:\n",
        "car1 = Car(\"Toyota\", \"Corolla\", 2020)\n",
        "car2 = Car(\"Honda\", \"Civic\", 2021)\n",
        "\n",
        "print(Car.get_instance_count())  # Output: 2\n",
        "```\n",
        "###Explanation:\n",
        "**instance_count:** A class attribute initialized to 0. It tracks the total number of instances.\n",
        "\n",
        "__init__(): The constructor increments the instance_count each time a new object is created.\n",
        "\n",
        "**@classmethod**: The get_instance_count() method is a class method (using the @classmethod decorator) that returns the current value of instance_count. It uses the cls parameter to refer to the class itself.\n",
        "\n",
        "The class method is called using the class name Car.\n",
        "get_instance_count(), and it can access the class attribute instance_count."
      ],
      "metadata": {
        "id": "o0ggD8z802Vp"
      }
    },
    {
      "cell_type": "code",
      "source": [
        "class Car:\n",
        "    # Class attribute to track the number of instances\n",
        "    instance_count = 0\n",
        "\n",
        "    def __init__(self, make, model, year):\n",
        "        self.make = make\n",
        "        self.model = model\n",
        "        self.year = year\n",
        "        # Increment the class attribute whenever a new instance is created\n",
        "        Car.instance_count += 1\n",
        "\n",
        "    def display_info(self):\n",
        "        print(f\"Car Info: {self.year} {self.make} {self.model}\")\n",
        "\n",
        "    @classmethod\n",
        "    def get_instance_count(cls):\n",
        "        # Class method to return the number of instances created\n",
        "        return cls.instance_count\n",
        "\n",
        "# Example usage:\n",
        "car1 = Car(\"Toyota\", \"Corolla\", 2020)\n",
        "car2 = Car(\"Honda\", \"Civic\", 2021)\n",
        "\n",
        "print(Car.get_instance_count())  # Output: 2\n"
      ],
      "metadata": {
        "colab": {
          "base_uri": "https://localhost:8080/"
        },
        "id": "r8p_mqYN4eUo",
        "outputId": "6062a92e-c607-4cc9-b152-e593638e4af6"
      },
      "execution_count": 8,
      "outputs": [
        {
          "output_type": "stream",
          "name": "stdout",
          "text": [
            "2\n"
          ]
        }
      ]
    },
    {
      "cell_type": "markdown",
      "source": [
        "#15.Implement a static method in a class that checks if a given year is a leap year.\n",
        "A static method in a class to check if a given year is a leap year:\n",
        "```\n",
        "class Car:\n",
        "    def __init__(self, make, model, year):\n",
        "        self.make = make\n",
        "        self.model = model\n",
        "        self.year = year\n",
        "\n",
        "    def display_info(self):\n",
        "        print(f\"Car Info: {self.year} {self.make} {self.model}\")\n",
        "\n",
        "    @staticmethod\n",
        "    def is_leap_year(year):\n",
        "        # A year is a leap year if it is divisible by 4,\n",
        "        # but not by 100, unless it is also divisible by 400.\n",
        "        if (year % 4 == 0 and year % 100 != 0) or (year % 400 == 0):\n",
        "            return True\n",
        "        return False\n",
        "\n",
        "# Example usage:\n",
        "print(Car.is_leap_year(2020))  # Output: True (2020 is a leap year)\n",
        "print(Car.is_leap_year(2021))  # Output: False (2021 is not a leap year)\n",
        "```\n",
        "###Explanation:\n",
        "The @staticmethod decorator is used to define a static method, which can be called without creating an instance of the class.\n",
        "\n",
        "The is_leap_year() method checks if a given year is a leap year using the rules:\n",
        "\n",
        "A year is a leap year if:\n",
        "It is divisible by 4.\n",
        "But not divisible by 100 unless it is also divisible by 400.\n",
        "\n",
        "This static method can be called directly using the class name Car.is_leap_year(), without needing an instance of the Car class."
      ],
      "metadata": {
        "id": "Los-4j_s1Btv"
      }
    },
    {
      "cell_type": "code",
      "source": [
        "class Car:\n",
        "    def __init__(self, make, model, year):\n",
        "        self.make = make\n",
        "        self.model = model\n",
        "        self.year = year\n",
        "\n",
        "    def display_info(self):\n",
        "        print(f\"Car Info: {self.year} {self.make} {self.model}\")\n",
        "\n",
        "    @staticmethod\n",
        "    def is_leap_year(year):\n",
        "        # A year is a leap year if it is divisible by 4,\n",
        "        # but not by 100, unless it is also divisible by 400.\n",
        "        if (year % 4 == 0 and year % 100 != 0) or (year % 400 == 0):\n",
        "            return True\n",
        "        return False\n",
        "\n",
        "# Example usage:\n",
        "print(Car.is_leap_year(2020))  # Output: True (2020 is a leap year)\n",
        "print(Car.is_leap_year(2021))  # Output: False (2021 is not a leap year)\n"
      ],
      "metadata": {
        "colab": {
          "base_uri": "https://localhost:8080/"
        },
        "id": "vKpqzHMs3y0h",
        "outputId": "26be454b-f8fa-4855-c446-aa3f49a863fe"
      },
      "execution_count": 7,
      "outputs": [
        {
          "output_type": "stream",
          "name": "stdout",
          "text": [
            "True\n",
            "False\n"
          ]
        }
      ]
    }
  ]
}