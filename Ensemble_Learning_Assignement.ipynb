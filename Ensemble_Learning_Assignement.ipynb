{
  "nbformat": 4,
  "nbformat_minor": 0,
  "metadata": {
    "colab": {
      "provenance": []
    },
    "kernelspec": {
      "name": "python3",
      "display_name": "Python 3"
    },
    "language_info": {
      "name": "python"
    }
  },
  "cells": [
    {
      "cell_type": "markdown",
      "source": [
        "#Theoretical Questions"
      ],
      "metadata": {
        "id": "0CRyUU-6Dhtm"
      }
    },
    {
      "cell_type": "markdown",
      "source": [
        "###1.Can we use Bagging for regression problems.\n",
        "\n",
        "Yes, Bagging can be used for regression problems. The Bagging Regressor is similar to the Bagging Classifier but is used for regression tasks. It trains multiple models on different bootstrap samples of the dataset and then averages their predictions. This reduces variance, making the model more stable and less prone to overfitting. It is particularly useful for high-variance models like Decision Trees.\n",
        "\n"
      ],
      "metadata": {
        "id": "nMqs-T8GDksh"
      }
    },
    {
      "cell_type": "markdown",
      "source": [
        "###2.What is the difference between multiple model training and single model training?\n",
        "\n",
        "**Single Model Training:** A single model is trained on the entire dataset. If the model is complex, it may overfit, and if it is simple, it may underfit.\n",
        "\n",
        "**Multiple Model Training (Ensemble Learning):** Multiple models are trained and their predictions are combined. This improves accuracy, reduces bias and variance, and makes predictions more robust. Examples include Bagging, Boosting, and Stacking."
      ],
      "metadata": {
        "id": "FuHbe-PEEWJp"
      }
    },
    {
      "cell_type": "markdown",
      "source": [
        "###3.Explain the concept of feature randomness in Random Forest.\n",
        "\n",
        "Feature randomness in Random Forest refers to the process of selecting a random subset of features at each split when constructing decision trees. Unlike standard decision trees that consider all available features at every split, Random Forest introduces randomness by choosing only a subset of features, which reduces correlation between trees and improves generalization.\n",
        "\n",
        "###How Feature Randomness Works:\n",
        "1.Random Feature Selection at Each Split\n",
        "\n",
        "When a tree needs to decide on a split, it does not consider all features but instead randomly selects a subset of features.\n",
        "\n",
        "This ensures that different trees focus on different aspects of the data.\n",
        "\n",
        "2.Reduces Overfitting\n",
        "\n",
        "Decision trees are prone to overfitting, especially when they rely heavily on a few dominant features.\n",
        "\n",
        "By introducing randomness, trees are less dependent on specific features, making the model more robust.\n",
        "\n",
        "3.Creates Diversity Among Trees\n",
        "\n",
        "Since each tree is built using a different set of features and trained on a different subset of data (due to bootstrap sampling), the trees make different errors.\n",
        "\n",
        "This diversity helps reduce variance when their predictions are averaged.\n",
        "\n",
        "###Key Benefits of Feature Randomness:\n",
        "✔ Reduces overfitting compared to single Decision Trees.\n",
        "\n",
        "✔ Improves model generalization to new data.\n",
        "\n",
        "✔ Encourages diverse trees, making the ensemble more effective."
      ],
      "metadata": {
        "id": "v1EqhhtrEjSp"
      }
    },
    {
      "cell_type": "markdown",
      "source": [
        "###4.What is OOB (Out-of-Bag) Score?\n",
        "\n",
        "The Out-of-Bag (OOB) Score is an internal validation technique used in Bagging-based models, such as Random Forest. It provides an unbiased estimate of the model’s performance without requiring a separate validation set.\n",
        "\n",
        "###How OOB Score Works:\n",
        "1.Bootstrap Sampling\n",
        "\n",
        "In Bagging, each tree is trained on a random subset of the dataset (with replacement).\n",
        "\n",
        "Some data points are left out in each bootstrap sample (these are called \"Out-of-Bag\" samples).\n",
        "\n",
        "2.OOB Prediction\n",
        "\n",
        "Once the Random Forest is trained, each tree makes predictions for only the data points it has not seen during training (i.e., its OOB samples).\n",
        "\n",
        "The final prediction for a sample is obtained by aggregating predictions from all trees that did not use that sample for training.\n",
        "\n",
        "3.OOB Score Calculation\n",
        "\n",
        "The model’s performance is evaluated using these OOB predictions and compared with the actual labels.\n",
        "\n",
        "It is typically measured using accuracy (classification) or R² score (regression).\n",
        "\n",
        "###Advantages of OOB Score:\n",
        "\n",
        "✔ No need for a separate validation set, saving data for training.\n",
        "\n",
        "✔ Provides an unbiased estimate of model performance.\n",
        "\n",
        "✔ Helps detect overfitting in Random Forest models.\n",
        "\n",
        "###When to Use OOB Score?\n",
        "\n",
        "When the dataset is small and you want to avoid using a separate validation set.\n",
        "\n",
        "When training a Random Forest or other Bagging-based models.\n",
        "\n",
        "When you need an unbiased performance estimate without cross-validation.\n"
      ],
      "metadata": {
        "id": "idvw3JYvFKRi"
      }
    },
    {
      "cell_type": "markdown",
      "source": [
        "###5.How can you measure the importance of features in a Random Forest model?\n",
        "\n",
        "Feature importance in Random Forest helps identify which input variables have the most impact on the model's predictions. Random Forest provides two common ways to measure feature importance:\n",
        "\n",
        "1. Gini Importance (Mean Decrease in Impurity - MDI)\n",
        "\n",
        "This method calculates how much each feature reduces impurity (Gini impurity for classification or variance for regression) in the decision trees.\n",
        "Features that contribute more to node splits across many trees are considered more important.\n",
        "\n",
        "It is computed as the average decrease in impurity weighted by the number of samples affected by each split.\n",
        "\n",
        "2. Permutation Importance (Mean Decrease in Accuracy - MDA)\n",
        "\n",
        "This method measures feature importance by randomly shuffling the values of each feature and checking how much the model's performance decreases.\n",
        "\n",
        "A greater drop in accuracy means the feature is important.\n",
        "\n",
        "Unlike Gini Importance, it works better when features are correlated.\n",
        "\n",
        "###Key Takeaways:\n",
        "\n",
        "✔ Gini Importance is faster but biased when features are correlated.\n",
        "\n",
        "✔ Permutation Importance is more reliable but computationally expensive.\n",
        "\n",
        "✔ Feature importance helps in feature selection, reducing dimensionality and improving model performance."
      ],
      "metadata": {
        "id": "2m47pDwtFhM3"
      }
    },
    {
      "cell_type": "markdown",
      "source": [
        "###6.Explain the working principle of a Bagging Classifier.\n",
        "\n",
        "A Bagging Classifier (Bootstrap Aggregating Classifier) is an ensemble learning method that improves the accuracy and stability of machine learning models by combining multiple weak learners (e.g., Decision Trees). It works by training multiple models on different subsets of the training data and aggregating their predictions.\n",
        "\n",
        "###Working Steps of a Bagging Classifier\n",
        "\n",
        "###1. Bootstrap Sampling (Data Resampling)\n",
        "From the original dataset, multiple random subsets (with replacement) are created.\n",
        "\n",
        "Each subset is used to train a separate base model.\n",
        "\n",
        "###2. Model Training\n",
        "\n",
        "Each model (usually Decision Trees) is trained independently on its corresponding subset.\n",
        "\n",
        "This creates diverse models that learn different patterns in the data.\n",
        "\n",
        "###3. Aggregation of Predictions\n",
        "Once all models are trained, their predictions are combined to get the final output:\n",
        "\n",
        "For Classification → Majority Voting (the class predicted by most models is chosen).\n",
        "\n",
        "For Regression → Averaging (the mean of all predictions is taken).\n",
        "\n",
        "4. Final Prediction\n",
        "The aggregated prediction is more accurate, stable, and less prone to overfitting than a single model.\n",
        "\n",
        "###Advantages of a Bagging Classifier\n",
        "\n",
        "✔ Reduces Overfitting – By training on different subsets, it avoids memorizing noise.\n",
        "\n",
        "✔ Improves Accuracy – The final prediction is more robust than a single model.\n",
        "\n",
        "✔ Handles High Variance Models – Works well with models prone to overfitting (e.g., Decision Trees).\n",
        "\n"
      ],
      "metadata": {
        "id": "B9JvuWTtGEIB"
      }
    },
    {
      "cell_type": "markdown",
      "source": [
        "###7.How do you evaluate a Bagging Classifier’s performance.\n",
        "\n",
        "To evaluate a Bagging Classifier, use metrics like accuracy, precision, recall, and F1-score for classification tasks. Use cross-validation to get an unbiased estimate. The model can also be compared to a single Decision Tree to check improvement.\n",
        "\n"
      ],
      "metadata": {
        "id": "LGdnx8KpGsTK"
      }
    },
    {
      "cell_type": "markdown",
      "source": [
        "###8.How does a Bagging Regressor work.\n",
        "\n",
        "A Bagging Regressor trains multiple models (e.g., Decision Trees) on different bootstrap samples. Instead of majority voting (used in classification), it averages the predictions of all models to get the final output. This averaging reduces variance, leading to a more stable and accurate prediction.\n",
        "\n",
        "\n",
        "\n"
      ],
      "metadata": {
        "id": "k24Oq_U8G3-M"
      }
    },
    {
      "cell_type": "markdown",
      "source": [
        "###9.What is the main advantage of ensemble techniques?\n",
        "\n",
        "The main advantage of ensemble techniques is that they improve model accuracy and robustness by combining multiple models, reducing bias, variance, and overfitting.\n",
        "\n",
        "###Key Benefits of Ensemble Techniques:\n",
        "\n",
        "1. Higher Accuracy\n",
        "\n",
        "Combining multiple models helps achieve better predictions than a single weak learner.\n",
        "\n",
        "Models correct each other's errors, improving overall performance.\n",
        "\n",
        "2. Reduces Overfitting (Lower Variance)\n",
        "\n",
        "Bagging techniques (like Random Forest) train models on different data subsets, reducing model variance.\n",
        "\n",
        "This prevents the model from memorizing noise in the training set.\n",
        "\n",
        "3. Reduces Bias (Better Generalization)\n",
        "\n",
        "Boosting techniques (like XGBoost, AdaBoost) focus on misclassified instances, improving learning efficiency.\n",
        "This lowers bias and enhances predictive power.\n",
        "\n",
        "4. Works Well with Weak Models\n",
        "\n",
        "Even weak classifiers (e.g., Decision Trees, Logistic Regression) can be combined into a powerful ensemble model.\n",
        "\n",
        "5. More Stable and Reliable Predictions\n",
        "\n",
        "Aggregating multiple models ensures that predictions remain consistent even when the dataset has variations.\n"
      ],
      "metadata": {
        "id": "1353o8jUHAcC"
      }
    },
    {
      "cell_type": "markdown",
      "source": [
        "###10.What is the main challenge of ensemble methods.\n",
        "\n",
        "While ensemble methods improve accuracy and reduce overfitting, they also come with certain challenges. The main challenge of ensemble methods is their higher computational cost and complexity, as they involve training multiple models instead of just one.\n",
        "\n",
        "###Key Challenges of Ensemble Methods\n",
        "1. High Computational Cost\n",
        "\n",
        "Training multiple models requires more processing power and memory compared to a single model.\n",
        "\n",
        "Large ensembles (e.g., Random Forest with hundreds of trees or Boosting models) can take a long time to train.\n",
        "2. Difficult to Interpret\n",
        "\n",
        "Unlike simple models (e.g., Decision Trees or Linear Regression), ensemble models are black boxes and hard to interpret.\n",
        "\n",
        "This is a major issue in applications where explainability is crucial, such as healthcare and finance.\n",
        "\n",
        "3. Risk of Overfitting in Some Cases\n",
        "\n",
        "While Bagging reduces variance, Boosting can sometimes overfit, especially if too many weak learners are added.\n",
        "\n",
        "Careful tuning of hyperparameters (e.g., learning rate, number of estimators) is needed to balance bias and variance.\n",
        "\n",
        "4. Need for More Data\n",
        "\n",
        "Ensembles work best when diverse models are trained on large datasets.\n",
        "On small datasets, using an ensemble might not significantly improve accuracy.\n",
        "\n",
        "5. Complex Hyperparameter Tuning\n",
        "\n",
        "Models like Random Forest, XGBoost, and Stacking have multiple parameters that must be optimized (e.g., number of trees, depth, learning rate).\n",
        "This makes hyperparameter tuning time-consuming and resource-intensive."
      ],
      "metadata": {
        "id": "fUPx5oF0Hcys"
      }
    },
    {
      "cell_type": "markdown",
      "source": [
        "###11.Explain the key idea behind ensemble techniques.\n",
        "\n",
        "The key idea behind ensemble techniques is to combine multiple weak models (learners) to create a stronger and more accurate model. Instead of relying on a single model, ensemble learning takes the predictions of multiple models and aggregates them to improve accuracy, stability, and generalization.\n",
        "\n",
        "###Why Use Ensemble Techniques?\n",
        "\n",
        "A single model can overfit or underfit, depending on its complexity.\n",
        "\n",
        "Ensemble methods use diverse models to reduce bias, variance, and noise in predictions.\n",
        "\n",
        "They ensure that errors from individual models do not dominate the final prediction.\n",
        "\n",
        "###How Ensemble Learning Works:\n",
        "\n",
        "1.Train Multiple Models\n",
        "\n",
        "Use the same dataset but train different models or multiple versions of the same model.\n",
        "\n",
        "2.Aggregate Predictions\n",
        "\n",
        "Combine results from all models using majority voting (classification) or averaging (regression).\n",
        "\n",
        "3.Final Decision\n",
        "\n",
        "The final prediction is more accurate and stable than any single model.\n",
        "\n",
        "###Types of Ensemble Techniques\n",
        "1.Bagging (Bootstrap Aggregating)\n",
        "Reduces variance by training models on different random subsets of the data.\n",
        "\n",
        "Example: Random Forest (multiple Decision Trees trained independently).\n",
        "\n",
        "2.Boosting\n",
        "\n",
        "Reduces bias by focusing on misclassified samples, improving weak learners over multiple rounds.\n",
        "\n",
        "Example: AdaBoost, XGBoost, LightGBM.\n",
        "\n",
        "3.Stacking\n",
        "\n",
        "Uses multiple base models and combines their outputs using a meta-model for better accuracy.\n",
        "\n",
        "Example: Combining Random Forest, SVM, and Neural Networks to make a final decision.\n"
      ],
      "metadata": {
        "id": "ABw9gjIDIBGR"
      }
    },
    {
      "cell_type": "markdown",
      "source": [
        "###12.What is a Random Forest Classifier?\n",
        "\n",
        "A Random Forest Classifier is an ensemble learning algorithm that combines multiple Decision Trees to improve accuracy, reduce overfitting, and enhance generalization. It is a Bagging-based technique where each tree is trained on a different random subset of the data, and the final prediction is made by majority voting.\n",
        "\n",
        "###How Does a Random Forest Classifier Work?\n",
        "\n",
        "1.Bootstrap Sampling (Bagging)\n",
        "The dataset is randomly split into multiple subsets using bootstrap sampling (sampling with replacement).\n",
        "Each subset is used to train an independent Decision Tree.\n",
        "\n",
        "2.Feature Randomness\n",
        "At each split in a Decision Tree, only a random subset of features is considered.\n",
        "This ensures that trees do not all learn the same patterns, increasing diversity.\n",
        "\n",
        "3. Majority Voting for Prediction\n",
        "For classification, each tree predicts a class, and the most voted class is the final output.\n",
        "\n",
        "For regression, the average of all predictions is taken.\n",
        "\n",
        "###Advantages of Random Forest\n",
        "✔ Reduces Overfitting – Unlike a single Decision Tree, Random Forest generalizes better.\n",
        "\n",
        "✔ Handles Missing Data – It can work well even with some missing values.\n",
        "\n",
        "✔ Works with Large Datasets – Can handle thousands of features without performance loss.\n",
        "\n",
        "✔ Feature Importance – Identifies the most important features for prediction.\n",
        "\n"
      ],
      "metadata": {
        "id": "6kG6o3JGIt-A"
      }
    },
    {
      "cell_type": "markdown",
      "source": [
        "###13.What are the main types of ensemble techniques?\n",
        "\n",
        "Ensemble learning techniques can be broadly categorized into three main types: Bagging, Boosting, and Stacking. Each method has a different way of combining multiple models to improve accuracy and generalization.\n",
        "\n",
        "1.Bagging (Bootstrap Aggregating)\n",
        "\n",
        "Bagging reduces variance by training multiple models independently on random subsets of the data (bootstrap sampling).\n",
        "The final prediction is obtained by majority voting (classification) or averaging (regression).\n",
        "\n",
        "🔹 Example Algorithms\n",
        "✔ Random Forest (Ensemble of Decision Trees)\n",
        "✔ Bagging Classifier & Regressor\n",
        "\n",
        "✅ Advantages\n",
        "\n",
        "✔ Reduces overfitting (high variance models like Decision Trees).\n",
        "✔ Works well when models are prone to noise.\n",
        "\n",
        "❌ Disadvantages:\n",
        "\n",
        "❌ Computationally expensive (many models are trained).\n",
        "\n",
        "🔧 Example: Bagging Classifier with Decision Trees\n",
        "\n",
        "###2. Boosting\n",
        "Boosting reduces bias by training models sequentially, where each model learns from the mistakes of the previous model.\n",
        "Weak learners are gradually improved by focusing on misclassified samples.\n",
        "🔹 Example Algorithms\n",
        "✔ AdaBoost (Adaptive Boosting)\n",
        "✔ Gradient Boosting (GBM, XGBoost, LightGBM, CatBoost)\n",
        "\n",
        "✅ Advantages:\n",
        "\n",
        "✔ Reduces bias (good for weak models like Decision Trees).\n",
        "\n",
        "✔ Achieves higher accuracy than Bagging in many cases.\n",
        "\n",
        "❌ Disadvantages:\n",
        "\n",
        "❌ More prone to overfitting if not tuned properly.\n",
        "\n",
        "❌ Computationally more expensive than Bagging.\n",
        "\n",
        "###3.Stacking\n",
        "\n",
        "Stacking combines multiple diverse models (base learners) and uses a meta-model to make the final prediction.\n",
        "Unlike Bagging and Boosting, which use the same type of models, Stacking mixes different models (e.g., Decision Trees, SVM, Neural Networks).\n",
        "\n",
        "🔹 Example Algorithms:\n",
        "✔ Stacked Generalization (Combining multiple classifiers with a meta-classifier)\n",
        "\n",
        "✅ Advantages:\n",
        "\n",
        "✔ Can leverage different learning algorithms for better performance.\n",
        "\n",
        "✔ Reduces both bias and variance.\n",
        "\n",
        "❌ Disadvantages:\n",
        "\n",
        "❌ More complex to train and tune.\n",
        "\n",
        "❌ Requires careful selection of base models and meta-model."
      ],
      "metadata": {
        "id": "aT8xfv11JKnM"
      }
    },
    {
      "cell_type": "markdown",
      "source": [
        "###14.What is ensemble learning in machine learning?\n",
        "\n",
        "Ensemble Learning is a technique in machine learning where multiple models (learners) are combined to improve accuracy, robustness, and generalization. Instead of relying on a single model, ensemble methods aggregate predictions from several models to produce a more reliable output.\n",
        "\n",
        "###Why Use Ensemble Learning?\n",
        "\n",
        "A single model may be prone to overfitting (high variance) or underfitting (high bias).\n",
        "\n",
        "Combining multiple models helps to reduce errors, improve accuracy, and enhance generalization.\n",
        "\n",
        "Works well in complex datasets where a single model might struggle to capture patterns.\n",
        "\n",
        "###How Does Ensemble Learning Work?\n",
        "\n",
        "1.Train Multiple Models\n",
        "\n",
        "Different models are trained on the dataset.\n",
        "\n",
        "2.Aggregate Predictions\n",
        "\n",
        "Predictions are combined using majority voting (classification) or averaging (regression).\n",
        "\n",
        "Final Output\n",
        "The final prediction is more accurate and stable than any individual model.\n",
        "\n",
        "###Types of Ensemble Learning\n",
        "1.Bagging (Bootstrap Aggregating)\n",
        "\n",
        "Goal: Reduce variance and overfitting.\n",
        "\n",
        "How it Works: Multiple models are trained on different random subsets of data, and their predictions are averaged.\n",
        "\n",
        "Example: Random Forest (ensemble of Decision Trees).\n",
        "\n",
        "2. Boosting\n",
        "\n",
        "Goal: Reduce bias by improving weak models.\n",
        "\n",
        "How it Works: Models are trained sequentially, and each model focuses on correcting the mistakes of the previous one.\n",
        "\n",
        "Example: AdaBoost, XGBoost, Gradient Boosting.\n",
        "\n",
        "3. Stacking\n",
        "\n",
        "Goal: Improve accuracy by combining different models.\n",
        "\n",
        "How it Works: Different models make predictions, and a meta-model learns how to best combine these predictions.\n",
        "\n",
        "Example: Combining Random Forest, SVM, and Logistic Regression using a meta-model.\n"
      ],
      "metadata": {
        "id": "Vu2eef1LbwHe"
      }
    },
    {
      "cell_type": "markdown",
      "source": [
        "###15.When should we avoid using ensemble methods?\n",
        "\n",
        "Although ensemble methods improve accuracy and reduce overfitting, they are not always the best choice. There are certain scenarios where they should be avoided.\n",
        "\n",
        "1️⃣ When Computational Resources Are Limited\n",
        "\n",
        "✔ Why?\n",
        "\n",
        "Ensemble models (especially Boosting and Stacking) require training multiple models, which increases computation time and memory usage.\n",
        "\n",
        "Methods like Random Forest (Bagging) and XGBoost (Boosting) can be slow for large datasets.\n",
        "\n",
        "✔ Alternative:\n",
        "\n",
        "Use simpler models like Logistic Regression, Decision Trees, or SVM if accuracy is sufficient.\n",
        "\n",
        "2️⃣ When a Single Strong Model Is Performing Well\n",
        "\n",
        "✔ Why?\n",
        "\n",
        "If a single model (e.g., Deep Learning, Random Forest) already achieves high accuracy, ensemble learning may not provide significant improvement.\n",
        "\n",
        "Adding complexity without a major accuracy gain wastes resources.\n",
        "\n",
        "✔ Alternative:\n",
        "\n",
        "Use Hyperparameter Tuning to improve the single model instead of ensembling.\n",
        "\n",
        "3️⃣ When Model Interpretability Is Important\n",
        "\n",
        "✔ Why?\n",
        "\n",
        "Ensemble models are often considered black-box models, meaning it's hard to understand why they make certain predictions.\n",
        "\n",
        "In critical fields like medicine, finance, and law, models must be interpretable for decision-making.\n",
        "\n",
        "✔ Alternative:\n",
        "\n",
        "Use Decision Trees, Logistic Regression, or Explainable AI (XAI) techniques.\n",
        "\n",
        "4️⃣ When the Dataset Is Too Small\n",
        "\n",
        "✔ Why?\n",
        "\n",
        "Ensemble methods require diverse data to be effective.\n",
        "\n",
        "On small datasets, models may learn the same patterns, making ensembling redundant.\n",
        "\n",
        "✔ Alternative:\n",
        "\n",
        "Use Cross-Validation with a single model instead of ensembling.\n",
        "\n",
        "5️⃣ When Real-Time Predictions Are Required\n",
        "\n",
        "✔ Why?\n",
        "\n",
        "Ensemble models take longer to make predictions due to multiple models running in parallel or sequence.\n",
        "\n",
        "Applications like self-driving cars, fraud detection, and chatbots need fast inference time.\n",
        "\n",
        "✔ Alternative:\n",
        "\n",
        "Use Lightweight Models like Decision Trees, SVM, or Linear Regression for real-time applications.\n"
      ],
      "metadata": {
        "id": "tkivICk_cQqH"
      }
    },
    {
      "cell_type": "markdown",
      "source": [
        "###16.How does Bagging help in reducing overfitting?\n",
        "\n",
        "Bagging (Bootstrap Aggregating) reduces overfitting by training multiple models on different random subsets of the training data and then combining their predictions. This helps to lower the variance of the model, making it more generalized to unseen data.\n",
        "\n",
        "###How Bagging Works to Reduce Overfitting\n",
        "\n",
        "1️⃣ Bootstrap Sampling (Random Subsets of Data)\n",
        "\n",
        "Instead of training a single model on the entire dataset, Bagging creates multiple random subsets (with replacement) from the training data.\n",
        "Each subset is used to train a separate model, preventing memorization of noise in the data.\n",
        "\n",
        "2️⃣ Independent Model Training\n",
        "\n",
        "Each model is trained independently, reducing model dependency and preventing overfitting to a particular pattern.\n",
        "\n",
        "3️⃣ Aggregation of Predictions\n",
        "\n",
        "The predictions from all models are combined:\n",
        "\n",
        "For Classification: Majority voting (most frequent class is chosen).\n",
        "For Regression: Averaging (mean of all predictions).\n",
        "\n",
        "This smooths out noise and prevents any single model from dominating the decision, leading to better generalization.\n"
      ],
      "metadata": {
        "id": "809KV75gcUe7"
      }
    },
    {
      "cell_type": "markdown",
      "source": [
        "###17.Why is Random Forest better than a single Decision Tree?\n",
        "\n",
        "A Random Forest is better than a single Decision Tree because it improves accuracy, reduces overfitting, and increases stability by combining multiple Decision Trees. Instead of relying on one tree, Random Forest aggregates predictions from multiple trees, making it more robust and generalizable to unseen data.\n",
        "\n",
        "\n",
        "###Why is Random Forest More Powerful?\n",
        "1️⃣ Uses Bagging (Bootstrap Aggregation)\n",
        "\n",
        "Trains multiple trees on random subsets of the data.\n",
        "Reduces variance and prevents overfitting.\n",
        "\n",
        "2️⃣ Feature Randomness\n",
        "\n",
        "At each tree split, it selects a random subset of features, reducing dependency on a few dominant features.\n",
        "This ensures different trees learn different patterns, improving generalization.\n",
        "\n",
        "3️⃣ Majority Voting / Averaging\n",
        "\n",
        "Instead of relying on a single tree, it aggregates predictions from multiple trees:\n",
        "\n",
        "Classification: Uses majority voting (most common class wins).\n",
        "\n",
        "Regression: Uses averaging (smoothens predictions).\n",
        "\n",
        "This results in more stable and accurate predictions.\n"
      ],
      "metadata": {
        "id": "NAA0Ab8kcZKf"
      }
    },
    {
      "cell_type": "markdown",
      "source": [
        "###18.What is the role of bootstrap sampling in Bagging?\n",
        "\n",
        "Bootstrap sampling is a key technique in Bagging (Bootstrap Aggregating) that helps create multiple diverse training datasets by randomly selecting samples with replacement from the original dataset. It allows each base model to learn from different subsets of data, reducing overfitting and improving stability.\n",
        "\n",
        "###How Does Bootstrap Sampling Work in Bagging?\n",
        "\n",
        "1️⃣ Random Sampling with Replacement\n",
        "\n",
        "Each model in the ensemble is trained on a random subset of the training data.\n",
        "Some data points may appear multiple times, while others may be left out (about 37% of samples are not selected).\n",
        "\n",
        "2️⃣ Training Multiple Models Independently\n",
        "\n",
        "Each subset is used to train a weak learner (e.g., Decision Tree in Random Forest).\n",
        "\n",
        "Since each model sees a different subset, it learns different patterns.\n",
        "\n",
        "3️⃣ Aggregation of Predictions\n",
        "\n",
        "Once all models are trained, their predictions are combined:\n",
        "\n",
        "For Classification: Majority voting (most common class wins).\n",
        "\n",
        "For Regression: Averaging (smoothens predictions).\n",
        "\n",
        "###Why Is Bootstrap Sampling Important?\n",
        "\n",
        "✅ Reduces Overfitting\n",
        "\n",
        "Since each model sees only a portion of the data, it prevents memorization of noise.\n",
        "\n",
        "✅ Creates Diversity Among Models\n",
        "\n",
        "Different models learn different patterns, making the final prediction more generalizable.\n",
        "\n",
        "✅ Improves Stability\n",
        "\n",
        "Models trained on different subsets help prevent bias toward specific features or data points.\n",
        "\n",
        "✅ Allows Out-of-Bag (OOB) Evaluation\n",
        "\n",
        "The 37% of unseen samples can be used to evaluate model performance without a separate validation set.\n",
        "\n"
      ],
      "metadata": {
        "id": "o9F8zfjUceNY"
      }
    },
    {
      "cell_type": "markdown",
      "source": [
        "###19.What are some real-world applications of ensemble techniques?\n",
        "\n",
        "Ensemble techniques like Bagging, Boosting, and Stacking are widely used in real-world applications to improve accuracy, robustness, and generalization across various industries. Here are some key applications:\n",
        "\n",
        "1️⃣ Fraud Detection (Banking & Finance) 💳\n",
        "\n",
        "Detecting fraudulent transactions in credit cards, loans, and online banking.\n",
        "Boosting techniques like XGBoost and AdaBoost are commonly used to identify suspicious activities.\n",
        "\n",
        "✅ Example:\n",
        "A bank detects credit card fraud by training a Random Forest model on past transaction data. Legitimate vs. fraudulent transactions are classified based on transaction amount, location, and user behavior.\n",
        "\n",
        "\n",
        "2️⃣ Medical Diagnosis & Disease Prediction 🏥\n",
        "\n",
        "Used in cancer detection, heart disease prediction, and drug discovery.\n",
        "Random Forest & Stacking models help improve diagnostic accuracy.\n",
        "\n",
        "✅ Example:\n",
        "A Random Forest model analyzes MRI scans to classify brain tumors as benign or malignant, helping doctors make better treatment decisions.\n",
        "\n",
        "3️⃣ Stock Market Prediction 📈\n",
        "\n",
        "Boosting models like XGBoost and Gradient Boosting analyze historical stock prices and market trends.\n",
        "Used by traders and financial analysts to predict future stock movements.\n",
        "\n",
        "✅ Example:\n",
        "An XGBoost model predicts whether a stock's price will go up or down based on factors like trading volume, historical prices, and market indicators.\n",
        "\n",
        "4️⃣ Spam Email & Malware Detection 📧🔍\n",
        "\n",
        "Used by email providers (Gmail, Outlook) to classify emails as spam or legitimate.\n",
        "Boosting algorithms detect phishing emails and malware.\n",
        "\n",
        "✅ Example:\n",
        "A Spam Classifier uses AdaBoost to identify spam messages based on keywords, sender information, and email formatting.\n",
        "\n",
        "5️⃣ Image Recognition & Object Detection 📷\n",
        "\n",
        "Used in facial recognition, self-driving cars, and medical imaging.\n",
        "\n",
        "Convolutional Neural Networks (CNNs) + Ensemble Models improve accuracy.\n",
        "\n",
        "✅ Example:\n",
        "Self-driving cars use ensemble learning to detect pedestrians, road signs, and other vehicles, ensuring safe navigation.\n",
        "\n",
        "6️⃣ Sentiment Analysis (NLP) 💬\n",
        "\n",
        "Used in social media monitoring, customer reviews, and brand analysis.\n",
        "Stacking models combine LSTMs, Random Forest, and XGBoost for text classification.\n",
        "\n",
        "✅ Example:\n",
        "A Stacked model analyzes Twitter data to determine whether a brand’s sentiment is positive, negative, or neutral.\n",
        "\n",
        "\n",
        "7️⃣ Recommender Systems (E-commerce & Entertainment) 🛒🎬\n",
        "\n",
        "Used by Amazon, Netflix, and YouTube to recommend products, movies, and videos.\n",
        "Hybrid models (Collaborative Filtering + Boosting) personalize recommendations.\n",
        "\n",
        "✅ Example:\n",
        "Netflix uses an ensemble of models to suggest movies based on viewing history, user ratings, and watch time.\n",
        "\n",
        "\n",
        "8️⃣ Healthcare & Drug Discovery 💊\n",
        "\n",
        "Used to predict disease outbreaks and design new medicines.\n",
        "Ensemble learning helps in clinical research and bioinformatics.\n",
        "\n",
        "✅ Example:\n",
        "AI models predict COVID-19 patient risk by analyzing symptoms, X-ray scans, and lab test results using Random Forest + XGBoost.\n",
        "\n",
        "9️⃣ Customer Churn Prediction 📉\n",
        "\n",
        "Used by telecom, banks, and subscription services to predict whether a customer will stop using a service.\n",
        "Boosting models (XGBoost, LightGBM) analyze customer behavior and transaction history.\n",
        "\n",
        "✅ Example:\n",
        "A telecom company predicts which customers are likely to cancel their mobile plans and offers discounts to retain them.\n",
        "\n",
        "\n",
        "10️⃣ Weather Forecasting & Climate Change Analysis 🌦️\n",
        "\n",
        "Used by meteorologists and climate scientists to analyze rainfall, temperature, and natural disasters.\n",
        "Random Forest & Gradient Boosting are used to predict extreme weather conditions.\n",
        "\n",
        "✅ Example:\n",
        "NASA uses ensemble learning to predict hurricanes, tornadoes, and heat waves based on historical climate data.\n",
        "\n",
        "\n",
        "###Conclusion\n",
        "✔ Ensemble techniques are widely used across industries to improve accuracy and decision-making.\n",
        "\n",
        "✔ Bagging (Random Forest), Boosting (XGBoost, AdaBoost), and Stacking power real-world AI applications.\n",
        "\n",
        "✔ Used in finance, healthcare, e-commerce, cybersecurity, weather forecasting, and more.\n"
      ],
      "metadata": {
        "id": "ePWkOTu4chhf"
      }
    },
    {
      "cell_type": "markdown",
      "source": [
        "###20.What is the difference between Bagging and Boosting?\n",
        "\n",
        "\n",
        "###1️⃣ Bagging (Bootstrap Aggregating)\n",
        "📌 How It Works:\n",
        "\n",
        "Random subsets of the training data are created using bootstrap sampling (sampling with replacement).\n",
        "\n",
        "Each subset is used to train an independent model (typically Decision Trees).\n",
        "\n",
        "The final prediction is obtained using majority voting (classification) or averaging (regression).\n",
        "\n",
        "📌 Best For:\n",
        "\n",
        "High variance models (like Decision Trees).\n",
        "\n",
        "Reducing overfitting and improving stability.\n",
        "\n",
        "###2️⃣ Boosting\n",
        "📌 How It Works:\n",
        "\n",
        "Models are trained sequentially, where each new model focuses on the mistakes of the previous models.\n",
        "\n",
        "Misclassified instances get higher weights, so the next model pays more attention to them.\n",
        "\n",
        "The final prediction is made by weighted voting (classification) or weighted averaging (regression).\n",
        "\n",
        "📌 Best For:\n",
        "\n",
        "High bias models (like Logistic Regression, Decision Stumps).\n",
        "\n",
        "Improving accuracy on complex datasets.\n",
        "\n",
        "###Key Takeaways:\n",
        "✔ Bagging is useful for high-variance models (e.g., Decision Trees).\n",
        "\n",
        "✔ Boosting is useful for high-bias models that need improvement.\n",
        "\n",
        "✔ Random Forest (Bagging) is good for stability, while XGBoost (Boosting) is good for high accuracy."
      ],
      "metadata": {
        "id": "7UGQ0nQ8cln3"
      }
    },
    {
      "cell_type": "markdown",
      "source": [
        "###Practical Quetsions"
      ],
      "metadata": {
        "id": "M5IyK7g9gBf0"
      }
    },
    {
      "cell_type": "code",
      "source": [
        "#21. Train a Bagging Classifier using Decision Trees on a sample dataset and print model accuracy.\n",
        "\n",
        "from sklearn.ensemble import BaggingClassifier\n",
        "from sklearn.tree import DecisionTreeClassifier\n",
        "from sklearn.datasets import load_iris\n",
        "from sklearn.model_selection import train_test_split\n",
        "from sklearn.metrics import accuracy_score\n",
        "\n",
        "# Load the Iris dataset\n",
        "X, y = load_iris(return_X_y=True)\n",
        "\n",
        "# Split the data into training and testing sets (80% train, 20% test)\n",
        "X_train, X_test, y_train, y_test = train_test_split(X, y, test_size=0.2, random_state=42)\n",
        "\n",
        "# Create a Bagging Classifier with Decision Trees\n",
        "bagging_clf = BaggingClassifier(estimator=DecisionTreeClassifier(), n_estimators=50, random_state=42)\n",
        "\n",
        "# Train the model on the training data\n",
        "bagging_clf.fit(X_train, y_train)\n",
        "\n",
        "# Make predictions on the test set\n",
        "y_pred = bagging_clf.predict(X_test)\n",
        "\n",
        "# Calculate and print accuracy\n",
        "accuracy = accuracy_score(y_test, y_pred)\n",
        "print(\"Bagging Classifier Accuracy:\", accuracy)\n"
      ],
      "metadata": {
        "colab": {
          "base_uri": "https://localhost:8080/"
        },
        "id": "QhaKR70qgFHS",
        "outputId": "288ca96d-b31a-43a3-9ff3-d0212c326986"
      },
      "execution_count": 2,
      "outputs": [
        {
          "output_type": "stream",
          "name": "stdout",
          "text": [
            "Bagging Classifier Accuracy: 1.0\n"
          ]
        }
      ]
    },
    {
      "cell_type": "code",
      "source": [
        "#22.Train a Bagging Regressor using Decision Trees and evaluate using Mean Squared Error (MSE)\n",
        "\n",
        "from sklearn.ensemble import BaggingRegressor\n",
        "from sklearn.tree import DecisionTreeRegressor\n",
        "from sklearn.datasets import load_diabetes\n",
        "from sklearn.model_selection import train_test_split\n",
        "from sklearn.metrics import mean_squared_error\n",
        "\n",
        "# Load the Diabetes dataset\n",
        "X, y = load_diabetes(return_X_y=True)\n",
        "\n",
        "# Split the data into training and testing sets (80% train, 20% test)\n",
        "X_train, X_test, y_train, y_test = train_test_split(X, y, test_size=0.2, random_state=42)\n",
        "\n",
        "# Create a Bagging Regressor with Decision Trees\n",
        "bagging_reg = BaggingRegressor(estimator=DecisionTreeRegressor(), n_estimators=50, random_state=42)\n",
        "\n",
        "# Train the model on the training data\n",
        "bagging_reg.fit(X_train, y_train)\n",
        "\n",
        "# Make predictions on the test set\n",
        "y_pred = bagging_reg.predict(X_test)\n",
        "\n",
        "# Calculate and print Mean Squared Error (MSE)\n",
        "mse = mean_squared_error(y_test, y_pred)\n",
        "print(\"Bagging Regressor Mean Squared Error (MSE):\", mse)\n",
        "\n",
        "\n"
      ],
      "metadata": {
        "colab": {
          "base_uri": "https://localhost:8080/"
        },
        "id": "jH9n_ACbgHGp",
        "outputId": "4ea77605-841d-4fe7-f664-e66ce4cec95d"
      },
      "execution_count": 4,
      "outputs": [
        {
          "output_type": "stream",
          "name": "stdout",
          "text": [
            "Bagging Regressor Mean Squared Error (MSE): 3056.494602247191\n"
          ]
        }
      ]
    },
    {
      "cell_type": "code",
      "source": [
        "#23.Train a Random Forest Classifier on the Breast Cancer dataset and print feature importance scores\n",
        "\n",
        "from sklearn.ensemble import RandomForestClassifier\n",
        "from sklearn.datasets import load_breast_cancer\n",
        "from sklearn.model_selection import train_test_split\n",
        "import pandas as pd\n",
        "\n",
        "# Load the Breast Cancer dataset\n",
        "data = load_breast_cancer()\n",
        "X, y = data.data, data.target\n",
        "feature_names = data.feature_names\n",
        "\n",
        "# Split the data into training and testing sets (80% train, 20% test)\n",
        "X_train, X_test, y_train, y_test = train_test_split(X, y, test_size=0.2, random_state=42)\n",
        "\n",
        "# Train a Random Forest Classifier\n",
        "rf_clf = RandomForestClassifier(n_estimators=100, random_state=42)\n",
        "rf_clf.fit(X_train, y_train)\n",
        "\n",
        "# Get feature importance scores\n",
        "feature_importance = pd.DataFrame({'Feature': feature_names, 'Importance': rf_clf.feature_importances_})\n",
        "feature_importance = feature_importance.sort_values(by='Importance', ascending=False)\n",
        "\n",
        "# Print feature importance scores\n",
        "print(\"Feature Importance Scores:\\n\", feature_importance)\n"
      ],
      "metadata": {
        "colab": {
          "base_uri": "https://localhost:8080/"
        },
        "id": "gzxMFHh5gHDP",
        "outputId": "cc69920d-f0ef-4d7c-eeb7-d827be2dce42"
      },
      "execution_count": 5,
      "outputs": [
        {
          "output_type": "stream",
          "name": "stdout",
          "text": [
            "Feature Importance Scores:\n",
            "                     Feature  Importance\n",
            "23               worst area    0.153892\n",
            "27     worst concave points    0.144663\n",
            "7       mean concave points    0.106210\n",
            "20             worst radius    0.077987\n",
            "6            mean concavity    0.068001\n",
            "22          worst perimeter    0.067115\n",
            "2            mean perimeter    0.053270\n",
            "0               mean radius    0.048703\n",
            "3                 mean area    0.047555\n",
            "26          worst concavity    0.031802\n",
            "13               area error    0.022407\n",
            "21            worst texture    0.021749\n",
            "25        worst compactness    0.020266\n",
            "10             radius error    0.020139\n",
            "5          mean compactness    0.013944\n",
            "1              mean texture    0.013591\n",
            "12          perimeter error    0.011303\n",
            "24         worst smoothness    0.010644\n",
            "28           worst symmetry    0.010120\n",
            "16          concavity error    0.009386\n",
            "4           mean smoothness    0.007285\n",
            "19  fractal dimension error    0.005321\n",
            "15        compactness error    0.005253\n",
            "29  worst fractal dimension    0.005210\n",
            "11            texture error    0.004724\n",
            "14         smoothness error    0.004271\n",
            "18           symmetry error    0.004018\n",
            "9    mean fractal dimension    0.003886\n",
            "8             mean symmetry    0.003770\n",
            "17     concave points error    0.003513\n"
          ]
        }
      ]
    },
    {
      "cell_type": "code",
      "source": [
        "#24. Train a Random Forest Regressor and compare its performance with a single Decision Tree\n",
        "\n",
        "from sklearn.ensemble import RandomForestRegressor\n",
        "from sklearn.tree import DecisionTreeRegressor\n",
        "from sklearn.datasets import load_diabetes\n",
        "from sklearn.model_selection import train_test_split\n",
        "from sklearn.metrics import mean_squared_error\n",
        "\n",
        "# Load the Diabetes dataset\n",
        "X, y = load_diabetes(return_X_y=True)\n",
        "\n",
        "# Split the data into training and testing sets (80% train, 20% test)\n",
        "X_train, X_test, y_train, y_test = train_test_split(X, y, test_size=0.2, random_state=42)\n",
        "\n",
        "# Train a Single Decision Tree Regressor\n",
        "dt_reg = DecisionTreeRegressor(random_state=42)\n",
        "dt_reg.fit(X_train, y_train)\n",
        "y_pred_dt = dt_reg.predict(X_test)\n",
        "mse_dt = mean_squared_error(y_test, y_pred_dt)\n",
        "\n",
        "# Train a Random Forest Regressor\n",
        "rf_reg = RandomForestRegressor(n_estimators=100, random_state=42)\n",
        "rf_reg.fit(X_train, y_train)\n",
        "y_pred_rf = rf_reg.predict(X_test)\n",
        "mse_rf = mean_squared_error(y_test, y_pred_rf)\n",
        "\n",
        "# Print Mean Squared Errors\n",
        "print(\"Decision Tree Regressor MSE:\", mse_dt)\n",
        "print(\"Random Forest Regressor MSE:\", mse_rf)\n"
      ],
      "metadata": {
        "colab": {
          "base_uri": "https://localhost:8080/"
        },
        "id": "Z23GXEa3gHA5",
        "outputId": "eef2c8ad-e3dd-456f-a730-045342579268"
      },
      "execution_count": 6,
      "outputs": [
        {
          "output_type": "stream",
          "name": "stdout",
          "text": [
            "Decision Tree Regressor MSE: 4976.797752808989\n",
            "Random Forest Regressor MSE: 2952.0105887640448\n"
          ]
        }
      ]
    },
    {
      "cell_type": "code",
      "source": [
        "#25. Compute the Out-of-Bag (OOB) Score for a Random Forest Classifier\n",
        "\n",
        "from sklearn.ensemble import RandomForestClassifier\n",
        "from sklearn.datasets import load_breast_cancer\n",
        "from sklearn.model_selection import train_test_split\n",
        "\n",
        "# Load the Breast Cancer dataset\n",
        "data = load_breast_cancer()\n",
        "X, y = data.data, data.target\n",
        "\n",
        "# Split the data into training and testing sets (80% train, 20% test)\n",
        "X_train, X_test, y_train, y_test = train_test_split(X, y, test_size=0.2, random_state=42)\n",
        "\n",
        "# Train a Random Forest Classifier with OOB score enabled\n",
        "rf_clf = RandomForestClassifier(n_estimators=100, oob_score=True, random_state=42)\n",
        "rf_clf.fit(X_train, y_train)\n",
        "\n",
        "# Print the Out-of-Bag (OOB) Score\n",
        "print(\"Out-of-Bag (OOB) Score:\", rf_clf.oob_score_)\n"
      ],
      "metadata": {
        "colab": {
          "base_uri": "https://localhost:8080/"
        },
        "id": "Kyfmt2zhgG87",
        "outputId": "b06cff24-b278-491e-a3ac-29b9269d2914"
      },
      "execution_count": 8,
      "outputs": [
        {
          "output_type": "stream",
          "name": "stdout",
          "text": [
            "Out-of-Bag (OOB) Score: 0.9560439560439561\n"
          ]
        }
      ]
    },
    {
      "cell_type": "code",
      "source": [
        "#26.Train a Bagging Classifier using SVM as a base estimator and print accuracy\n",
        "\n",
        "from sklearn.ensemble import BaggingClassifier\n",
        "from sklearn.svm import SVC\n",
        "from sklearn.datasets import load_iris\n",
        "from sklearn.model_selection import train_test_split\n",
        "from sklearn.metrics import accuracy_score\n",
        "\n",
        "# Load the Iris dataset\n",
        "X, y = load_iris(return_X_y=True)\n",
        "\n",
        "# Split the data into training and testing sets (80% train, 20% test)\n",
        "X_train, X_test, y_train, y_test = train_test_split(X, y, test_size=0.2, random_state=42)\n",
        "\n",
        "# Create a Bagging Classifier with SVM as the base estimator\n",
        "bagging_clf = BaggingClassifier(estimator=SVC(), n_estimators=50, random_state=42)\n",
        "\n",
        "# Train the model on the training data\n",
        "bagging_clf.fit(X_train, y_train)\n",
        "\n",
        "# Make predictions on the test set\n",
        "y_pred = bagging_clf.predict(X_test)\n",
        "\n",
        "# Calculate and print accuracy\n",
        "accuracy = accuracy_score(y_test, y_pred)\n",
        "print(\"Bagging Classifier (SVM) Accuracy:\", accuracy)\n"
      ],
      "metadata": {
        "colab": {
          "base_uri": "https://localhost:8080/"
        },
        "id": "QByj6VKkgG3j",
        "outputId": "83f35fc5-d70d-4397-824f-b9aef3c3b66b"
      },
      "execution_count": 9,
      "outputs": [
        {
          "output_type": "stream",
          "name": "stdout",
          "text": [
            "Bagging Classifier (SVM) Accuracy: 1.0\n"
          ]
        }
      ]
    },
    {
      "cell_type": "code",
      "source": [
        "#27.Train a Random Forest Classifier with different numbers of trees and compare accuracy\n",
        "\n",
        "from sklearn.ensemble import RandomForestClassifier\n",
        "from sklearn.datasets import load_iris\n",
        "from sklearn.model_selection import train_test_split\n",
        "from sklearn.metrics import accuracy_score\n",
        "\n",
        "# Load the Iris dataset\n",
        "X, y = load_iris(return_X_y=True)\n",
        "\n",
        "# Split the data into training and testing sets (80% train, 20% test)\n",
        "X_train, X_test, y_train, y_test = train_test_split(X, y, test_size=0.2, random_state=42)\n",
        "\n",
        "# Define different numbers of trees\n",
        "n_trees = [10, 50, 100, 200]\n",
        "\n",
        "# Train Random Forest Classifiers with different numbers of trees and compare accuracy\n",
        "for n in n_trees:\n",
        "    rf_clf = RandomForestClassifier(n_estimators=n, random_state=42)\n",
        "    rf_clf.fit(X_train, y_train)\n",
        "    y_pred = rf_clf.predict(X_test)\n",
        "    accuracy = accuracy_score(y_test, y_pred)\n",
        "    print(f\"Random Forest with {n} trees - Accuracy: {accuracy}\")\n"
      ],
      "metadata": {
        "colab": {
          "base_uri": "https://localhost:8080/"
        },
        "id": "oFP8bqgKgG0B",
        "outputId": "915dd39c-f36f-410f-a66b-660bea5adb18"
      },
      "execution_count": 10,
      "outputs": [
        {
          "output_type": "stream",
          "name": "stdout",
          "text": [
            "Random Forest with 10 trees - Accuracy: 1.0\n",
            "Random Forest with 50 trees - Accuracy: 1.0\n",
            "Random Forest with 100 trees - Accuracy: 1.0\n",
            "Random Forest with 200 trees - Accuracy: 1.0\n"
          ]
        }
      ]
    },
    {
      "cell_type": "code",
      "source": [
        "#28.Train a Bagging Classifier using Logistic Regression as a base estimator and print AUC score\n",
        "\n",
        "from sklearn.ensemble import BaggingClassifier\n",
        "from sklearn.linear_model import LogisticRegression\n",
        "from sklearn.datasets import load_breast_cancer\n",
        "from sklearn.model_selection import train_test_split\n",
        "from sklearn.metrics import roc_auc_score\n",
        "\n",
        "# Load the Breast Cancer dataset\n",
        "X, y = load_breast_cancer(return_X_y=True)\n",
        "\n",
        "# Split the data into training and testing sets (80% train, 20% test)\n",
        "X_train, X_test, y_train, y_test = train_test_split(X, y, test_size=0.2, random_state=42)\n",
        "\n",
        "# Create a Bagging Classifier with Logistic Regression as the base estimator\n",
        "bagging_clf = BaggingClassifier(estimator=LogisticRegression(max_iter=5000), n_estimators=50, random_state=42)\n",
        "\n",
        "# Train the model on the training data\n",
        "bagging_clf.fit(X_train, y_train)\n",
        "\n",
        "# Make probability predictions on the test set\n",
        "y_prob = bagging_clf.predict_proba(X_test)[:, 1]  # Get probability of the positive class\n",
        "\n",
        "# Calculate and print AUC score\n",
        "auc_score = roc_auc_score(y_test, y_prob)\n",
        "print(\"Bagging Classifier (Logistic Regression) AUC Score:\", auc_score)\n"
      ],
      "metadata": {
        "colab": {
          "base_uri": "https://localhost:8080/"
        },
        "id": "kzHR4YsGgGyC",
        "outputId": "ea63f15f-02ae-4543-d65d-8a643f863207"
      },
      "execution_count": 11,
      "outputs": [
        {
          "output_type": "stream",
          "name": "stdout",
          "text": [
            "Bagging Classifier (Logistic Regression) AUC Score: 0.99737962659679\n"
          ]
        }
      ]
    },
    {
      "cell_type": "code",
      "source": [
        "#29.Train a Random Forest Regressor and analyze feature importance scores\n",
        "\n",
        "from sklearn.ensemble import RandomForestRegressor\n",
        "from sklearn.datasets import load_diabetes\n",
        "from sklearn.model_selection import train_test_split\n",
        "import pandas as pd\n",
        "\n",
        "# Load the Diabetes dataset\n",
        "data = load_diabetes()\n",
        "X, y = data.data, data.target\n",
        "feature_names = data.feature_names\n",
        "\n",
        "# Split the data into training and testing sets (80% train, 20% test)\n",
        "X_train, X_test, y_train, y_test = train_test_split(X, y, test_size=0.2, random_state=42)\n",
        "\n",
        "# Train a Random Forest Regressor\n",
        "rf_reg = RandomForestRegressor(n_estimators=100, random_state=42)\n",
        "rf_reg.fit(X_train, y_train)\n",
        "\n",
        "# Get feature importance scores\n",
        "feature_importance = pd.DataFrame({'Feature': feature_names, 'Importance': rf_reg.feature_importances_})\n",
        "feature_importance = feature_importance.sort_values(by='Importance', ascending=False)\n",
        "\n",
        "# Print feature importance scores\n",
        "print(\"Feature Importance Scores:\\n\", feature_importance)\n"
      ],
      "metadata": {
        "colab": {
          "base_uri": "https://localhost:8080/"
        },
        "id": "cbcXw1LlhhlZ",
        "outputId": "5eb1d410-5410-446f-816e-a8deeff232e9"
      },
      "execution_count": 12,
      "outputs": [
        {
          "output_type": "stream",
          "name": "stdout",
          "text": [
            "Feature Importance Scores:\n",
            "   Feature  Importance\n",
            "2     bmi    0.355469\n",
            "8      s5    0.230957\n",
            "3      bp    0.088408\n",
            "9      s6    0.071329\n",
            "0     age    0.058642\n",
            "5      s2    0.057227\n",
            "4      s1    0.052784\n",
            "6      s3    0.051339\n",
            "7      s4    0.024213\n",
            "1     sex    0.009633\n"
          ]
        }
      ]
    },
    {
      "cell_type": "code",
      "source": [
        "#30.Train an ensemble model using both Bagging and Random Forest and compare accuracy\n",
        "\n",
        "from sklearn.ensemble import BaggingClassifier, RandomForestClassifier\n",
        "from sklearn.tree import DecisionTreeClassifier\n",
        "from sklearn.datasets import load_iris\n",
        "from sklearn.model_selection import train_test_split\n",
        "from sklearn.metrics import accuracy_score\n",
        "\n",
        "# Load the Iris dataset\n",
        "X, y = load_iris(return_X_y=True)\n",
        "\n",
        "# Split the data into training and testing sets (80% train, 20% test)\n",
        "X_train, X_test, y_train, y_test = train_test_split(X, y, test_size=0.2, random_state=42)\n",
        "\n",
        "# Train a Bagging Classifier with Decision Trees\n",
        "bagging_clf = BaggingClassifier(estimator=DecisionTreeClassifier(), n_estimators=50, random_state=42)\n",
        "bagging_clf.fit(X_train, y_train)\n",
        "y_pred_bagging = bagging_clf.predict(X_test)\n",
        "accuracy_bagging = accuracy_score(y_test, y_pred_bagging)\n",
        "\n",
        "# Train a Random Forest Classifier\n",
        "rf_clf = RandomForestClassifier(n_estimators=50, random_state=42)\n",
        "rf_clf.fit(X_train, y_train)\n",
        "y_pred_rf = rf_clf.predict(X_test)\n",
        "accuracy_rf = accuracy_score(y_test, y_pred_rf)\n",
        "\n",
        "# Print accuracy scores\n",
        "print(\"Bagging Classifier Accuracy:\", accuracy_bagging)\n",
        "print(\"Random Forest Classifier Accuracy:\", accuracy_rf)\n",
        "\n"
      ],
      "metadata": {
        "colab": {
          "base_uri": "https://localhost:8080/"
        },
        "id": "ogwy4OzigGvO",
        "outputId": "d709d013-7456-4601-d5de-962d853f382a"
      },
      "execution_count": 13,
      "outputs": [
        {
          "output_type": "stream",
          "name": "stdout",
          "text": [
            "Bagging Classifier Accuracy: 1.0\n",
            "Random Forest Classifier Accuracy: 1.0\n"
          ]
        }
      ]
    },
    {
      "cell_type": "code",
      "source": [
        "#31.Train a Random Forest Classifier and tune hyperparameters using GridSearchCV\n",
        "\n",
        "from sklearn.ensemble import RandomForestClassifier\n",
        "from sklearn.datasets import load_iris\n",
        "from sklearn.model_selection import train_test_split, GridSearchCV\n",
        "\n",
        "# Load dataset\n",
        "X, y = load_iris(return_X_y=True)\n",
        "X_train, X_test, y_train, y_test = train_test_split(X, y, test_size=0.2, random_state=42)\n",
        "\n",
        "# Define hyperparameter grid\n",
        "param_grid = {\n",
        "    'n_estimators': [50, 100, 200],\n",
        "    'max_depth': [None, 10, 20],\n",
        "    'criterion': ['gini', 'entropy']\n",
        "}\n",
        "\n",
        "# GridSearchCV for tuning hyperparameters\n",
        "grid_search = GridSearchCV(RandomForestClassifier(random_state=42), param_grid, cv=5, scoring='accuracy')\n",
        "grid_search.fit(X_train, y_train)\n",
        "\n",
        "# Print best parameters and accuracy\n",
        "print(\"Best parameters:\", grid_search.best_params_)\n",
        "print(\"Best accuracy:\", grid_search.best_score_)\n",
        "\n",
        ""
      ],
      "metadata": {
        "colab": {
          "base_uri": "https://localhost:8080/"
        },
        "id": "GC0kDhbYgGsk",
        "outputId": "d9f320eb-49ee-4ab2-b979-4e3856390a9c"
      },
      "execution_count": 14,
      "outputs": [
        {
          "output_type": "stream",
          "name": "stdout",
          "text": [
            "Best parameters: {'criterion': 'gini', 'max_depth': None, 'n_estimators': 200}\n",
            "Best accuracy: 0.95\n"
          ]
        }
      ]
    },
    {
      "cell_type": "code",
      "source": [
        "#32.Train a Bagging Regressor with different numbers of base estimators and compare performance\n",
        "\n",
        "from sklearn.ensemble import BaggingRegressor\n",
        "from sklearn.tree import DecisionTreeRegressor\n",
        "from sklearn.datasets import load_diabetes\n",
        "from sklearn.model_selection import train_test_split\n",
        "from sklearn.metrics import mean_squared_error\n",
        "\n",
        "# Load dataset\n",
        "X, y = load_diabetes(return_X_y=True)\n",
        "X_train, X_test, y_train, y_test = train_test_split(X, y, test_size=0.2, random_state=42)\n",
        "\n",
        "# Compare performance for different base estimators\n",
        "n_estimators_list = [10, 50, 100, 200]\n",
        "for n in n_estimators_list:\n",
        "    bagging_reg = BaggingRegressor(estimator=DecisionTreeRegressor(), n_estimators=n, random_state=42)\n",
        "    bagging_reg.fit(X_train, y_train)\n",
        "    y_pred = bagging_reg.predict(X_test)\n",
        "    mse = mean_squared_error(y_test, y_pred)\n",
        "    print(f\"Bagging Regressor with {n} estimators - MSE: {mse}\")\n"
      ],
      "metadata": {
        "colab": {
          "base_uri": "https://localhost:8080/"
        },
        "id": "dtYopD8RgGpM",
        "outputId": "03258875-6f3b-4a41-81dd-9e92190aa93f"
      },
      "execution_count": 15,
      "outputs": [
        {
          "output_type": "stream",
          "name": "stdout",
          "text": [
            "Bagging Regressor with 10 estimators - MSE: 3256.961797752809\n",
            "Bagging Regressor with 50 estimators - MSE: 3056.494602247191\n",
            "Bagging Regressor with 100 estimators - MSE: 2970.863235955056\n",
            "Bagging Regressor with 200 estimators - MSE: 2995.6186106741575\n"
          ]
        }
      ]
    },
    {
      "cell_type": "code",
      "source": [
        "#33.Train a Random Forest Classifier and analyze misclassified samples\n",
        "\n",
        "from sklearn.ensemble import RandomForestClassifier\n",
        "from sklearn.datasets import load_digits\n",
        "from sklearn.model_selection import train_test_split\n",
        "import numpy as np\n",
        "\n",
        "# Load dataset\n",
        "X, y = load_digits(return_X_y=True)\n",
        "X_train, X_test, y_train, y_test = train_test_split(X, y, test_size=0.2, random_state=42)\n",
        "\n",
        "# Train model\n",
        "rf_clf = RandomForestClassifier(n_estimators=100, random_state=42)\n",
        "rf_clf.fit(X_train, y_train)\n",
        "\n",
        "# Identify misclassified samples\n",
        "y_pred = rf_clf.predict(X_test)\n",
        "misclassified = np.where(y_test != y_pred)[0]\n",
        "\n",
        "print(f\"Total Misclassified Samples: {len(misclassified)}\")\n",
        "print(\"Indices of Misclassified Samples:\", misclassified)\n"
      ],
      "metadata": {
        "colab": {
          "base_uri": "https://localhost:8080/"
        },
        "id": "r2VrkwsvgGmn",
        "outputId": "9305e525-d5f6-4008-9d18-32cf777b444c"
      },
      "execution_count": 16,
      "outputs": [
        {
          "output_type": "stream",
          "name": "stdout",
          "text": [
            "Total Misclassified Samples: 10\n",
            "Indices of Misclassified Samples: [ 97 133 149 159 166 204 234 244 249 339]\n"
          ]
        }
      ]
    },
    {
      "cell_type": "code",
      "source": [
        "#34. Train a Bagging Classifier and compare its performance with a single Decision Tree Classifier\n",
        "\n",
        "from sklearn.ensemble import BaggingClassifier\n",
        "from sklearn.tree import DecisionTreeClassifier\n",
        "from sklearn.datasets import load_iris\n",
        "from sklearn.model_selection import train_test_split\n",
        "from sklearn.metrics import accuracy_score\n",
        "\n",
        "# Load dataset\n",
        "X, y = load_iris(return_X_y=True)\n",
        "X_train, X_test, y_train, y_test = train_test_split(X, y, test_size=0.2, random_state=42)\n",
        "\n",
        "# Train Decision Tree\n",
        "dt_clf = DecisionTreeClassifier(random_state=42)\n",
        "dt_clf.fit(X_train, y_train)\n",
        "dt_accuracy = accuracy_score(y_test, dt_clf.predict(X_test))\n",
        "\n",
        "# Train Bagging Classifier\n",
        "bagging_clf = BaggingClassifier(estimator=DecisionTreeClassifier(), n_estimators=50, random_state=42)\n",
        "bagging_clf.fit(X_train, y_train)\n",
        "bagging_accuracy = accuracy_score(y_test, bagging_clf.predict(X_test))\n",
        "\n",
        "print(\"Decision Tree Accuracy:\", dt_accuracy)\n",
        "print(\"Bagging Classifier Accuracy:\", bagging_accuracy)\n"
      ],
      "metadata": {
        "colab": {
          "base_uri": "https://localhost:8080/"
        },
        "id": "bwqWa8UpgGkR",
        "outputId": "0c4c1495-95ab-4830-fa4e-4dbf2a51ae87"
      },
      "execution_count": 17,
      "outputs": [
        {
          "output_type": "stream",
          "name": "stdout",
          "text": [
            "Decision Tree Accuracy: 1.0\n",
            "Bagging Classifier Accuracy: 1.0\n"
          ]
        }
      ]
    },
    {
      "cell_type": "code",
      "source": [
        "#35.Train a Random Forest Classifier and visualize the confusion matrix\n",
        "\n",
        "from sklearn.ensemble import RandomForestClassifier\n",
        "from sklearn.metrics import confusion_matrix, ConfusionMatrixDisplay\n",
        "from sklearn.datasets import load_digits\n",
        "from sklearn.model_selection import train_test_split\n",
        "import matplotlib.pyplot as plt\n",
        "\n",
        "# Load dataset (Ensure we use the same dataset for training and testing)\n",
        "digits = load_digits()\n",
        "X, y = digits.data, digits.target  # X has 64 features\n",
        "\n",
        "# Split data\n",
        "X_train, X_test, y_train, y_test = train_test_split(X, y, test_size=0.2, random_state=42)\n",
        "\n",
        "# Train a Random Forest Classifier\n",
        "rf_clf = RandomForestClassifier(n_estimators=100, random_state=42)\n",
        "rf_clf.fit(X_train, y_train)\n",
        "\n",
        "# Compute confusion matrix\n",
        "cm = confusion_matrix(y_test, rf_clf.predict(X_test))\n",
        "\n",
        "# Display confusion matrix\n",
        "disp = ConfusionMatrixDisplay(confusion_matrix=cm, display_labels=digits.target_names)\n",
        "disp.plot(cmap=\"Blues\")\n",
        "plt.title(\"Confusion Matrix - Random Forest\")\n",
        "plt.show()\n",
        "\n"
      ],
      "metadata": {
        "colab": {
          "base_uri": "https://localhost:8080/",
          "height": 472
        },
        "id": "gke_rnyLgGhm",
        "outputId": "14393b06-c88b-459c-f6a9-0d42b342be9e"
      },
      "execution_count": 33,
      "outputs": [
        {
          "output_type": "display_data",
          "data": {
            "text/plain": [
              "<Figure size 640x480 with 2 Axes>"
            ],
            "image/png": "[encoded data removed]"
          },
          "metadata": {}
        }
      ]
    },
    {
      "cell_type": "code",
      "source": [
        "#36. Train a Stacking Classifier using Decision Trees, SVM, and Logistic Regression, and compare accuracy\n",
        "\n",
        "from sklearn.ensemble import StackingClassifier\n",
        "from sklearn.linear_model import LogisticRegression\n",
        "from sklearn.svm import SVC\n",
        "\n",
        "# Define base models\n",
        "base_models = [\n",
        "    ('decision_tree', DecisionTreeClassifier(random_state=42)),\n",
        "    ('svm', SVC(probability=True, random_state=42))\n",
        "]\n",
        "\n",
        "# Define meta-model\n",
        "meta_model = LogisticRegression()\n",
        "\n",
        "# Train Stacking Classifier\n",
        "stacking_clf = StackingClassifier(estimators=base_models, final_estimator=meta_model)\n",
        "stacking_clf.fit(X_train, y_train)\n",
        "\n",
        "# Evaluate accuracy\n",
        "stacking_accuracy = accuracy_score(y_test, stacking_clf.predict(X_test))\n",
        "print(\"Stacking Classifier Accuracy:\", stacking_accuracy)\n"
      ],
      "metadata": {
        "colab": {
          "base_uri": "https://localhost:8080/"
        },
        "id": "1M0y-gPlgGes",
        "outputId": "6b54be91-f63c-4e5b-e26b-b06a784ee6b3"
      },
      "execution_count": 19,
      "outputs": [
        {
          "output_type": "stream",
          "name": "stdout",
          "text": [
            "Stacking Classifier Accuracy: 1.0\n"
          ]
        }
      ]
    },
    {
      "cell_type": "code",
      "source": [
        "#37.Train a Random Forest Classifier and print the top 5 most important features\n",
        "\n",
        "import pandas as pd\n",
        "from sklearn.ensemble import RandomForestClassifier\n",
        "from sklearn.datasets import load_breast_cancer\n",
        "from sklearn.model_selection import train_test_split\n",
        "\n",
        "# Load dataset\n",
        "data = load_breast_cancer()\n",
        "X, y = data.data, data.target\n",
        "feature_names = data.feature_names  # Ensure correct feature names are used\n",
        "\n",
        "# Split dataset\n",
        "X_train, X_test, y_train, y_test = train_test_split(X, y, test_size=0.2, random_state=42)\n",
        "\n",
        "# Train a Random Forest Classifier\n",
        "rf_clf = RandomForestClassifier(n_estimators=100, random_state=42)\n",
        "rf_clf.fit(X_train, y_train)\n",
        "\n",
        "# Get feature importance scores\n",
        "feature_importance = pd.DataFrame({'Feature': feature_names, 'Importance': rf_clf.feature_importances_})\n",
        "feature_importance = feature_importance.sort_values(by='Importance', ascending=False)\n",
        "\n",
        "# Print top 5 most important features\n",
        "print(\"Top 5 Important Features:\\n\", feature_importance.head(5))\n",
        "\n"
      ],
      "metadata": {
        "colab": {
          "base_uri": "https://localhost:8080/"
        },
        "id": "_neCEXRWgGbx",
        "outputId": "cd7d616d-727f-4f76-de24-d9c2abcaa5a8"
      },
      "execution_count": 31,
      "outputs": [
        {
          "output_type": "stream",
          "name": "stdout",
          "text": [
            "Top 5 Important Features:\n",
            "                  Feature  Importance\n",
            "23            worst area    0.153892\n",
            "27  worst concave points    0.144663\n",
            "7    mean concave points    0.106210\n",
            "20          worst radius    0.077987\n",
            "6         mean concavity    0.068001\n"
          ]
        }
      ]
    },
    {
      "cell_type": "code",
      "source": [
        "#38.Train a Bagging Classifier and evaluate performance using Precision, Recall, and F1-score\n",
        "\n",
        "from sklearn.metrics import precision_score, recall_score, f1_score\n",
        "\n",
        "y_pred = bagging_clf.predict(X_test)\n",
        "print(\"Precision:\", precision_score(y_test, y_pred, average='weighted'))\n",
        "print(\"Recall:\", recall_score(y_test, y_pred, average='weighted'))\n",
        "print(\"F1 Score:\", f1_score(y_test, y_pred, average='weighted'))\n"
      ],
      "metadata": {
        "colab": {
          "base_uri": "https://localhost:8080/"
        },
        "id": "fdXqKvT5gGY3",
        "outputId": "a5400bec-a3bb-4abd-ce52-23d0474be095"
      },
      "execution_count": 21,
      "outputs": [
        {
          "output_type": "stream",
          "name": "stdout",
          "text": [
            "Precision: 1.0\n",
            "Recall: 1.0\n",
            "F1 Score: 1.0\n"
          ]
        }
      ]
    },
    {
      "cell_type": "code",
      "source": [
        "#39.Train a Random Forest Classifier and analyze the effect of max_depth on accuracy\n",
        "\n",
        "\n",
        "depths = [3, 5, 10, None]\n",
        "for depth in depths:\n",
        "    rf_clf = RandomForestClassifier(n_estimators=100, max_depth=depth, random_state=42)\n",
        "    rf_clf.fit(X_train, y_train)\n",
        "    accuracy = accuracy_score(y_test, rf_clf.predict(X_test))\n",
        "    print(f\"Random Forest with max_depth={depth} - Accuracy: {accuracy}\")\n"
      ],
      "metadata": {
        "colab": {
          "base_uri": "https://localhost:8080/"
        },
        "id": "eIHfZWnzgGWE",
        "outputId": "af4f0e4a-c189-4d1b-f1e4-44002b1656a2"
      },
      "execution_count": 22,
      "outputs": [
        {
          "output_type": "stream",
          "name": "stdout",
          "text": [
            "Random Forest with max_depth=3 - Accuracy: 1.0\n",
            "Random Forest with max_depth=5 - Accuracy: 1.0\n",
            "Random Forest with max_depth=10 - Accuracy: 1.0\n",
            "Random Forest with max_depth=None - Accuracy: 1.0\n"
          ]
        }
      ]
    },
    {
      "cell_type": "code",
      "source": [
        "#40.Train a Bagging Regressor using different base estimators (DecisionTree and KNeighbors) and compare performance.\n",
        "\n",
        "from sklearn.neighbors import KNeighborsRegressor\n",
        "\n",
        "base_estimators = [DecisionTreeRegressor(), KNeighborsRegressor()]\n",
        "for estimator in base_estimators:\n",
        "    bagging_reg = BaggingRegressor(estimator=estimator, n_estimators=50, random_state=42)\n",
        "    bagging_reg.fit(X_train, y_train)\n",
        "    mse = mean_squared_error(y_test, bagging_reg.predict(X_test))\n",
        "    print(f\"Bagging Regressor with {type(estimator).__name__} - MSE: {mse}\")\n",
        "\n",
        ""
      ],
      "metadata": {
        "colab": {
          "base_uri": "https://localhost:8080/"
        },
        "id": "i3D7KPCzgGTg",
        "outputId": "a23e0979-f520-442b-c911-81b4437d79dd"
      },
      "execution_count": 23,
      "outputs": [
        {
          "output_type": "stream",
          "name": "stdout",
          "text": [
            "Bagging Regressor with DecisionTreeRegressor - MSE: 0.0013733333333333332\n",
            "Bagging Regressor with KNeighborsRegressor - MSE: 0.008722133333333363\n"
          ]
        }
      ]
    },
    {
      "cell_type": "code",
      "source": [
        "#41.Train a Random Forest Classifier and evaluate its performance using ROC-AUC Score\n",
        "\n",
        "from sklearn.metrics import roc_auc_score\n",
        "from sklearn.preprocessing import label_binarize\n",
        "import numpy as np\n",
        "\n",
        "# Binarize the labels for multi-class classification\n",
        "n_classes = len(set(y_test))  # Number of unique classes\n",
        "y_test_bin = label_binarize(y_test, classes=np.arange(n_classes))\n",
        "\n",
        "# Get probability predictions for each class\n",
        "y_prob = rf_clf.predict_proba(X_test)\n",
        "\n",
        "# Compute the ROC-AUC score for multi-class (One-vs-Rest)\n",
        "auc_score = roc_auc_score(y_test_bin, y_prob, multi_class='ovr', average='macro')\n",
        "\n",
        "print(\"Random Forest Classifier ROC-AUC Score:\", auc_score)\n",
        "\n"
      ],
      "metadata": {
        "colab": {
          "base_uri": "https://localhost:8080/"
        },
        "id": "sCn3PgyIgGQz",
        "outputId": "8592e467-ff64-4756-bf01-e13783718f4e"
      },
      "execution_count": 30,
      "outputs": [
        {
          "output_type": "stream",
          "name": "stdout",
          "text": [
            "Random Forest Classifier ROC-AUC Score: 1.0\n"
          ]
        }
      ]
    },
    {
      "cell_type": "code",
      "source": [
        "#42.Train a Bagging Classifier and evaluate its performance using cross-validatio\n",
        "\n",
        "from sklearn.model_selection import cross_val_score\n",
        "\n",
        "# Perform cross-validation\n",
        "cv_scores = cross_val_score(bagging_clf, X, y, cv=5, scoring='accuracy')\n",
        "\n",
        "# Print results\n",
        "print(\"Cross-Validation Scores:\", cv_scores)\n",
        "print(\"Mean Accuracy:\", cv_scores.mean())\n"
      ],
      "metadata": {
        "colab": {
          "base_uri": "https://localhost:8080/"
        },
        "id": "HvHpPXCWgGOI",
        "outputId": "9254a58d-cfbd-4ad6-99bd-e8f9e4233aec"
      },
      "execution_count": 25,
      "outputs": [
        {
          "output_type": "stream",
          "name": "stdout",
          "text": [
            "Cross-Validation Scores: [0.96666667 0.96666667 0.93333333 0.96666667 1.        ]\n",
            "Mean Accuracy: 0.9666666666666668\n"
          ]
        }
      ]
    },
    {
      "cell_type": "code",
      "source": [
        "#43. Train a Random Forest Classifier and plot the Precision-Recall curve.\n",
        "\n",
        "from sklearn.metrics import precision_recall_curve\n",
        "from sklearn.preprocessing import label_binarize\n",
        "import matplotlib.pyplot as plt\n",
        "import numpy as np\n",
        "\n",
        "# Binarize the labels for multi-class classification\n",
        "n_classes = len(set(y_test))  # Number of classes\n",
        "y_test_bin = label_binarize(y_test, classes=np.arange(n_classes))\n",
        "y_prob_bin = rf_clf.predict_proba(X_test)  # Get probability estimates for each class\n",
        "\n",
        "# Plot Precision-Recall curves for each class\n",
        "plt.figure(figsize=(8, 6))\n",
        "\n",
        "for i in range(n_classes):\n",
        "    precision, recall, _ = precision_recall_curve(y_test_bin[:, i], y_prob_bin[:, i])\n",
        "    plt.plot(recall, precision, marker='.', label=f'Class {i}')\n",
        "\n",
        "plt.xlabel('Recall')\n",
        "plt.ylabel('Precision')\n",
        "plt.title('Precision-Recall Curve (Multiclass)')\n",
        "plt.legend()\n",
        "plt.show()\n"
      ],
      "metadata": {
        "colab": {
          "base_uri": "https://localhost:8080/",
          "height": 564
        },
        "id": "A8QvHUOugGLs",
        "outputId": "6f6ddcf5-4c82-43a3-cd3d-51e26abcfa24"
      },
      "execution_count": 29,
      "outputs": [
        {
          "output_type": "display_data",
          "data": {
            "text/plain": [
              "<Figure size 800x600 with 1 Axes>"
            ],
            "image/png": "[encoded data removed]"
          },
          "metadata": {}
        }
      ]
    },
    {
      "cell_type": "code",
      "source": [
        "#44.Train a Stacking Classifier with Random Forest and Logistic Regression and compare accuracy\n",
        "\n",
        "# Define base models\n",
        "base_models = [\n",
        "    ('random_forest', RandomForestClassifier(n_estimators=100, random_state=42)),\n",
        "    ('logistic_regression', LogisticRegression(max_iter=5000))\n",
        "]\n",
        "\n",
        "# Define meta-model\n",
        "meta_model = LogisticRegression()\n",
        "\n",
        "# Train Stacking Classifier\n",
        "stacking_clf = StackingClassifier(estimators=base_models, final_estimator=meta_model)\n",
        "stacking_clf.fit(X_train, y_train)\n",
        "\n",
        "# Evaluate accuracy\n",
        "stacking_accuracy = accuracy_score(y_test, stacking_clf.predict(X_test))\n",
        "print(\"Stacking Classifier Accuracy:\", stacking_accuracy)\n"
      ],
      "metadata": {
        "colab": {
          "base_uri": "https://localhost:8080/"
        },
        "id": "AXlvjNlMgGI5",
        "outputId": "8f22c8ad-4ccd-4649-f251-32fbcec56ca6"
      },
      "execution_count": 27,
      "outputs": [
        {
          "output_type": "stream",
          "name": "stdout",
          "text": [
            "Stacking Classifier Accuracy: 1.0\n"
          ]
        }
      ]
    },
    {
      "cell_type": "code",
      "source": [
        "#45.Train a Bagging Regressor with different levels of bootstrap samples and compare performance\n",
        "\n",
        "bootstrap_levels = [True, False]\n",
        "\n",
        "for bootstrap in bootstrap_levels:\n",
        "    bagging_reg = BaggingRegressor(estimator=DecisionTreeRegressor(), n_estimators=50, bootstrap=bootstrap, random_state=42)\n",
        "    bagging_reg.fit(X_train, y_train)\n",
        "    mse = mean_squared_error(y_test, bagging_reg.predict(X_test))\n",
        "    print(f\"Bagging Regressor with bootstrap={bootstrap} - MSE: {mse}\")\n",
        "\n"
      ],
      "metadata": {
        "colab": {
          "base_uri": "https://localhost:8080/"
        },
        "id": "mr9SnVRjgGGM",
        "outputId": "6b59ae48-c070-47ee-fa85-9fc291eaa60d"
      },
      "execution_count": 28,
      "outputs": [
        {
          "output_type": "stream",
          "name": "stdout",
          "text": [
            "Bagging Regressor with bootstrap=True - MSE: 0.0013733333333333332\n",
            "Bagging Regressor with bootstrap=False - MSE: 0.0\n"
          ]
        }
      ]
    }
  ]
}