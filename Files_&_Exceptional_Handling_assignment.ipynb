{
  "nbformat": 4,
  "nbformat_minor": 0,
  "metadata": {
    "colab": {
      "provenance": [],
      "authorship_tag": "ABX9TyMO6Lx7RkTbKt9dWvKr9sJD",
      "include_colab_link": true
    },
    "kernelspec": {
      "name": "python3",
      "display_name": "Python 3"
    },
    "language_info": {
      "name": "python"
    }
  },
  "cells": [
    {
      "cell_type": "markdown",
      "metadata": {
        "id": "view-in-github",
        "colab_type": "text"
      },
      "source": [
        "<a href=\"https://colab.research.google.com/github/UVDivyaSree/PW_Skills_Assignments/blob/main/Files_%26_Exceptional_Handling_assignment.ipynb\" target=\"_parent\"><img src=\"https://colab.research.google.com/assets/colab-badge.svg\" alt=\"Open In Colab\"/></a>"
      ]
    },
    {
      "cell_type": "markdown",
      "source": [
        "\n",
        "#4. Write a Python program using multithreading where one thread adds numbers to a list, and another thread removes numbers from the list. Implement a mechanism to avoid race conditions using threading.Lock."
      ],
      "metadata": {
        "id": "3mraF-oqYHeK"
      }
    },
    {
      "cell_type": "code",
      "execution_count": null,
      "metadata": {
        "colab": {
          "base_uri": "https://localhost:8080/"
        },
        "id": "T-ems_17hawX",
        "outputId": "09cb9735-a683-4921-bab8-48e85a110aae"
      },
      "outputs": [
        {
          "output_type": "stream",
          "name": "stdout",
          "text": [
            "Added 1 to list. Current list: [1]\n",
            "Removed 1 from list. Current list: []\n",
            "Added 2 to list. Current list: [2]\n",
            "Added 3 to list. Current list: [2, 3]\n",
            "Removed 2 from list. Current list: [3]\n",
            "Added 4 to list. Current list: [3, 4]\n",
            "Removed 3 from list. Current list: [4]\n",
            "Added 5 to list. Current list: [4, 5]\n",
            "Removed 4 from list. Current list: [5]\n",
            "Removed 5 from list. Current list: []\n",
            "Final list: []\n"
          ]
        }
      ],
      "source": [
        "import threading\n",
        "import time\n",
        "\n",
        "# Shared list between threads\n",
        "shared_list = []\n",
        "\n",
        "# Lock to avoid race conditions\n",
        "list_lock = threading.Lock()\n",
        "\n",
        "# Function for the thread to add numbers to the list\n",
        "def add_to_list():\n",
        "    for i in range(1, 6):\n",
        "        time.sleep(1)  # Simulate some delay\n",
        "        with list_lock:  # Acquire lock to avoid race conditions\n",
        "            shared_list.append(i)\n",
        "            print(f\"Added {i} to list. Current list: {shared_list}\")\n",
        "\n",
        "# Function for the thread to remove numbers from the list\n",
        "def remove_from_list():\n",
        "    for i in range(1, 6):\n",
        "        time.sleep(1.5)  # Simulate some delay\n",
        "        with list_lock:  # Acquire lock to avoid race conditions\n",
        "            if shared_list:\n",
        "                removed = shared_list.pop(0)\n",
        "                print(f\"Removed {removed} from list. Current list: {shared_list}\")\n",
        "\n",
        "# Create threads for adding and removing elements\n",
        "add_thread = threading.Thread(target=add_to_list)\n",
        "remove_thread = threading.Thread(target=remove_from_list)\n",
        "\n",
        "# Start both threads\n",
        "add_thread.start()\n",
        "remove_thread.start()\n",
        "\n",
        "# Wait for both threads to finish\n",
        "add_thread.join()\n",
        "remove_thread.join()\n",
        "\n",
        "print(\"Final list:\", shared_list)\n"
      ]
    },
    {
      "cell_type": "markdown",
      "source": [
        "**Explanation:\n",
        "Shared Resource:**\n",
        "\n",
        "shared_list is the shared resource between both threads. One thread adds numbers to this list, while another removes them.\n",
        "\n",
        "**Lock Mechanism:**\n",
        "\n",
        "list_lock = threading.Lock() creates a lock object. The with list_lock: statement is used to acquire the lock when either thread modifies the list, ensuring that only one thread can change the list at a time.\n",
        "\n",
        "**Adding Numbers:**\n",
        "\n",
        "The add_to_list function adds numbers (from 1 to 5) to the list, simulating a delay with time.sleep(1) to make the multithreading behavior clearer.\n",
        "\n",
        "**Removing Numbers:**\n",
        "\n",
        "The remove_from_list function removes numbers from the list but only if the list is not empty. The delay in this function is slightly longer (time.sleep(1.5)) to simulate different processing times.\n",
        "\n",
        "**Thread Management:**\n",
        "\n",
        "Two threads are created and started, one for adding and one for removing numbers. The join() method ensures that the main program waits for both threads to complete before printing the final state of the list."
      ],
      "metadata": {
        "id": "_14s5iHuXVF9"
      }
    },
    {
      "cell_type": "markdown",
      "source": [
        "#7. Create a program that uses a thread pool to calculate the factorial of numbers from 1 to 10 concurrently.Use concurrent.futures.ThreadPoolExecutor to manage the threads."
      ],
      "metadata": {
        "id": "J4kgxYhIYbLg"
      }
    },
    {
      "cell_type": "code",
      "source": [
        "from concurrent.futures import ThreadPoolExecutor\n",
        "import math\n",
        "\n",
        "# Function to calculate the factorial of a number\n",
        "def factorial(n):\n",
        "    return math.factorial(n)\n",
        "\n",
        "# List of numbers from 1 to 10\n",
        "numbers = list(range(1, 11))\n",
        "\n",
        "# Using ThreadPoolExecutor to calculate factorials concurrently\n",
        "with ThreadPoolExecutor() as executor:\n",
        "    # Map each number to the factorial function\n",
        "    results = list(executor.map(factorial, numbers))\n",
        "    # Print the results\n",
        "for number, result in zip(numbers, results):\n",
        "    print(f\"Factorial of {number} is {result}\")\n"
      ],
      "metadata": {
        "colab": {
          "base_uri": "https://localhost:8080/"
        },
        "id": "taJNZXNJYfSz",
        "outputId": "198e4607-7da3-496c-acd4-55e54cc46e5a"
      },
      "execution_count": null,
      "outputs": [
        {
          "output_type": "stream",
          "name": "stdout",
          "text": [
            "Factorial of 1 is 1\n",
            "Factorial of 2 is 2\n",
            "Factorial of 3 is 6\n",
            "Factorial of 4 is 24\n",
            "Factorial of 5 is 120\n",
            "Factorial of 6 is 720\n",
            "Factorial of 7 is 5040\n",
            "Factorial of 8 is 40320\n",
            "Factorial of 9 is 362880\n",
            "Factorial of 10 is 3628800\n"
          ]
        }
      ]
    },
    {
      "cell_type": "markdown",
      "source": [
        "#8. Create a Python program that uses multiprocessing.Pool to compute the square of numbers from 1 to 10 in parallel. Measure the time taken to perform this computation using a pool of different sizes (e.g., 2, 4, 8 processes).\n",
        "\n"
      ],
      "metadata": {
        "id": "O10B5c1gYrMC"
      }
    },
    {
      "cell_type": "code",
      "source": [
        "import multiprocessing\n",
        "import time\n",
        "\n",
        "# Function to compute the square of a number\n",
        "def square(n):\n",
        "    return n * n\n",
        "\n",
        "# List of numbers from 1 to 10\n",
        "numbers = list(range(1, 11))\n",
        "\n",
        "# Function to compute squares using multiprocessing pool and measure time\n",
        "def compute_squares(pool_size):\n",
        "    print(f\"\\nUsing a pool of {pool_size} processes:\")\n",
        "     # Measure start time\n",
        "    start_time = time.time()\n",
        "\n",
        "    # Create a pool with the specified number of processes\n",
        "    with multiprocessing.Pool(processes=pool_size) as pool:\n",
        "        results = pool.map(square, numbers)\n",
        "\n",
        "    # Measure end time\n",
        "    end_time = time.time()\n",
        "\n",
        "    # Print results\n",
        "    for number, result in zip(numbers,results):\n",
        "        print(f\"Square of {number} is {result}\")\n",
        "\n",
        "    # Print the time taken\n",
        "    print(f\"Time taken with {pool_size} processes: {end_time - start_time:.4f} seconds\")\n",
        "\n",
        "# Test the function with different pool sizes\n",
        "for pool_size in [2, 4, 8]:\n",
        "    compute_squares(pool_size)\n"
      ],
      "metadata": {
        "colab": {
          "base_uri": "https://localhost:8080/"
        },
        "id": "o5AYrxaeYw8Z",
        "outputId": "29b1c2b0-9e8f-4aa4-a5a9-f0d0337efd27"
      },
      "execution_count": null,
      "outputs": [
        {
          "output_type": "stream",
          "name": "stdout",
          "text": [
            "\n",
            "Using a pool of 2 processes:\n",
            "Square of 1 is 1\n",
            "Square of 2 is 4\n",
            "Square of 3 is 9\n",
            "Square of 4 is 16\n",
            "Square of 5 is 25\n",
            "Square of 6 is 36\n",
            "Square of 7 is 49\n",
            "Square of 8 is 64\n",
            "Square of 9 is 81\n",
            "Square of 10 is 100\n",
            "Time taken with 2 processes: 0.0566 seconds\n",
            "\n",
            "Using a pool of 4 processes:\n",
            "Square of 1 is 1\n",
            "Square of 2 is 4\n",
            "Square of 3 is 9\n",
            "Square of 4 is 16\n",
            "Square of 5 is 25\n",
            "Square of 6 is 36\n",
            "Square of 7 is 49\n",
            "Square of 8 is 64\n",
            "Square of 9 is 81\n",
            "Square of 10 is 100\n",
            "Time taken with 4 processes: 0.0607 seconds\n",
            "\n",
            "Using a pool of 8 processes:\n",
            "Square of 1 is 1\n",
            "Square of 2 is 4\n",
            "Square of 3 is 9\n",
            "Square of 4 is 16\n",
            "Square of 5 is 25\n",
            "Square of 6 is 36\n",
            "Square of 7 is 49\n",
            "Square of 8 is 64\n",
            "Square of 9 is 81\n",
            "Square of 10 is 100\n",
            "Time taken with 8 processes: 0.1088 seconds\n"
          ]
        }
      ]
    }
  ]
}