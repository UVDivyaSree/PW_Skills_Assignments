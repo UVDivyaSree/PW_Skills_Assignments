{
  "nbformat": 4,
  "nbformat_minor": 0,
  "metadata": {
    "colab": {
      "provenance": []
    },
    "kernelspec": {
      "name": "python3",
      "display_name": "Python 3"
    },
    "language_info": {
      "name": "python"
    }
  },
  "cells": [
    {
      "cell_type": "markdown",
      "source": [
        "#Theoretical Questions"
      ],
      "metadata": {
        "id": "E-EAy7U-Mf-0"
      }
    },
    {
      "cell_type": "markdown",
      "source": [
        "###1.What is Boosting in Machine Learning.\n",
        "\n",
        "\n",
        "Boosting is a powerful ensemble learning technique used to improve the performance of weak classifiers by combining them into a strong classifier.\n",
        "\n",
        "It works by training models sequentially, where each new model corrects the mistakes of the previous one. The final prediction is a weighted sum of all models.\n",
        "\n",
        "The key idea behind boosting is that by focusing more on the misclassified samples, it can iteratively refine the overall accuracy of the model.\n",
        "\n",
        "Examples of boosting algorithms include AdaBoost, Gradient Boosting, XGBoost, and CatBoost.\n"
      ],
      "metadata": {
        "id": "noGQNsMfMkcz"
      }
    },
    {
      "cell_type": "markdown",
      "source": [
        "###2.How does Boosting differ from Bagging.\n",
        "\n",
        "\n",
        "1.Boosting:\n",
        "\n",
        "Sequential Training: Boosting models are trained sequentially, where each subsequent model learns from the mistakes of the previous models.\n",
        "\n",
        "Weighted Data: Boosting assigns weights to data points, giving higher weights to misclassified instances. This allows subsequent models to focus on the more difficult examples.\n",
        "\n",
        "Error Reduction: The primary goal of boosting is to reduce bias and improve the overall accuracy of the model.\n",
        "\n",
        "Examples: AdaBoost, Gradient Boosting, XGBoost, CatBoost.\n",
        "\n",
        "2.Bagging:\n",
        "\n",
        "Parallel Training: Bagging models are trained in parallel, independently of each other, on different subsets of the training data.\n",
        "\n",
        "Bootstrapped Data: Bagging uses bootstrapping to create multiple subsets of the training data. Each subset is used to train a separate model.\n",
        "\n",
        "Variance Reduction: The main objective of bagging is to reduce variance and improve the stability of the model.\n",
        "\n",
        "Examples: Random Forest.\n",
        "\n",
        "Key Differences:\n",
        "\n",
        "Focus: Boosting focuses on reducing bias, while bagging aims to reduce variance.\n",
        "\n",
        "Training: Boosting trains models\n",
        "sequentially, while bagging trains them in parallel.\n",
        "\n",
        "Data: Boosting uses weighted data, while bagging uses bootstrapped data.\n",
        "\n",
        "Combination: Boosting combines models by weighted averaging, while bagging combines them by averaging or voting.\n",
        "\n",
        "In summary:\n",
        "\n",
        "Boosting: Combines weak learners sequentially to create a strong learner, focusing on reducing bias.\n",
        "\n",
        "Bagging: Combines strong learners in parallel to reduce variance and improve stability."
      ],
      "metadata": {
        "id": "bLqbigqLMraN"
      }
    },
    {
      "cell_type": "markdown",
      "source": [
        "###3.What is the key idea behind AdaBoost\n",
        "\n",
        "The key idea behind AdaBoost (Adaptive Boosting) is to sequentially train a series of weak learners (classifiers) where each subsequent learner focuses on the samples that were misclassified by the previous learners.\n",
        "\n",
        "Here's a breakdown of the process:\n",
        "\n",
        "Initial Weights: AdaBoost starts by assigning equal weights to all samples in the training dataset.\n",
        "\n",
        "Training Weak Learners: A weak learner (typically a decision stump, which is a decision tree with a single split) is trained on the data using the current weights.\n",
        "\n",
        "Weight Adjustment: After training a weak learner, AdaBoost increases the weights of the misclassified samples and decreases the weights of the correctly classified samples. This gives more importance to the difficult samples that were misclassified, allowing the next weak learner to focus on them.\n",
        "\n",
        "Iterative Process: Steps 2 and 3 are repeated for a specified number of iterations or until a desired level of accuracy is achieved.\n",
        "\n",
        "Combining Weak Learners: The final prediction is made by combining the predictions of all the weak learners. Each weak learner's prediction is weighted based on its performance during training, with better-performing learners having higher weights.\n",
        "\n",
        "In essence, AdaBoost creates a strong learner by combining a series of weak learners, where each weak learner is trained to correct the mistakes of its predecessors. This iterative process of focusing on misclassified samples and adjusting weights allows AdaBoost to adapt to the complexities of the data and improve its overall accuracy."
      ],
      "metadata": {
        "id": "RzxjAAb7MxXS"
      }
    },
    {
      "cell_type": "markdown",
      "source": [
        "###4.Explain the working of AdaBoost with an example.\n",
        "\n",
        "\n",
        "Scenario: Imagine you want to build a model to classify emails as spam or not spam. You have a dataset of emails with features like the presence of certain words, sender's address, and email length.\n",
        "\n",
        "AdaBoost Process:\n",
        "\n",
        "Initialization: AdaBoost starts by assigning equal weights to all emails in the dataset.\n",
        "\n",
        "First Weak Learner: A weak learner, such as a decision stump, is trained on the data. Let's say the first decision stump focuses on the presence of the word \"free\" in the email. If the word \"free\" is present, the email is classified as spam; otherwise, it's classified as not spam.\n",
        "\n",
        "Weight Adjustment: After training the first weak learner, AdaBoost examines the misclassified emails. It increases the weights of these emails, making them more important for the next weak learner.\n",
        "\n",
        "Second Weak Learner: Another weak learner is trained, but now it focuses more on the emails that were misclassified by the first weak learner. This weak learner might consider the sender's address as a feature. If the sender's address is from a known spam domain, the email is classified as spam; otherwise, it's classified as not spam.\n",
        "\n",
        "Iteration: This process continues for a predefined number of iterations or until a desired level of accuracy is achieved. Each weak learner focuses on the mistakes of its predecessors, giving more weight to the difficult-to-classify emails.\n",
        "\n",
        "Final Prediction: The final prediction is made by combining the predictions of all the weak learners. Each weak learner's prediction is weighted based on its performance during training. Weak learners that performed well on the difficult emails have higher weights, giving them more influence in the final prediction.\n",
        "\n",
        "Example:\n",
        "\n",
        "Consider an email with the following features:\n",
        "\n",
        "Contains the word \"free\": Yes\n",
        "Sender's address: From a known spam domain\n",
        "Email length: Short\n",
        "The first weak learner might classify this email as spam because it contains the word \"free.\" However, the second weak learner might also classify it as spam because the sender's address is from a known spam domain. Since both weak learners agree on the classification, the final prediction would be spam with high confidence.\n",
        "\n",
        "In summary, AdaBoost works by iteratively training weak learners that focus on the mistakes of their predecessors, and then combining these weak learners into a strong learner that can make accurate predictions.\n"
      ],
      "metadata": {
        "id": "5KYcALN4M1OU"
      }
    },
    {
      "cell_type": "markdown",
      "source": [
        "###5.What is Gradient Boosting, and how is it different from AdaBoost.\n",
        "\n",
        "\n",
        "What is Gradient Boosting?\n",
        "\n",
        "Gradient Boosting is a machine learning technique that builds an ensemble of weak learners (typically decision trees) in a sequential manner. Each new tree is trained to correct the errors made by the previous trees. The key idea is to fit new models to the residual errors of the existing model, gradually improving the overall prediction accuracy.\n",
        "\n",
        "How is Gradient Boosting Different from AdaBoost?\n",
        "\n",
        "While both Gradient Boosting and AdaBoost are boosting algorithms, there are some key differences:\n",
        "\n",
        "Loss Function: Gradient Boosting uses a differentiable loss function to optimize the model, while AdaBoost uses a weighted classification error. This allows Gradient Boosting to be applied to a wider range of problems, including regression and classification.\n",
        "\n",
        "Weighting Scheme: AdaBoost assigns weights to individual data points, giving more weight to misclassified instances. Gradient Boosting, on the other hand, focuses on fitting new models to the residual errors, effectively giving more weight to the samples with larger errors.\n",
        "\n",
        "Weak Learner: AdaBoost typically uses decision stumps (decision trees with a single split) as weak learners. Gradient Boosting can use more complex weak learners, such as deeper decision trees.\n",
        "\n",
        "Sequential vs. Parallel: Both AdaBoost and Gradient Boosting train models sequentially, but Gradient Boosting can be parallelized for faster training in some implementations.\n",
        "\n",
        "Key Differences:\n",
        "\n",
        "Focus: Gradient Boosting focuses on minimizing a loss function, while AdaBoost focuses on reducing the weighted classification error.\n",
        "Flexibility: Gradient Boosting is more flexible and can be applied to a wider range of problems, including regression and classification.\n",
        "Complexity: Gradient Boosting can handle more complex weak learners, potentially leading to higher accuracy.\n",
        "Choosing Between Gradient Boosting and AdaBoost:\n",
        "\n",
        "The choice between Gradient Boosting and AdaBoost depends on the specific problem and dataset. Gradient Boosting is generally preferred for regression problems and for situations where a differentiable loss function is available. AdaBoost is often a good choice for classification problems, especially when dealing with binary classification."
      ],
      "metadata": {
        "id": "Gj3_pWSkM4xH"
      }
    },
    {
      "cell_type": "markdown",
      "source": [
        "###6.What is the loss function in Gradient Boosting.\n",
        "\n",
        "In Gradient Boosting, the loss function plays a crucial role in guiding the model's training process. It quantifies the difference between the predicted values and the actual target values, and the algorithm aims to minimize this difference.\n",
        "\n",
        "The choice of loss function depends on the specific problem being solved:\n",
        "\n",
        "For Regression Problems:\n",
        "\n",
        "Mean Squared Error (MSE): This is the most common loss function for regression tasks. It calculates the average squared difference between the predicted and actual values.\n",
        "Mean Absolute Error (MAE): This loss function calculates the average absolute difference between the predicted and actual values. It is less sensitive to outliers compared to MSE.\n",
        "Huber Loss: This loss function combines the properties of MSE and MAE. It is less sensitive to outliers than MSE but still provides a differentiable function for optimization.\n",
        "For Classification Problems:\n",
        "\n",
        "Log Loss (Cross-Entropy Loss): This is the most common loss function for binary classification problems. It measures the difference between the predicted probabilities and the actual class labels.\n",
        "Exponential Loss: This loss function is used in AdaBoost and is similar to log loss but is more sensitive to misclassifications.\n",
        "Hinge Loss: This loss function is used in Support Vector Machines (SVMs) and can also be applied in Gradient Boosting for classification. It focuses on maximizing the margin between different classes.\n",
        "How the Loss Function is Used in Gradient Boosting:\n",
        "\n",
        "Initialization: The algorithm starts with an initial prediction, often the mean of the target values for regression or the log-odds of the class probabilities for classification.\n",
        "\n",
        "Calculating Residuals: The difference between the predicted values and the actual target values is calculated, which is called the residual.\n",
        "\n",
        "Fitting a Weak Learner: A weak learner (typically a decision tree) is fitted to the residuals, trying to predict the errors made by the previous model.\n",
        "\n",
        "Updating Predictions: The predictions are updated by adding the predictions of the weak learner, scaled by a learning rate.\n",
        "\n",
        "Iteration: Steps 2-4 are repeated for a specified number of iterations, with each new weak learner focusing on the remaining errors.\n",
        "\n",
        "The loss function is used to calculate the residuals and guide the fitting of the weak learners. By minimizing the loss function, the algorithm iteratively improves the overall prediction accuracy.\n",
        "\n",
        "In summary, the loss function in Gradient Boosting is a crucial component that determines how the model learns and optimizes its predictions. Choosing an appropriate loss function for the specific problem is essential for achieving good performance.\n"
      ],
      "metadata": {
        "id": "mTEPl4zAM7Rw"
      }
    },
    {
      "cell_type": "markdown",
      "source": [
        "###7.How does XGBoost improve over traditional Gradient Boosting.\n",
        "\n",
        "XGBoost (Extreme Gradient Boosting) is an advanced implementation of gradient boosting that builds upon the principles of traditional Gradient Boosting and introduces several enhancements to improve performance, speed, and accuracy. Here are some key improvements:\n",
        "\n",
        "Regularization: XGBoost incorporates L1 and L2 regularization terms in the objective function, which helps to prevent overfitting and improve generalization performance. This regularization is a key difference from traditional Gradient Boosting, which primarily focuses on minimizing the loss function without explicit regularization.\n",
        "\n",
        "Second-Order Optimization: XGBoost utilizes a second-order Taylor approximation of the loss function to calculate the optimal split points for tree construction. This approach provides a more accurate estimate of the loss reduction compared to traditional Gradient Boosting, which typically uses a first-order approximation.\n",
        "\n",
        "Parallel Processing: XGBoost is designed for parallel processing, allowing it to leverage multiple CPU cores to significantly speed up the training process. This is a major advantage over traditional Gradient Boosting, which often trains trees sequentially.\n",
        "\n",
        "Tree Pruning: XGBoost employs a more sophisticated tree pruning strategy that considers both the gain and the complexity of the tree. This approach helps to prevent overfitting and improve the model's generalization ability.\n",
        "\n",
        "Handling Missing Values: XGBoost has a built-in mechanism for handling missing values in the data. It automatically learns the optimal imputation strategy during training, eliminating the need for manual preprocessing.\n",
        "\n",
        "Cross-Validation: XGBoost provides built-in support for cross-validation, allowing users to easily evaluate the model's performance on unseen data and tune hyperparameters effectively.\n",
        "\n",
        "These improvements collectively contribute to XGBoost's superior performance, speed, and accuracy compared to traditional Gradient Boosting. XGBoost has become a popular choice for many machine learning tasks, particularly in competitive data science and Kaggle competitions.\n",
        "\n"
      ],
      "metadata": {
        "id": "jMd_LWwsM9dx"
      }
    },
    {
      "cell_type": "markdown",
      "source": [
        "###8.What is the difference between XGBoost and CatBoost\n",
        "\n",
        "\n",
        "Both XGBoost and CatBoost are popular gradient boosting algorithms known for their performance and efficiency. However, there are some key differences between them, particularly in how they handle categorical features and their overall approach to boosting:\n",
        "\n",
        "Handling Categorical Features\n",
        "\n",
        "XGBoost: XGBoost requires explicit encoding of categorical features before training. This typically involves techniques like one-hot encoding or label encoding. This can lead to a high-dimensional feature space and potential information loss.\n",
        "\n",
        "CatBoost: CatBoost has native support for categorical features and uses a novel technique called \"ordered target statistics\" to encode them. This approach reduces overfitting and improves the model's ability to generalize to unseen data without the need for explicit preprocessing.\n",
        "\n",
        "Boosting Approach\n",
        "\n",
        "XGBoost: XGBoost uses a level-wise tree growth approach, where trees are built level by level, and all nodes at a given level are split before moving to the next level. This approach can be less efficient for deeper trees.\n",
        "\n",
        "CatBoost: CatBoost employs a symmetric tree structure and uses an \"ordered boosting\" algorithm to prevent target leakage. This approach leads to more balanced trees and reduces overfitting, especially when dealing with categorical features.\n",
        "\n",
        "Other Differences\n",
        "\n",
        "Handling Missing Values: Both XGBoost and CatBoost have mechanisms for handling missing values, but their approaches differ slightly. XGBoost learns the optimal imputation strategy during training, while CatBoost treats missing values as a separate category.\n",
        "\n",
        "Regularization: Both algorithms incorporate regularization techniques, but CatBoost has a more extensive set of regularization options, including feature combinations and categorical feature interactions.\n",
        "\n",
        "Performance: Both XGBoost and CatBoost are known for their high performance, but CatBoost often outperforms XGBoost on datasets with a significant number of categorical features, especially when those features have high cardinality."
      ],
      "metadata": {
        "id": "JjOp_eoAM_0h"
      }
    },
    {
      "cell_type": "markdown",
      "source": [
        "###9.What are some real-world applications of Boosting techniques\n",
        "\n",
        "\n",
        "Boosting techniques, particularly Gradient Boosting and its variants like XGBoost and CatBoost, have found widespread use in various domains due to their ability to achieve high predictive accuracy and handle complex relationships in data. Here are some notable real-world applications:\n",
        "\n",
        "Fraud Detection: Boosting algorithms are commonly employed in fraud detection systems to identify fraudulent transactions, suspicious activities, and anomalies in financial data. Their ability to learn complex patterns and adapt to evolving fraud tactics makes them effective in minimizing financial losses.\n",
        "\n",
        "Medical Diagnosis: Boosting models are utilized in medical diagnosis to assist in identifying diseases, predicting patient outcomes, and personalizing treatment plans. They can analyze patient data, medical images, and genetic information to improve diagnostic accuracy and support clinical decision-making.\n",
        "\n",
        "Customer Churn Prediction: Boosting is widely used in customer relationship management (CRM) to predict customer churn, which refers to the likelihood of a customer discontinuing their service or subscription. By identifying at-risk customers, businesses can implement proactive retention strategies to reduce churn rates.\n",
        "\n",
        "Search Ranking: Boosting algorithms play a crucial role in search engines to improve the relevance and ranking of search results. They can analyze user queries, web page content, and user behavior to deliver more accurate and personalized search experiences.\n",
        "\n",
        "Image Recognition: Boosting techniques are employed in image recognition systems for tasks such as object detection, image classification, and facial recognition. Their ability to learn complex visual features makes them effective in automating image analysis and understanding.\n",
        "\n",
        "Natural Language Processing: Boosting models are utilized in natural language processing (NLP) applications like sentiment analysis, text classification, and machine translation. They can analyze textual data to understand the meaning, context, and emotions expressed in text.\n",
        "\n",
        "Recommendation Systems: Boosting algorithms are used in recommendation systems to provide personalized recommendations to users based on their preferences, past behavior, and demographics. They can analyze user data and product information to suggest relevant items or content.\n"
      ],
      "metadata": {
        "id": "MtHmsvC_NDZz"
      }
    },
    {
      "cell_type": "markdown",
      "source": [
        "###10.How does regularization help in XGBoost\n",
        "\n",
        "Regularization is a technique used in machine learning to prevent overfitting by adding a penalty to the complexity of the model. In XGBoost, regularization is achieved through two main parameters:\n",
        "\n",
        "L1 regularization (reg_alpha): This parameter adds a penalty to the absolute value of the weights of the model's leaves. It encourages sparsity by shrinking some weights to zero, effectively performing feature selection.\n",
        "\n",
        "L2 regularization (reg_lambda): This parameter adds a penalty to the square of the weights of the model's leaves. It helps to smooth the model by preventing the weights from becoming too large, thereby reducing overfitting.\n",
        "\n",
        "How Regularization Helps in XGBoost\n",
        "\n",
        "Preventing Overfitting: By adding a penalty to the model's complexity, regularization prevents XGBoost from fitting the training data too closely. This helps to generalize the model to new, unseen data.\n",
        "\n",
        "Improving Generalization: Regularization encourages the model to learn simpler patterns that are more likely to be true for a wider range of data. This improves the model's ability to make accurate predictions on unseen data.\n",
        "\n",
        "Reducing Model Complexity: By shrinking some weights to zero (L1 regularization) or preventing weights from becoming too large (L2 regularization), regularization helps to reduce the complexity of the XGBoost model. This makes the model easier to interpret and understand.\n",
        "\n",
        "In summary, regularization in XGBoost is a crucial technique that helps to prevent overfitting, improve generalization, and reduce model complexity, leading to a more robust and accurate model."
      ],
      "metadata": {
        "id": "pW3KUkgENF3D"
      }
    },
    {
      "cell_type": "markdown",
      "source": [
        "###11.What are some hyperparameters to tune in Gradient Boosting models.\n",
        "\n",
        "Gradient Boosting models have several hyperparameters that can significantly impact their performance. Here are some of the key hyperparameters to consider tuning:\n",
        "\n",
        "n_estimators: This hyperparameter controls the number of trees in the ensemble. Increasing the number of trees can improve performance, but it also increases the risk of overfitting. It's generally a good idea to start with a smaller number of trees and gradually increase it until the performance plateaus.\n",
        "\n",
        "learning_rate: This hyperparameter controls the contribution of each tree to the overall model. A smaller learning rate means that each tree has a smaller impact, which can lead to slower convergence but potentially better generalization. It's often recommended to use a smaller learning rate and a larger number of trees.\n",
        "\n",
        "max_depth: This hyperparameter controls the maximum depth of each tree. Deeper trees can capture more complex relationships in the data, but they are also more prone to overfitting. It's generally a good idea to start with a smaller depth and gradually increase it until the performance plateaus.\n",
        "\n",
        "min_samples_split: This hyperparameter controls the minimum number of samples required to split an internal node. Increasing this value can help to prevent overfitting by ensuring that the trees do not become too specific to the training data.\n",
        "\n",
        "min_samples_leaf: This hyperparameter controls the minimum number of samples required to be at a leaf node. Increasing this value can also help to prevent overfitting by ensuring that the trees do not become too specific to the training data.\n",
        "\n",
        "subsample: This hyperparameter controls the fraction of samples used to train each tree. Using a smaller subsample can help to reduce overfitting and improve generalization.\n",
        "\n",
        "loss: This hyperparameter specifies the loss function to be used for training the model. The choice of loss function depends on the specific problem being solved. For example, for regression problems, the mean squared error (MSE) loss is commonly used, while for classification problems, the log loss or cross-entropy loss is often used.\n",
        "\n",
        "These are just some of the key hyperparameters to consider tuning in Gradient Boosting models. It's important to experiment with different values and find the combination that works best for your specific dataset and problem. You can use techniques like grid search or randomized search to automate the hyperparameter tuning process."
      ],
      "metadata": {
        "id": "RbEyUZ_8NINH"
      }
    },
    {
      "cell_type": "markdown",
      "source": [
        "###12.What is the concept of Feature Importance in Boosting.\n",
        "\n",
        "\n",
        "Feature Importance in Boosting refers to a measure that quantifies the relative importance or contribution of each feature in the model's prediction process. It helps to understand which features are most influential in making predictions and provides insights into the underlying patterns captured by the model.\n",
        "\n",
        "How Feature Importance is Calculated in Boosting\n",
        "\n",
        "Boosting algorithms, such as AdaBoost, Gradient Boosting, XGBoost, and CatBoost, typically employ tree-based models as their base learners. These models construct a series of decision trees, where each tree splits the data based on the most informative features.\n",
        "\n",
        "Feature importance is calculated by aggregating the contribution of each feature across all the trees in the ensemble. The contribution of a feature can be measured in various ways, such as:\n",
        "\n",
        "Split-based Importance: This approach considers the number of times a feature is used to split the data in the trees and the improvement in the model's performance resulting from those splits. Features that are used more frequently and lead to significant improvements in accuracy are considered more important.\n",
        "\n",
        "Gain-based Importance: This method calculates the total gain in the model's objective function (e.g., reduction in error or increase in purity) attributed to each feature. Features that contribute more to the overall improvement of the model's performance are deemed more important.\n",
        "\n",
        "Permutation-based Importance: This technique involves randomly shuffling the values of a feature and measuring the decrease in the model's performance. Features that cause a larger drop in accuracy when their values are permuted are considered more important.\n",
        "\n",
        "Benefits of Feature Importance in Boosting\n",
        "\n",
        "Feature Selection: Feature importance can be used to identify the most relevant features for the prediction task. This can help in reducing the dimensionality of the data, improving model efficiency, and potentially enhancing interpretability.\n",
        "\n",
        "Model Understanding: By examining the feature importance scores, you can gain insights into the factors that drive the model's predictions. This can be valuable for understanding the underlying relationships between features and the target variable.\n",
        "\n",
        "Model Debugging: Feature importance can help in identifying potential issues with the model, such as overfitting or bias towards certain features. If a feature with low importance has a high score, it may indicate a problem with the data or the model's training process.\n",
        "\n",
        "In summary, Feature Importance in Boosting provides a valuable tool for understanding the model's behavior, selecting relevant features, and improving overall model performance."
      ],
      "metadata": {
        "id": "3vU4vEYbNK0p"
      }
    },
    {
      "cell_type": "markdown",
      "source": [
        "###13.Why is CatBoost efficient for categorical data?\n",
        "\n",
        "CatBoost (Category Boosting) has several features that make it particularly efficient for handling categorical data:\n",
        "\n",
        "Ordered Target Statistics: CatBoost uses a novel technique called \"ordered target statistics\" to encode categorical features. Instead of using one-hot encoding, which can lead to a high-dimensional feature space, CatBoost calculates the average target value for each category, taking into account the order in which the data is observed. This approach reduces overfitting and improves the model's ability to generalize to unseen data.\n",
        "\n",
        "Ordered Boosting: CatBoost employs an \"ordered boosting\" algorithm that prevents target leakage, a common problem when dealing with categorical features. Traditional gradient boosting methods can suffer from target leakage because the same data is used to calculate both the gradients and the predictions. CatBoost's ordered boosting algorithm addresses this issue by using different subsets of the data for these two tasks, ensuring that the model does not learn from information it should not have access to.\n",
        "\n",
        "Combination of Categorical Features: CatBoost can effectively handle categorical features with high cardinality (many unique values) by automatically combining them into fewer categories. This reduces the dimensionality of the feature space and improves the model's efficiency.\n",
        "\n",
        "Native Support for Categorical Features: CatBoost natively supports categorical features, meaning that you do not need to perform any preprocessing steps like one-hot encoding before training the model. This saves time and effort and makes the workflow more streamlined.\n",
        "\n",
        "Handling Missing Values: CatBoost has a built-in mechanism for handling missing values in categorical features. It automatically replaces missing values with a special token, which is then treated as a separate category during training. This eliminates the need for imputation or other preprocessing steps to handle missing data.\n",
        "\n",
        "These features collectively contribute to CatBoost's efficiency in handling categorical data, making it a preferred choice for tasks involving datasets with a significant number of categorical variables."
      ],
      "metadata": {
        "id": "PeM_BfKRNOVU"
      }
    },
    {
      "cell_type": "markdown",
      "source": [
        "#Practical Questions"
      ],
      "metadata": {
        "id": "x_2cAqx2Nta9"
      }
    },
    {
      "cell_type": "code",
      "source": [
        "#14.Train an AdaBoost Classifier on a sample dataset and print model accuracy.\n",
        "\n",
        "\n",
        "!pip install scikit-learn numpy\n",
        "\n",
        "import numpy as np\n",
        "from sklearn.ensemble import AdaBoostClassifier\n",
        "from sklearn.datasets import make_classification\n",
        "from sklearn.model_selection import train_test_split\n",
        "from sklearn.metrics import accuracy_score\n",
        "\n",
        "# Generate a synthetic binary classification dataset\n",
        "X, y = make_classification(n_samples=1000, n_features=20, random_state=42)\n",
        "\n",
        "# Split the dataset into training and testing sets\n",
        "X_train, X_test, y_train, y_test = train_test_split(X, y, test_size=0.2, random_state=42)\n",
        "\n",
        "# Train an AdaBoost Classifier\n",
        "adaboost = AdaBoostClassifier(n_estimators=100, random_state=42)\n",
        "adaboost.fit(X_train, y_train)\n",
        "\n",
        "# Predict on the test set\n",
        "y_pred = adaboost.predict(X_test)\n",
        "\n",
        "# Evaluate model accuracy\n",
        "accuracy = accuracy_score(y_test, y_pred)\n",
        "print(f\"AdaBoost Classifier Accuracy: {accuracy:.4f}\")\n",
        "\n"
      ],
      "metadata": {
        "colab": {
          "base_uri": "https://localhost:8080/"
        },
        "id": "kmKtPImUNwId",
        "outputId": "caf61e34-4fee-4b80-c0ca-9c7733dadf82"
      },
      "execution_count": 1,
      "outputs": [
        {
          "output_type": "stream",
          "name": "stdout",
          "text": [
            "Requirement already satisfied: scikit-learn in /usr/local/lib/python3.11/dist-packages (1.6.1)\n",
            "Requirement already satisfied: numpy in /usr/local/lib/python3.11/dist-packages (2.0.2)\n",
            "Requirement already satisfied: scipy>=1.6.0 in /usr/local/lib/python3.11/dist-packages (from scikit-learn) (1.14.1)\n",
            "Requirement already satisfied: joblib>=1.2.0 in /usr/local/lib/python3.11/dist-packages (from scikit-learn) (1.4.2)\n",
            "Requirement already satisfied: threadpoolctl>=3.1.0 in /usr/local/lib/python3.11/dist-packages (from scikit-learn) (3.6.0)\n",
            "AdaBoost Classifier Accuracy: 0.8650\n"
          ]
        }
      ]
    },
    {
      "cell_type": "code",
      "source": [
        "#15.Train an AdaBoost Regressor and evaluate performance using Mean Absolute Error (MAE).\n",
        "\n",
        "\n",
        "from sklearn.ensemble import AdaBoostRegressor\n",
        "from sklearn.metrics import mean_absolute_error\n",
        "from sklearn.datasets import make_regression\n",
        "\n",
        "X_reg, y_reg = make_regression(n_samples=1000, n_features=20)\n",
        "X_train_reg, X_test_reg, y_train_reg, y_test_reg = train_test_split(X_reg, y_reg, test_size=0.2, random_state=42)\n",
        "\n",
        "adaboost_reg = AdaBoostRegressor(n_estimators=100)\n",
        "adaboost_reg.fit(X_train_reg, y_train_reg)\n",
        "y_pred_reg = adaboost_reg.predict(X_test_reg)\n",
        "\n",
        "print(\"AdaBoost Regressor MAE:\", mean_absolute_error(y_test_reg, y_pred_reg))\n"
      ],
      "metadata": {
        "colab": {
          "base_uri": "https://localhost:8080/"
        },
        "id": "dcqFM7U5N4ra",
        "outputId": "708e6041-8bd8-4974-983d-ba7b4889df58"
      },
      "execution_count": 2,
      "outputs": [
        {
          "output_type": "stream",
          "name": "stdout",
          "text": [
            "AdaBoost Regressor MAE: 71.77657833575594\n"
          ]
        }
      ]
    },
    {
      "cell_type": "code",
      "source": [
        "#16.Train a Gradient Boosting Classifier on the Breast Cancer dataset and print feature importance.\n",
        "\n",
        "!pip install scikit-learn numpy matplotlib\n",
        "\n",
        "import numpy as np\n",
        "import matplotlib.pyplot as plt\n",
        "from sklearn.ensemble import GradientBoostingClassifier\n",
        "from sklearn.datasets import load_breast_cancer\n",
        "from sklearn.model_selection import train_test_split\n",
        "from sklearn.metrics import accuracy_score\n",
        "\n",
        "# Load the Breast Cancer dataset\n",
        "cancer = load_breast_cancer()\n",
        "X, y = cancer.data, cancer.target\n",
        "\n",
        "# Split the dataset into training and testing sets\n",
        "X_train, X_test, y_train, y_test = train_test_split(X, y, test_size=0.2, random_state=42)\n",
        "\n",
        "# Train a Gradient Boosting Classifier\n",
        "gb_clf = GradientBoostingClassifier(n_estimators=100, random_state=42)\n",
        "gb_clf.fit(X_train, y_train)\n",
        "\n",
        "# Predict on the test set and evaluate accuracy\n",
        "y_pred = gb_clf.predict(X_test)\n",
        "accuracy = accuracy_score(y_test, y_pred)\n",
        "print(f\"Gradient Boosting Classifier Accuracy: {accuracy:.4f}\")\n",
        "\n",
        "# Get feature importance scores\n",
        "importances = gb_clf.feature_importances_\n",
        "\n",
        "# Plot feature importance\n",
        "plt.figure(figsize=(10, 5))\n",
        "plt.bar(range(len(importances)), importances, color='blue')\n",
        "plt.xlabel(\"Feature Index\")\n",
        "plt.ylabel(\"Feature Importance Score\")\n",
        "plt.title(\"Feature Importance - Gradient Boosting Classifier (Breast Cancer Dataset)\")\n",
        "plt.show()\n"
      ],
      "metadata": {
        "colab": {
          "base_uri": "https://localhost:8080/",
          "height": 765
        },
        "id": "fm43Cy8ZN7T2",
        "outputId": "543d3675-eb2c-412e-dde5-d3c1ac800767"
      },
      "execution_count": 3,
      "outputs": [
        {
          "output_type": "stream",
          "name": "stdout",
          "text": [
            "Requirement already satisfied: scikit-learn in /usr/local/lib/python3.11/dist-packages (1.6.1)\n",
            "Requirement already satisfied: numpy in /usr/local/lib/python3.11/dist-packages (2.0.2)\n",
            "Requirement already satisfied: matplotlib in /usr/local/lib/python3.11/dist-packages (3.10.0)\n",
            "Requirement already satisfied: scipy>=1.6.0 in /usr/local/lib/python3.11/dist-packages (from scikit-learn) (1.14.1)\n",
            "Requirement already satisfied: joblib>=1.2.0 in /usr/local/lib/python3.11/dist-packages (from scikit-learn) (1.4.2)\n",
            "Requirement already satisfied: threadpoolctl>=3.1.0 in /usr/local/lib/python3.11/dist-packages (from scikit-learn) (3.6.0)\n",
            "Requirement already satisfied: contourpy>=1.0.1 in /usr/local/lib/python3.11/dist-packages (from matplotlib) (1.3.1)\n",
            "Requirement already satisfied: cycler>=0.10 in /usr/local/lib/python3.11/dist-packages (from matplotlib) (0.12.1)\n",
            "Requirement already satisfied: fonttools>=4.22.0 in /usr/local/lib/python3.11/dist-packages (from matplotlib) (4.56.0)\n",
            "Requirement already satisfied: kiwisolver>=1.3.1 in /usr/local/lib/python3.11/dist-packages (from matplotlib) (1.4.8)\n",
            "Requirement already satisfied: packaging>=20.0 in /usr/local/lib/python3.11/dist-packages (from matplotlib) (24.2)\n",
            "Requirement already satisfied: pillow>=8 in /usr/local/lib/python3.11/dist-packages (from matplotlib) (11.1.0)\n",
            "Requirement already satisfied: pyparsing>=2.3.1 in /usr/local/lib/python3.11/dist-packages (from matplotlib) (3.2.1)\n",
            "Requirement already satisfied: python-dateutil>=2.7 in /usr/local/lib/python3.11/dist-packages (from matplotlib) (2.8.2)\n",
            "Requirement already satisfied: six>=1.5 in /usr/local/lib/python3.11/dist-packages (from python-dateutil>=2.7->matplotlib) (1.17.0)\n",
            "Gradient Boosting Classifier Accuracy: 0.9561\n"
          ]
        },
        {
          "output_type": "display_data",
          "data": {
            "text/plain": [
              "<Figure size 1000x500 with 1 Axes>"
            ],
            "image/png": "[encoded data removed]"
          },
          "metadata": {}
        }
      ]
    },
    {
      "cell_type": "code",
      "source": [
        "#17.Train a Gradient Boosting Regressor and evaluate using R-Squared Score.\n",
        "\n",
        "!pip install scikit-learn numpy\n",
        "\n",
        "import numpy as np\n",
        "from sklearn.ensemble import GradientBoostingRegressor\n",
        "from sklearn.datasets import make_regression\n",
        "from sklearn.model_selection import train_test_split\n",
        "from sklearn.metrics import r2_score\n",
        "\n",
        "# Generate a synthetic regression dataset\n",
        "X, y = make_regression(n_samples=1000, n_features=20, noise=0.1, random_state=42)\n",
        "\n",
        "# Split the dataset into training and testing sets\n",
        "X_train, X_test, y_train, y_test = train_test_split(X, y, test_size=0.2, random_state=42)\n",
        "\n",
        "# Train a Gradient Boosting Regressor\n",
        "gb_reg = GradientBoostingRegressor(n_estimators=100, random_state=42)\n",
        "gb_reg.fit(X_train, y_train)\n",
        "\n",
        "# Predict on the test set\n",
        "y_pred = gb_reg.predict(X_test)\n",
        "\n",
        "# Evaluate using R-Squared Score\n",
        "r2 = r2_score(y_test, y_pred)\n",
        "print(f\"Gradient Boosting Regressor R-Squared Score: {r2:.4f}\")\n"
      ],
      "metadata": {
        "colab": {
          "base_uri": "https://localhost:8080/"
        },
        "id": "LL7yiYbDN9c_",
        "outputId": "9f6aad85-5b4b-41b1-e0c3-67e6169ac0ae"
      },
      "execution_count": 4,
      "outputs": [
        {
          "output_type": "stream",
          "name": "stdout",
          "text": [
            "Requirement already satisfied: scikit-learn in /usr/local/lib/python3.11/dist-packages (1.6.1)\n",
            "Requirement already satisfied: numpy in /usr/local/lib/python3.11/dist-packages (2.0.2)\n",
            "Requirement already satisfied: scipy>=1.6.0 in /usr/local/lib/python3.11/dist-packages (from scikit-learn) (1.14.1)\n",
            "Requirement already satisfied: joblib>=1.2.0 in /usr/local/lib/python3.11/dist-packages (from scikit-learn) (1.4.2)\n",
            "Requirement already satisfied: threadpoolctl>=3.1.0 in /usr/local/lib/python3.11/dist-packages (from scikit-learn) (3.6.0)\n",
            "Gradient Boosting Regressor R-Squared Score: 0.9211\n"
          ]
        }
      ]
    },
    {
      "cell_type": "code",
      "source": [
        "#18. Train an XGBoost Classifier on a dataset and compare accuracy with Gradient Boosting.\n",
        "\n",
        "!pip install xgboost scikit-learn numpy\n",
        "\n",
        "import numpy as np\n",
        "from xgboost import XGBClassifier\n",
        "from sklearn.ensemble import GradientBoostingClassifier\n",
        "from sklearn.datasets import make_classification\n",
        "from sklearn.model_selection import train_test_split\n",
        "from sklearn.metrics import accuracy_score\n",
        "\n",
        "# Generate a synthetic binary classification dataset\n",
        "X, y = make_classification(n_samples=1000, n_features=20, random_state=42)\n",
        "\n",
        "# Split the dataset into training and testing sets\n",
        "X_train, X_test, y_train, y_test = train_test_split(X, y, test_size=0.2, random_state=42)\n",
        "\n",
        "# Train a Gradient Boosting Classifier\n",
        "gb_clf = GradientBoostingClassifier(n_estimators=100, random_state=42)\n",
        "gb_clf.fit(X_train, y_train)\n",
        "gb_pred = gb_clf.predict(X_test)\n",
        "gb_accuracy = accuracy_score(y_test, gb_pred)\n",
        "\n",
        "# Train an XGBoost Classifier\n",
        "xgb_clf = XGBClassifier(n_estimators=100, use_label_encoder=False, eval_metric='logloss', random_state=42)\n",
        "xgb_clf.fit(X_train, y_train)\n",
        "xgb_pred = xgb_clf.predict(X_test)\n",
        "xgb_accuracy = accuracy_score(y_test, xgb_pred)\n",
        "\n",
        "# Compare accuracies\n",
        "print(f\"Gradient Boosting Classifier Accuracy: {gb_accuracy:.4f}\")\n",
        "print(f\"XGBoost Classifier Accuracy: {xgb_accuracy:.4f}\")\n",
        "\n"
      ],
      "metadata": {
        "colab": {
          "base_uri": "https://localhost:8080/"
        },
        "id": "qnfBNbvZOEYq",
        "outputId": "aa851f23-04ef-49d8-9bf4-2b8e67796dd6"
      },
      "execution_count": 5,
      "outputs": [
        {
          "output_type": "stream",
          "name": "stdout",
          "text": [
            "Requirement already satisfied: xgboost in /usr/local/lib/python3.11/dist-packages (2.1.4)\n",
            "Requirement already satisfied: scikit-learn in /usr/local/lib/python3.11/dist-packages (1.6.1)\n",
            "Requirement already satisfied: numpy in /usr/local/lib/python3.11/dist-packages (2.0.2)\n",
            "Requirement already satisfied: nvidia-nccl-cu12 in /usr/local/lib/python3.11/dist-packages (from xgboost) (2.21.5)\n",
            "Requirement already satisfied: scipy in /usr/local/lib/python3.11/dist-packages (from xgboost) (1.14.1)\n",
            "Requirement already satisfied: joblib>=1.2.0 in /usr/local/lib/python3.11/dist-packages (from scikit-learn) (1.4.2)\n",
            "Requirement already satisfied: threadpoolctl>=3.1.0 in /usr/local/lib/python3.11/dist-packages (from scikit-learn) (3.6.0)\n"
          ]
        },
        {
          "output_type": "stream",
          "name": "stderr",
          "text": [
            "/usr/local/lib/python3.11/dist-packages/xgboost/core.py:158: UserWarning: [17:44:45] WARNING: /workspace/src/learner.cc:740: \n",
            "Parameters: { \"use_label_encoder\" } are not used.\n",
            "\n",
            "  warnings.warn(smsg, UserWarning)\n"
          ]
        },
        {
          "output_type": "stream",
          "name": "stdout",
          "text": [
            "Gradient Boosting Classifier Accuracy: 0.9150\n",
            "XGBoost Classifier Accuracy: 0.8950\n"
          ]
        }
      ]
    },
    {
      "cell_type": "code",
      "source": [
        "!pip uninstall -y numpy\n",
        "!pip install numpy==1.23.5\n"
      ],
      "metadata": {
        "colab": {
          "base_uri": "https://localhost:8080/",
          "height": 533
        },
        "id": "zWEbOL_bZl1Q",
        "outputId": "7d792224-3da2-459b-ad87-06de5ac9f61d"
      },
      "execution_count": 19,
      "outputs": [
        {
          "output_type": "stream",
          "name": "stdout",
          "text": [
            "Found existing installation: numpy 1.26.4\n",
            "Uninstalling numpy-1.26.4:\n",
            "  Successfully uninstalled numpy-1.26.4\n",
            "Collecting numpy==1.23.5\n",
            "  Downloading numpy-1.23.5-cp311-cp311-manylinux_2_17_x86_64.manylinux2014_x86_64.whl.metadata (2.3 kB)\n",
            "Downloading numpy-1.23.5-cp311-cp311-manylinux_2_17_x86_64.manylinux2014_x86_64.whl (17.1 MB)\n",
            "\u001b[2K   \u001b[90m━━━━━━━━━━━━━━━━━━━━━━━━━━━━━━━━━━━━━━━━\u001b[0m \u001b[32m17.1/17.1 MB\u001b[0m \u001b[31m38.2 MB/s\u001b[0m eta \u001b[36m0:00:00\u001b[0m\n",
            "\u001b[?25hInstalling collected packages: numpy\n",
            "\u001b[31mERROR: pip's dependency resolver does not currently take into account all the packages that are installed. This behaviour is the source of the following dependency conflicts.\n",
            "albumentations 2.0.5 requires numpy>=1.24.4, but you have numpy 1.23.5 which is incompatible.\n",
            "albucore 0.0.23 requires numpy>=1.24.4, but you have numpy 1.23.5 which is incompatible.\n",
            "treescope 0.1.9 requires numpy>=1.25.2, but you have numpy 1.23.5 which is incompatible.\n",
            "pymc 5.21.1 requires numpy>=1.25.0, but you have numpy 1.23.5 which is incompatible.\n",
            "tensorflow 2.18.0 requires numpy<2.1.0,>=1.26.0, but you have numpy 1.23.5 which is incompatible.\n",
            "imbalanced-learn 0.13.0 requires numpy<3,>=1.24.3, but you have numpy 1.23.5 which is incompatible.\n",
            "chex 0.1.89 requires numpy>=1.24.1, but you have numpy 1.23.5 which is incompatible.\n",
            "bigframes 1.40.0 requires numpy>=1.24.0, but you have numpy 1.23.5 which is incompatible.\n",
            "scikit-image 0.25.2 requires numpy>=1.24, but you have numpy 1.23.5 which is incompatible.\n",
            "jax 0.5.2 requires numpy>=1.25, but you have numpy 1.23.5 which is incompatible.\n",
            "jaxlib 0.5.1 requires numpy>=1.25, but you have numpy 1.23.5 which is incompatible.\n",
            "xarray 2025.1.2 requires numpy>=1.24, but you have numpy 1.23.5 which is incompatible.\n",
            "blosc2 3.2.0 requires numpy>=1.26, but you have numpy 1.23.5 which is incompatible.\u001b[0m\u001b[31m\n",
            "\u001b[0mSuccessfully installed numpy-1.23.5\n"
          ]
        },
        {
          "output_type": "display_data",
          "data": {
            "application/vnd.colab-display-data+json": {
              "pip_warning": {
                "packages": [
                  "numpy"
                ]
              },
              "id": "7f3eb2d7f19542369d77f1a518737fbb"
            }
          },
          "metadata": {}
        }
      ]
    },
    {
      "cell_type": "code",
      "source": [
        "!pip uninstall -y catboost\n",
        "!pip install catboost\n"
      ],
      "metadata": {
        "colab": {
          "base_uri": "https://localhost:8080/"
        },
        "id": "YFRC8eWOZ1Q_",
        "outputId": "76829cfd-d9c9-4baf-88d7-4d09dcbe51c7"
      },
      "execution_count": 1,
      "outputs": [
        {
          "output_type": "stream",
          "name": "stdout",
          "text": [
            "Found existing installation: catboost 1.2.7\n",
            "Uninstalling catboost-1.2.7:\n",
            "  Successfully uninstalled catboost-1.2.7\n",
            "Collecting catboost\n",
            "  Using cached catboost-1.2.7-cp311-cp311-manylinux2014_x86_64.whl.metadata (1.2 kB)\n",
            "Requirement already satisfied: graphviz in /usr/local/lib/python3.11/dist-packages (from catboost) (0.20.3)\n",
            "Requirement already satisfied: matplotlib in /usr/local/lib/python3.11/dist-packages (from catboost) (3.10.0)\n",
            "Requirement already satisfied: numpy<2.0,>=1.16.0 in /usr/local/lib/python3.11/dist-packages (from catboost) (1.23.5)\n",
            "Requirement already satisfied: pandas>=0.24 in /usr/local/lib/python3.11/dist-packages (from catboost) (2.2.2)\n",
            "Requirement already satisfied: scipy in /usr/local/lib/python3.11/dist-packages (from catboost) (1.14.1)\n",
            "Requirement already satisfied: plotly in /usr/local/lib/python3.11/dist-packages (from catboost) (5.24.1)\n",
            "Requirement already satisfied: six in /usr/local/lib/python3.11/dist-packages (from catboost) (1.17.0)\n",
            "Requirement already satisfied: python-dateutil>=2.8.2 in /usr/local/lib/python3.11/dist-packages (from pandas>=0.24->catboost) (2.8.2)\n",
            "Requirement already satisfied: pytz>=2020.1 in /usr/local/lib/python3.11/dist-packages (from pandas>=0.24->catboost) (2025.1)\n",
            "Requirement already satisfied: tzdata>=2022.7 in /usr/local/lib/python3.11/dist-packages (from pandas>=0.24->catboost) (2025.1)\n",
            "Requirement already satisfied: contourpy>=1.0.1 in /usr/local/lib/python3.11/dist-packages (from matplotlib->catboost) (1.3.1)\n",
            "Requirement already satisfied: cycler>=0.10 in /usr/local/lib/python3.11/dist-packages (from matplotlib->catboost) (0.12.1)\n",
            "Requirement already satisfied: fonttools>=4.22.0 in /usr/local/lib/python3.11/dist-packages (from matplotlib->catboost) (4.56.0)\n",
            "Requirement already satisfied: kiwisolver>=1.3.1 in /usr/local/lib/python3.11/dist-packages (from matplotlib->catboost) (1.4.8)\n",
            "Requirement already satisfied: packaging>=20.0 in /usr/local/lib/python3.11/dist-packages (from matplotlib->catboost) (24.2)\n",
            "Requirement already satisfied: pillow>=8 in /usr/local/lib/python3.11/dist-packages (from matplotlib->catboost) (11.1.0)\n",
            "Requirement already satisfied: pyparsing>=2.3.1 in /usr/local/lib/python3.11/dist-packages (from matplotlib->catboost) (3.2.1)\n",
            "Requirement already satisfied: tenacity>=6.2.0 in /usr/local/lib/python3.11/dist-packages (from plotly->catboost) (9.0.0)\n",
            "Using cached catboost-1.2.7-cp311-cp311-manylinux2014_x86_64.whl (98.7 MB)\n",
            "Installing collected packages: catboost\n",
            "Successfully installed catboost-1.2.7\n"
          ]
        }
      ]
    },
    {
      "cell_type": "code",
      "source": [
        "import numpy as np\n",
        "from catboost import CatBoostClassifier\n",
        "print(\"CatBoost and NumPy are working correctly!\")\n"
      ],
      "metadata": {
        "colab": {
          "base_uri": "https://localhost:8080/"
        },
        "id": "i3tnWiPoaHg4",
        "outputId": "cb0eb3b4-7a03-48f7-d228-11459282cf3c"
      },
      "execution_count": 1,
      "outputs": [
        {
          "output_type": "stream",
          "name": "stdout",
          "text": [
            "CatBoost and NumPy are working correctly!\n"
          ]
        }
      ]
    },
    {
      "cell_type": "code",
      "source": [
        "#19.Train a CatBoost Classifier and evaluate using F1-Score.\n",
        "\n",
        "\n",
        "\n",
        "import numpy as np\n",
        "from catboost import CatBoostClassifier\n",
        "from sklearn.datasets import make_classification\n",
        "from sklearn.model_selection import train_test_split\n",
        "from sklearn.metrics import f1_score\n",
        "\n",
        "# Generate a synthetic binary classification dataset\n",
        "X, y = make_classification(n_samples=1000, n_features=20, random_state=42)\n",
        "\n",
        "# Split the dataset into training and testing sets\n",
        "X_train, X_test, y_train, y_test = train_test_split(X, y, test_size=0.2, random_state=42)\n",
        "\n",
        "# Train a CatBoost Classifier\n",
        "catboost_clf = CatBoostClassifier(iterations=100, verbose=0, random_state=42)\n",
        "catboost_clf.fit(X_train, y_train)\n",
        "\n",
        "# Predict on the test set\n",
        "y_pred = catboost_clf.predict(X_test)\n",
        "\n",
        "# Evaluate using F1-Score\n",
        "f1 = f1_score(y_test, y_pred)\n",
        "print(f\"CatBoost Classifier F1-Score: {f1:.4f}\")\n",
        "\n"
      ],
      "metadata": {
        "colab": {
          "base_uri": "https://localhost:8080/"
        },
        "id": "apQMa1VyOGle",
        "outputId": "41d17e78-72d3-4fef-deb2-4a4e6555e1a5"
      },
      "execution_count": 2,
      "outputs": [
        {
          "output_type": "stream",
          "name": "stdout",
          "text": [
            "CatBoost Classifier F1-Score: 0.8922\n"
          ]
        }
      ]
    },
    {
      "cell_type": "code",
      "source": [
        "#20.Train an XGBoost Regressor and evaluate using Mean Squared Error (MSE).\n",
        "\n",
        "!pip install xgboost scikit-learn numpy\n",
        "\n",
        "import numpy as np\n",
        "from xgboost import XGBRegressor\n",
        "from sklearn.datasets import make_regression\n",
        "from sklearn.model_selection import train_test_split\n",
        "from sklearn.metrics import mean_squared_error\n",
        "\n",
        "# Generate a synthetic regression dataset\n",
        "X, y = make_regression(n_samples=1000, n_features=20, noise=0.1, random_state=42)\n",
        "\n",
        "# Split the dataset into training and testing sets\n",
        "X_train, X_test, y_train, y_test = train_test_split(X, y, test_size=0.2, random_state=42)\n",
        "\n",
        "# Train an XGBoost Regressor\n",
        "xgb_reg = XGBRegressor(n_estimators=100, random_state=42)\n",
        "xgb_reg.fit(X_train, y_train)\n",
        "\n",
        "# Predict on the test set\n",
        "y_pred = xgb_reg.predict(X_test)\n",
        "\n",
        "# Evaluate using Mean Squared Error (MSE)\n",
        "mse = mean_squared_error(y_test, y_pred)\n",
        "print(f\"XGBoost Regressor MSE: {mse:.4f}\")\n",
        "\n"
      ],
      "metadata": {
        "colab": {
          "base_uri": "https://localhost:8080/"
        },
        "id": "ClBRKx9ZOIlj",
        "outputId": "a91f9ae3-47b4-454b-ec2f-c613654e1643"
      },
      "execution_count": 8,
      "outputs": [
        {
          "output_type": "stream",
          "name": "stdout",
          "text": [
            "Requirement already satisfied: xgboost in /usr/local/lib/python3.11/dist-packages (2.1.4)\n",
            "Requirement already satisfied: scikit-learn in /usr/local/lib/python3.11/dist-packages (1.6.1)\n",
            "Requirement already satisfied: numpy in /usr/local/lib/python3.11/dist-packages (1.26.4)\n",
            "Requirement already satisfied: nvidia-nccl-cu12 in /usr/local/lib/python3.11/dist-packages (from xgboost) (2.21.5)\n",
            "Requirement already satisfied: scipy in /usr/local/lib/python3.11/dist-packages (from xgboost) (1.14.1)\n",
            "Requirement already satisfied: joblib>=1.2.0 in /usr/local/lib/python3.11/dist-packages (from scikit-learn) (1.4.2)\n",
            "Requirement already satisfied: threadpoolctl>=3.1.0 in /usr/local/lib/python3.11/dist-packages (from scikit-learn) (3.6.0)\n",
            "XGBoost Regressor MSE: 5530.4742\n"
          ]
        }
      ]
    },
    {
      "cell_type": "code",
      "source": [
        "#21.Train an AdaBoost Classifier and visualize feature importance.\n",
        "\n",
        "\n",
        "!pip install scikit-learn numpy matplotlib\n",
        "\n",
        "import numpy as np\n",
        "import matplotlib.pyplot as plt\n",
        "from sklearn.ensemble import AdaBoostClassifier\n",
        "from sklearn.datasets import make_classification\n",
        "from sklearn.model_selection import train_test_split\n",
        "\n",
        "# Generate a synthetic binary classification dataset\n",
        "X, y = make_classification(n_samples=1000, n_features=20, random_state=42)\n",
        "\n",
        "# Split the dataset into training and testing sets\n",
        "X_train, X_test, y_train, y_test = train_test_split(X, y, test_size=0.2, random_state=42)\n",
        "\n",
        "# Train an AdaBoost Classifier\n",
        "adaboost = AdaBoostClassifier(n_estimators=100)\n",
        "adaboost.fit(X_train, y_train)\n",
        "\n",
        "# Get feature importances\n",
        "importances = adaboost.feature_importances_\n",
        "\n",
        "# Plot feature importance\n",
        "plt.figure(figsize=(10, 5))\n",
        "plt.bar(range(len(importances)), importances, color='blue')\n",
        "plt.xlabel(\"Feature Index\")\n",
        "plt.ylabel(\"Feature Importance Score\")\n",
        "plt.title(\"Feature Importance - AdaBoost Classifier\")\n",
        "plt.show()\n"
      ],
      "metadata": {
        "colab": {
          "base_uri": "https://localhost:8080/",
          "height": 747
        },
        "id": "Mr5q70W_OLv0",
        "outputId": "e0726eb9-e466-409c-8a8b-cd6fd16c666f"
      },
      "execution_count": 9,
      "outputs": [
        {
          "output_type": "stream",
          "name": "stdout",
          "text": [
            "Requirement already satisfied: scikit-learn in /usr/local/lib/python3.11/dist-packages (1.6.1)\n",
            "Requirement already satisfied: numpy in /usr/local/lib/python3.11/dist-packages (1.26.4)\n",
            "Requirement already satisfied: matplotlib in /usr/local/lib/python3.11/dist-packages (3.10.0)\n",
            "Requirement already satisfied: scipy>=1.6.0 in /usr/local/lib/python3.11/dist-packages (from scikit-learn) (1.14.1)\n",
            "Requirement already satisfied: joblib>=1.2.0 in /usr/local/lib/python3.11/dist-packages (from scikit-learn) (1.4.2)\n",
            "Requirement already satisfied: threadpoolctl>=3.1.0 in /usr/local/lib/python3.11/dist-packages (from scikit-learn) (3.6.0)\n",
            "Requirement already satisfied: contourpy>=1.0.1 in /usr/local/lib/python3.11/dist-packages (from matplotlib) (1.3.1)\n",
            "Requirement already satisfied: cycler>=0.10 in /usr/local/lib/python3.11/dist-packages (from matplotlib) (0.12.1)\n",
            "Requirement already satisfied: fonttools>=4.22.0 in /usr/local/lib/python3.11/dist-packages (from matplotlib) (4.56.0)\n",
            "Requirement already satisfied: kiwisolver>=1.3.1 in /usr/local/lib/python3.11/dist-packages (from matplotlib) (1.4.8)\n",
            "Requirement already satisfied: packaging>=20.0 in /usr/local/lib/python3.11/dist-packages (from matplotlib) (24.2)\n",
            "Requirement already satisfied: pillow>=8 in /usr/local/lib/python3.11/dist-packages (from matplotlib) (11.1.0)\n",
            "Requirement already satisfied: pyparsing>=2.3.1 in /usr/local/lib/python3.11/dist-packages (from matplotlib) (3.2.1)\n",
            "Requirement already satisfied: python-dateutil>=2.7 in /usr/local/lib/python3.11/dist-packages (from matplotlib) (2.8.2)\n",
            "Requirement already satisfied: six>=1.5 in /usr/local/lib/python3.11/dist-packages (from python-dateutil>=2.7->matplotlib) (1.17.0)\n"
          ]
        },
        {
          "output_type": "display_data",
          "data": {
            "text/plain": [
              "<Figure size 1000x500 with 1 Axes>"
            ],
            "image/png": "[encoded data removed]"
          },
          "metadata": {}
        }
      ]
    },
    {
      "cell_type": "code",
      "source": [
        "#22.Train a Gradient Boosting Regressor and plot learning curves.\n",
        "\n",
        "!pip install scikit-learn numpy matplotlib\n",
        "\n",
        "import numpy as np\n",
        "import matplotlib.pyplot as plt\n",
        "from sklearn.ensemble import GradientBoostingRegressor\n",
        "from sklearn.datasets import make_regression\n",
        "from sklearn.model_selection import train_test_split, learning_curve\n",
        "\n",
        "# Generate a synthetic regression dataset\n",
        "X, y = make_regression(n_samples=1000, n_features=20, noise=0.1, random_state=42)\n",
        "\n",
        "# Split the dataset into training and testing sets\n",
        "X_train, X_test, y_train, y_test = train_test_split(X, y, test_size=0.2, random_state=42)\n",
        "\n",
        "# Train a Gradient Boosting Regressor\n",
        "gb_reg = GradientBoostingRegressor(n_estimators=100)\n",
        "gb_reg.fit(X_train, y_train)\n",
        "\n",
        "# Compute learning curves\n",
        "train_sizes, train_scores, test_scores = learning_curve(gb_reg, X_train, y_train, cv=5)\n",
        "\n",
        "# Plot learning curves\n",
        "plt.figure(figsize=(8, 5))\n",
        "plt.plot(train_sizes, train_scores.mean(axis=1), label=\"Training Score\", marker='o')\n",
        "plt.plot(train_sizes, test_scores.mean(axis=1), label=\"Validation Score\", marker='s')\n",
        "plt.xlabel(\"Training Set Size\")\n",
        "plt.ylabel(\"Score\")\n",
        "plt.title(\"Learning Curve - Gradient Boosting Regressor\")\n",
        "plt.legend()\n",
        "plt.grid()\n",
        "plt.show()\n",
        "\n"
      ],
      "metadata": {
        "colab": {
          "base_uri": "https://localhost:8080/",
          "height": 747
        },
        "id": "hCm8P4c3ONyx",
        "outputId": "b1bca276-eab3-4e1f-ce21-a88aecc5479e"
      },
      "execution_count": 10,
      "outputs": [
        {
          "output_type": "stream",
          "name": "stdout",
          "text": [
            "Requirement already satisfied: scikit-learn in /usr/local/lib/python3.11/dist-packages (1.6.1)\n",
            "Requirement already satisfied: numpy in /usr/local/lib/python3.11/dist-packages (1.26.4)\n",
            "Requirement already satisfied: matplotlib in /usr/local/lib/python3.11/dist-packages (3.10.0)\n",
            "Requirement already satisfied: scipy>=1.6.0 in /usr/local/lib/python3.11/dist-packages (from scikit-learn) (1.14.1)\n",
            "Requirement already satisfied: joblib>=1.2.0 in /usr/local/lib/python3.11/dist-packages (from scikit-learn) (1.4.2)\n",
            "Requirement already satisfied: threadpoolctl>=3.1.0 in /usr/local/lib/python3.11/dist-packages (from scikit-learn) (3.6.0)\n",
            "Requirement already satisfied: contourpy>=1.0.1 in /usr/local/lib/python3.11/dist-packages (from matplotlib) (1.3.1)\n",
            "Requirement already satisfied: cycler>=0.10 in /usr/local/lib/python3.11/dist-packages (from matplotlib) (0.12.1)\n",
            "Requirement already satisfied: fonttools>=4.22.0 in /usr/local/lib/python3.11/dist-packages (from matplotlib) (4.56.0)\n",
            "Requirement already satisfied: kiwisolver>=1.3.1 in /usr/local/lib/python3.11/dist-packages (from matplotlib) (1.4.8)\n",
            "Requirement already satisfied: packaging>=20.0 in /usr/local/lib/python3.11/dist-packages (from matplotlib) (24.2)\n",
            "Requirement already satisfied: pillow>=8 in /usr/local/lib/python3.11/dist-packages (from matplotlib) (11.1.0)\n",
            "Requirement already satisfied: pyparsing>=2.3.1 in /usr/local/lib/python3.11/dist-packages (from matplotlib) (3.2.1)\n",
            "Requirement already satisfied: python-dateutil>=2.7 in /usr/local/lib/python3.11/dist-packages (from matplotlib) (2.8.2)\n",
            "Requirement already satisfied: six>=1.5 in /usr/local/lib/python3.11/dist-packages (from python-dateutil>=2.7->matplotlib) (1.17.0)\n"
          ]
        },
        {
          "output_type": "display_data",
          "data": {
            "text/plain": [
              "<Figure size 800x500 with 1 Axes>"
            ],
            "image/png": "[encoded data removed]"
          },
          "metadata": {}
        }
      ]
    },
    {
      "cell_type": "code",
      "source": [
        "#23.Train an XGBoost Classifier and visualize feature importance.\n",
        "\n",
        "!pip install xgboost scikit-learn numpy matplotlib\n",
        "\n",
        "import numpy as np\n",
        "import matplotlib.pyplot as plt\n",
        "from xgboost import XGBClassifier\n",
        "from sklearn.datasets import make_classification\n",
        "from sklearn.model_selection import train_test_split\n",
        "\n",
        "# Generate a synthetic binary classification dataset\n",
        "X, y = make_classification(n_samples=1000, n_features=20, random_state=42)\n",
        "\n",
        "# Split the dataset into training and testing sets\n",
        "X_train, X_test, y_train, y_test = train_test_split(X, y, test_size=0.2, random_state=42)\n",
        "\n",
        "# Train an XGBoost Classifier\n",
        "xgb_clf = XGBClassifier(n_estimators=100, use_label_encoder=False, eval_metric='logloss')\n",
        "xgb_clf.fit(X_train, y_train)\n",
        "\n",
        "# Get feature importances\n",
        "importances = xgb_clf.feature_importances_\n",
        "\n",
        "# Plot feature importance\n",
        "plt.figure(figsize=(10, 5))\n",
        "plt.bar(range(len(importances)), importances, color='blue')\n",
        "plt.xlabel(\"Feature Index\")\n",
        "plt.ylabel(\"Feature Importance Score\")\n",
        "plt.title(\"Feature Importance - XGBoost Classifier\")\n",
        "plt.show()\n",
        "\n"
      ],
      "metadata": {
        "colab": {
          "base_uri": "https://localhost:8080/",
          "height": 852
        },
        "id": "3EEvhC9AOP6q",
        "outputId": "a4be1b36-a6e3-46cb-f5f5-5ae9d8caf4b3"
      },
      "execution_count": 11,
      "outputs": [
        {
          "output_type": "stream",
          "name": "stdout",
          "text": [
            "Requirement already satisfied: xgboost in /usr/local/lib/python3.11/dist-packages (2.1.4)\n",
            "Requirement already satisfied: scikit-learn in /usr/local/lib/python3.11/dist-packages (1.6.1)\n",
            "Requirement already satisfied: numpy in /usr/local/lib/python3.11/dist-packages (1.26.4)\n",
            "Requirement already satisfied: matplotlib in /usr/local/lib/python3.11/dist-packages (3.10.0)\n",
            "Requirement already satisfied: nvidia-nccl-cu12 in /usr/local/lib/python3.11/dist-packages (from xgboost) (2.21.5)\n",
            "Requirement already satisfied: scipy in /usr/local/lib/python3.11/dist-packages (from xgboost) (1.14.1)\n",
            "Requirement already satisfied: joblib>=1.2.0 in /usr/local/lib/python3.11/dist-packages (from scikit-learn) (1.4.2)\n",
            "Requirement already satisfied: threadpoolctl>=3.1.0 in /usr/local/lib/python3.11/dist-packages (from scikit-learn) (3.6.0)\n",
            "Requirement already satisfied: contourpy>=1.0.1 in /usr/local/lib/python3.11/dist-packages (from matplotlib) (1.3.1)\n",
            "Requirement already satisfied: cycler>=0.10 in /usr/local/lib/python3.11/dist-packages (from matplotlib) (0.12.1)\n",
            "Requirement already satisfied: fonttools>=4.22.0 in /usr/local/lib/python3.11/dist-packages (from matplotlib) (4.56.0)\n",
            "Requirement already satisfied: kiwisolver>=1.3.1 in /usr/local/lib/python3.11/dist-packages (from matplotlib) (1.4.8)\n",
            "Requirement already satisfied: packaging>=20.0 in /usr/local/lib/python3.11/dist-packages (from matplotlib) (24.2)\n",
            "Requirement already satisfied: pillow>=8 in /usr/local/lib/python3.11/dist-packages (from matplotlib) (11.1.0)\n",
            "Requirement already satisfied: pyparsing>=2.3.1 in /usr/local/lib/python3.11/dist-packages (from matplotlib) (3.2.1)\n",
            "Requirement already satisfied: python-dateutil>=2.7 in /usr/local/lib/python3.11/dist-packages (from matplotlib) (2.8.2)\n",
            "Requirement already satisfied: six>=1.5 in /usr/local/lib/python3.11/dist-packages (from python-dateutil>=2.7->matplotlib) (1.17.0)\n"
          ]
        },
        {
          "output_type": "stream",
          "name": "stderr",
          "text": [
            "/usr/local/lib/python3.11/dist-packages/xgboost/core.py:158: UserWarning: [17:47:14] WARNING: /workspace/src/learner.cc:740: \n",
            "Parameters: { \"use_label_encoder\" } are not used.\n",
            "\n",
            "  warnings.warn(smsg, UserWarning)\n"
          ]
        },
        {
          "output_type": "display_data",
          "data": {
            "text/plain": [
              "<Figure size 1000x500 with 1 Axes>"
            ],
            "image/png": "[encoded data removed]"
          },
          "metadata": {}
        }
      ]
    },
    {
      "cell_type": "code",
      "source": [
        "#24.Train a CatBoost Classifier and plot the confusion matrix.\n",
        "\n",
        "!pip install seaborn matplotlib\n",
        "\n",
        "import numpy as np\n",
        "import seaborn as sns\n",
        "import matplotlib.pyplot as plt\n",
        "from catboost import CatBoostClassifier\n",
        "from sklearn.datasets import make_classification\n",
        "from sklearn.model_selection import train_test_split\n",
        "from sklearn.metrics import confusion_matrix\n",
        "\n",
        "# Generate a synthetic binary classification dataset\n",
        "X, y = make_classification(n_samples=1000, n_features=20, random_state=42)\n",
        "\n",
        "# Split the dataset into training and testing sets\n",
        "X_train, X_test, y_train, y_test = train_test_split(X, y, test_size=0.2, random_state=42)\n",
        "\n",
        "# Train a CatBoost Classifier\n",
        "catboost_clf = CatBoostClassifier(iterations=100, verbose=0)\n",
        "catboost_clf.fit(X_train, y_train)\n",
        "\n",
        "# Predict on the test set\n",
        "y_pred = catboost_clf.predict(X_test)\n",
        "\n",
        "# Compute the confusion matrix\n",
        "cm = confusion_matrix(y_test, y_pred)\n",
        "\n",
        "# Plot the confusion matrix\n",
        "plt.figure(figsize=(6, 5))\n",
        "sns.heatmap(cm, annot=True, fmt='d', cmap=\"Blues\", xticklabels=[\"Class 0\", \"Class 1\"], yticklabels=[\"Class 0\", \"Class 1\"])\n",
        "plt.xlabel(\"Predicted Label\")\n",
        "plt.ylabel(\"True Label\")\n",
        "plt.title(\"Confusion Matrix - CatBoost Classifier\")\n",
        "plt.show()\n",
        "\n"
      ],
      "metadata": {
        "colab": {
          "base_uri": "https://localhost:8080/",
          "height": 747
        },
        "id": "oblc4mXAOSKb",
        "outputId": "fac67942-7672-49a6-a64e-1013b5509b64"
      },
      "execution_count": 3,
      "outputs": [
        {
          "output_type": "stream",
          "name": "stdout",
          "text": [
            "Requirement already satisfied: seaborn in /usr/local/lib/python3.11/dist-packages (0.13.2)\n",
            "Requirement already satisfied: matplotlib in /usr/local/lib/python3.11/dist-packages (3.10.0)\n",
            "Requirement already satisfied: numpy!=1.24.0,>=1.20 in /usr/local/lib/python3.11/dist-packages (from seaborn) (1.23.5)\n",
            "Requirement already satisfied: pandas>=1.2 in /usr/local/lib/python3.11/dist-packages (from seaborn) (2.2.2)\n",
            "Requirement already satisfied: contourpy>=1.0.1 in /usr/local/lib/python3.11/dist-packages (from matplotlib) (1.3.1)\n",
            "Requirement already satisfied: cycler>=0.10 in /usr/local/lib/python3.11/dist-packages (from matplotlib) (0.12.1)\n",
            "Requirement already satisfied: fonttools>=4.22.0 in /usr/local/lib/python3.11/dist-packages (from matplotlib) (4.56.0)\n",
            "Requirement already satisfied: kiwisolver>=1.3.1 in /usr/local/lib/python3.11/dist-packages (from matplotlib) (1.4.8)\n",
            "Requirement already satisfied: packaging>=20.0 in /usr/local/lib/python3.11/dist-packages (from matplotlib) (24.2)\n",
            "Requirement already satisfied: pillow>=8 in /usr/local/lib/python3.11/dist-packages (from matplotlib) (11.1.0)\n",
            "Requirement already satisfied: pyparsing>=2.3.1 in /usr/local/lib/python3.11/dist-packages (from matplotlib) (3.2.1)\n",
            "Requirement already satisfied: python-dateutil>=2.7 in /usr/local/lib/python3.11/dist-packages (from matplotlib) (2.8.2)\n",
            "Requirement already satisfied: pytz>=2020.1 in /usr/local/lib/python3.11/dist-packages (from pandas>=1.2->seaborn) (2025.1)\n",
            "Requirement already satisfied: tzdata>=2022.7 in /usr/local/lib/python3.11/dist-packages (from pandas>=1.2->seaborn) (2025.1)\n",
            "Requirement already satisfied: six>=1.5 in /usr/local/lib/python3.11/dist-packages (from python-dateutil>=2.7->matplotlib) (1.17.0)\n"
          ]
        },
        {
          "output_type": "display_data",
          "data": {
            "text/plain": [
              "<Figure size 600x500 with 2 Axes>"
            ],
            "image/png": "[encoded data removed]"
          },
          "metadata": {}
        }
      ]
    },
    {
      "cell_type": "code",
      "source": [
        "#25.Train an AdaBoost Classifier with different numbers of estimators and compare accuracy.\n",
        "\n",
        "!pip install scikit-learn numpy\n",
        "\n",
        "import numpy as np\n",
        "from sklearn.ensemble import AdaBoostClassifier\n",
        "from sklearn.datasets import make_classification\n",
        "from sklearn.model_selection import train_test_split\n",
        "from sklearn.metrics import accuracy_score\n",
        "\n",
        "# Generate a synthetic binary classification dataset\n",
        "X, y = make_classification(n_samples=1000, n_features=20, random_state=42)\n",
        "\n",
        "# Split the dataset into training and testing sets\n",
        "X_train, X_test, y_train, y_test = train_test_split(X, y, test_size=0.2, random_state=42)\n",
        "\n",
        "# Different numbers of estimators to test\n",
        "n_estimators_list = [10, 50, 100, 200, 500]\n",
        "\n",
        "# Train AdaBoost classifiers with different numbers of estimators and evaluate accuracy\n",
        "for n in n_estimators_list:\n",
        "    adaboost = AdaBoostClassifier(n_estimators=n, random_state=42)\n",
        "    adaboost.fit(X_train, y_train)\n",
        "    y_pred = adaboost.predict(X_test)\n",
        "    acc = accuracy_score(y_test, y_pred)\n",
        "\n",
        "    print(f\"AdaBoost Accuracy with {n} estimators: {acc:.4f}\")\n",
        "\n"
      ],
      "metadata": {
        "colab": {
          "base_uri": "https://localhost:8080/"
        },
        "id": "ztjuvzpVOUt5",
        "outputId": "8f257cc9-c1d8-4eba-9597-13d2a9a5ee76"
      },
      "execution_count": 13,
      "outputs": [
        {
          "output_type": "stream",
          "name": "stdout",
          "text": [
            "Requirement already satisfied: scikit-learn in /usr/local/lib/python3.11/dist-packages (1.6.1)\n",
            "Requirement already satisfied: numpy in /usr/local/lib/python3.11/dist-packages (1.26.4)\n",
            "Requirement already satisfied: scipy>=1.6.0 in /usr/local/lib/python3.11/dist-packages (from scikit-learn) (1.14.1)\n",
            "Requirement already satisfied: joblib>=1.2.0 in /usr/local/lib/python3.11/dist-packages (from scikit-learn) (1.4.2)\n",
            "Requirement already satisfied: threadpoolctl>=3.1.0 in /usr/local/lib/python3.11/dist-packages (from scikit-learn) (3.6.0)\n",
            "AdaBoost Accuracy with 10 estimators: 0.8600\n",
            "AdaBoost Accuracy with 50 estimators: 0.8750\n",
            "AdaBoost Accuracy with 100 estimators: 0.8650\n",
            "AdaBoost Accuracy with 200 estimators: 0.8650\n",
            "AdaBoost Accuracy with 500 estimators: 0.8650\n"
          ]
        }
      ]
    },
    {
      "cell_type": "code",
      "source": [
        "#26.Train a Gradient Boosting Classifier and visualize the ROC curve.\n",
        "\n",
        "\n",
        "!pip install scikit-learn numpy matplotlib\n",
        "\n",
        "import numpy as np\n",
        "import matplotlib.pyplot as plt\n",
        "from sklearn.ensemble import GradientBoostingClassifier\n",
        "from sklearn.datasets import make_classification\n",
        "from sklearn.model_selection import train_test_split\n",
        "from sklearn.metrics import roc_curve, auc\n",
        "\n",
        "# Generate a synthetic binary classification dataset\n",
        "X, y = make_classification(n_samples=1000, n_features=20, random_state=42)\n",
        "\n",
        "# Split the dataset into training and testing sets\n",
        "X_train, X_test, y_train, y_test = train_test_split(X, y, test_size=0.2, random_state=42)\n",
        "\n",
        "# Train a Gradient Boosting Classifier\n",
        "gb_clf = GradientBoostingClassifier(n_estimators=100)\n",
        "gb_clf.fit(X_train, y_train)\n",
        "\n",
        "# Get predicted probabilities for the positive class\n",
        "y_probs = gb_clf.predict_proba(X_test)[:, 1]\n",
        "\n",
        "# Compute ROC curve and AUC score\n",
        "fpr, tpr, _ = roc_curve(y_test, y_probs)\n",
        "roc_auc = auc(fpr, tpr)\n",
        "\n",
        "# Plot the ROC curve\n",
        "plt.figure(figsize=(8, 6))\n",
        "plt.plot(fpr, tpr, color='blue', lw=2, label=f'Gradient Boosting (AUC = {roc_auc:.2f})')\n",
        "plt.plot([0, 1], [0, 1], linestyle='--', color='gray', lw=2)  # Random classifier line\n",
        "plt.xlabel(\"False Positive Rate\")\n",
        "plt.ylabel(\"True Positive Rate\")\n",
        "plt.title(\"ROC Curve - Gradient Boosting Classifier\")\n",
        "plt.legend()\n",
        "plt.show()\n",
        "\n"
      ],
      "metadata": {
        "colab": {
          "base_uri": "https://localhost:8080/",
          "height": 824
        },
        "id": "kTutnCXPOW69",
        "outputId": "8db50ff5-36ff-423a-aba6-d4c3e68b59e2"
      },
      "execution_count": 14,
      "outputs": [
        {
          "output_type": "stream",
          "name": "stdout",
          "text": [
            "Requirement already satisfied: scikit-learn in /usr/local/lib/python3.11/dist-packages (1.6.1)\n",
            "Requirement already satisfied: numpy in /usr/local/lib/python3.11/dist-packages (1.26.4)\n",
            "Requirement already satisfied: matplotlib in /usr/local/lib/python3.11/dist-packages (3.10.0)\n",
            "Requirement already satisfied: scipy>=1.6.0 in /usr/local/lib/python3.11/dist-packages (from scikit-learn) (1.14.1)\n",
            "Requirement already satisfied: joblib>=1.2.0 in /usr/local/lib/python3.11/dist-packages (from scikit-learn) (1.4.2)\n",
            "Requirement already satisfied: threadpoolctl>=3.1.0 in /usr/local/lib/python3.11/dist-packages (from scikit-learn) (3.6.0)\n",
            "Requirement already satisfied: contourpy>=1.0.1 in /usr/local/lib/python3.11/dist-packages (from matplotlib) (1.3.1)\n",
            "Requirement already satisfied: cycler>=0.10 in /usr/local/lib/python3.11/dist-packages (from matplotlib) (0.12.1)\n",
            "Requirement already satisfied: fonttools>=4.22.0 in /usr/local/lib/python3.11/dist-packages (from matplotlib) (4.56.0)\n",
            "Requirement already satisfied: kiwisolver>=1.3.1 in /usr/local/lib/python3.11/dist-packages (from matplotlib) (1.4.8)\n",
            "Requirement already satisfied: packaging>=20.0 in /usr/local/lib/python3.11/dist-packages (from matplotlib) (24.2)\n",
            "Requirement already satisfied: pillow>=8 in /usr/local/lib/python3.11/dist-packages (from matplotlib) (11.1.0)\n",
            "Requirement already satisfied: pyparsing>=2.3.1 in /usr/local/lib/python3.11/dist-packages (from matplotlib) (3.2.1)\n",
            "Requirement already satisfied: python-dateutil>=2.7 in /usr/local/lib/python3.11/dist-packages (from matplotlib) (2.8.2)\n",
            "Requirement already satisfied: six>=1.5 in /usr/local/lib/python3.11/dist-packages (from python-dateutil>=2.7->matplotlib) (1.17.0)\n"
          ]
        },
        {
          "output_type": "display_data",
          "data": {
            "text/plain": [
              "<Figure size 800x600 with 1 Axes>"
            ],
            "image/png": "[encoded data removed]"
          },
          "metadata": {}
        }
      ]
    },
    {
      "cell_type": "code",
      "source": [
        "#27.Train an XGBoost Regressor and tune the learning rate using GridSearchCV.\n",
        "\n",
        "!pip install xgboost scikit-learn numpy\n",
        "\n",
        "import numpy as np\n",
        "from xgboost import XGBRegressor\n",
        "from sklearn.datasets import make_regression\n",
        "from sklearn.model_selection import train_test_split, GridSearchCV\n",
        "from sklearn.metrics import mean_squared_error\n",
        "\n",
        "# Generate a synthetic regression dataset\n",
        "X, y = make_regression(n_samples=1000, n_features=20, noise=0.1, random_state=42)\n",
        "\n",
        "# Split the dataset into training and testing sets\n",
        "X_train, X_test, y_train, y_test = train_test_split(X, y, test_size=0.2, random_state=42)\n",
        "\n",
        "# Define hyperparameter grid for learning rate tuning\n",
        "param_grid = {'learning_rate': [0.01, 0.05, 0.1, 0.2, 0.3]}\n",
        "\n",
        "# Perform GridSearchCV to find the best learning rate\n",
        "grid_search = GridSearchCV(XGBRegressor(n_estimators=100), param_grid, cv=5, scoring='neg_mean_squared_error', verbose=1)\n",
        "grid_search.fit(X_train, y_train)\n",
        "\n",
        "# Get the best learning rate\n",
        "best_lr = grid_search.best_params_['learning_rate']\n",
        "print(\"Best Learning Rate:\", best_lr)\n",
        "\n",
        "# Train XGBoost Regressor with the best learning rate\n",
        "xgb_reg = XGBRegressor(n_estimators=100, learning_rate=best_lr)\n",
        "xgb_reg.fit(X_train, y_train)\n",
        "\n",
        "# Evaluate the model on test data\n",
        "y_pred = xgb_reg.predict(X_test)\n",
        "mse = mean_squared_error(y_test, y_pred)\n",
        "print(f\"XGBoost Regressor MSE with learning rate {best_lr}: {mse:.4f}\")\n"
      ],
      "metadata": {
        "colab": {
          "base_uri": "https://localhost:8080/"
        },
        "id": "OZtCo5RyOZEu",
        "outputId": "415e9614-9a6f-4fb2-ed2c-0c0319d97fde"
      },
      "execution_count": 15,
      "outputs": [
        {
          "output_type": "stream",
          "name": "stdout",
          "text": [
            "Requirement already satisfied: xgboost in /usr/local/lib/python3.11/dist-packages (2.1.4)\n",
            "Requirement already satisfied: scikit-learn in /usr/local/lib/python3.11/dist-packages (1.6.1)\n",
            "Requirement already satisfied: numpy in /usr/local/lib/python3.11/dist-packages (1.26.4)\n",
            "Requirement already satisfied: nvidia-nccl-cu12 in /usr/local/lib/python3.11/dist-packages (from xgboost) (2.21.5)\n",
            "Requirement already satisfied: scipy in /usr/local/lib/python3.11/dist-packages (from xgboost) (1.14.1)\n",
            "Requirement already satisfied: joblib>=1.2.0 in /usr/local/lib/python3.11/dist-packages (from scikit-learn) (1.4.2)\n",
            "Requirement already satisfied: threadpoolctl>=3.1.0 in /usr/local/lib/python3.11/dist-packages (from scikit-learn) (3.6.0)\n",
            "Fitting 5 folds for each of 5 candidates, totalling 25 fits\n",
            "Best Learning Rate: 0.1\n",
            "XGBoost Regressor MSE with learning rate 0.1: 4845.6934\n"
          ]
        }
      ]
    },
    {
      "cell_type": "code",
      "source": [
        "#28.Train a CatBoost Classifier on an imbalanced dataset and compare performance with class weighting.\n",
        "\n",
        "\n",
        "\n",
        "import numpy as np\n",
        "from catboost import CatBoostClassifier\n",
        "from sklearn.datasets import make_classification\n",
        "from sklearn.model_selection import train_test_split\n",
        "from sklearn.metrics import f1_score\n",
        "from collections import Counter\n",
        "\n",
        "# Generate an imbalanced dataset\n",
        "X, y = make_classification(n_samples=1000, weights=[0.9, 0.1], n_classes=2, random_state=42)\n",
        "\n",
        "# Split the dataset into training and testing sets\n",
        "X_train, X_test, y_train, y_test = train_test_split(X, y, test_size=0.2, random_state=42)\n",
        "\n",
        "# Check the class distribution\n",
        "print(\"Class distribution in training set:\", Counter(y_train))\n",
        "\n",
        "# Train a CatBoost Classifier without class weighting\n",
        "cat_clf = CatBoostClassifier(iterations=100, verbose=0)\n",
        "cat_clf.fit(X_train, y_train)\n",
        "y_pred = cat_clf.predict(X_test)\n",
        "print(\"F1-Score without class weighting:\", f1_score(y_test, y_pred))\n",
        "\n",
        "# Define class weights\n",
        "class_weights = {0: 1, 1: 10}\n",
        "\n",
        "# Train a CatBoost Classifier with class weighting\n",
        "cat_clf_weighted = CatBoostClassifier(iterations=100, class_weights=class_weights, verbose=0)\n",
        "cat_clf_weighted.fit(X_train, y_train)\n",
        "y_pred_weighted = cat_clf_weighted.predict(X_test)\n",
        "print(\"F1-Score with class weighting:\", f1_score(y_test, y_pred_weighted))\n"
      ],
      "metadata": {
        "colab": {
          "base_uri": "https://localhost:8080/"
        },
        "id": "hMe_E58wOayw",
        "outputId": "dd8a5431-c0e2-4fdf-a45d-1f573164ada9"
      },
      "execution_count": 4,
      "outputs": [
        {
          "output_type": "stream",
          "name": "stdout",
          "text": [
            "Class distribution in training set: Counter({0: 717, 1: 83})\n",
            "F1-Score without class weighting: 0.7096774193548387\n",
            "F1-Score with class weighting: 0.6153846153846154\n"
          ]
        }
      ]
    },
    {
      "cell_type": "code",
      "source": [
        "#29.Train an AdaBoost Classifier and analyze the effect of different learning rates.\n",
        "\n",
        "!pip install scikit-learn numpy\n",
        "\n",
        "import numpy as np\n",
        "from sklearn.ensemble import AdaBoostClassifier\n",
        "from sklearn.datasets import make_classification\n",
        "from sklearn.model_selection import train_test_split\n",
        "from sklearn.metrics import accuracy_score\n",
        "\n",
        "# Generate a synthetic dataset\n",
        "X, y = make_classification(n_samples=1000, n_features=20, random_state=42)\n",
        "\n",
        "# Split the dataset into training and testing sets\n",
        "X_train, X_test, y_train, y_test = train_test_split(X, y, test_size=0.2, random_state=42)\n",
        "\n",
        "# Different learning rates to test\n",
        "learning_rates = [0.01, 0.1, 0.5, 1.0, 1.5]\n",
        "\n",
        "# Train AdaBoost classifiers with different learning rates and evaluate accuracy\n",
        "for lr in learning_rates:\n",
        "    adaboost = AdaBoostClassifier(n_estimators=100, learning_rate=lr, random_state=42)\n",
        "    adaboost.fit(X_train, y_train)\n",
        "    y_pred = adaboost.predict(X_test)\n",
        "    acc = accuracy_score(y_test, y_pred)\n",
        "\n",
        "    print(f\"AdaBoost Accuracy with learning rate {lr}: {acc:.4f}\")\n"
      ],
      "metadata": {
        "colab": {
          "base_uri": "https://localhost:8080/"
        },
        "id": "WcK2CzOcOdHe",
        "outputId": "0137b36d-d92d-4135-9e15-24f0d29b2a76"
      },
      "execution_count": 17,
      "outputs": [
        {
          "output_type": "stream",
          "name": "stdout",
          "text": [
            "Requirement already satisfied: scikit-learn in /usr/local/lib/python3.11/dist-packages (1.6.1)\n",
            "Requirement already satisfied: numpy in /usr/local/lib/python3.11/dist-packages (1.26.4)\n",
            "Requirement already satisfied: scipy>=1.6.0 in /usr/local/lib/python3.11/dist-packages (from scikit-learn) (1.14.1)\n",
            "Requirement already satisfied: joblib>=1.2.0 in /usr/local/lib/python3.11/dist-packages (from scikit-learn) (1.4.2)\n",
            "Requirement already satisfied: threadpoolctl>=3.1.0 in /usr/local/lib/python3.11/dist-packages (from scikit-learn) (3.6.0)\n",
            "AdaBoost Accuracy with learning rate 0.01: 0.8600\n",
            "AdaBoost Accuracy with learning rate 0.1: 0.8600\n",
            "AdaBoost Accuracy with learning rate 0.5: 0.8700\n",
            "AdaBoost Accuracy with learning rate 1.0: 0.8650\n",
            "AdaBoost Accuracy with learning rate 1.5: 0.8900\n"
          ]
        }
      ]
    },
    {
      "cell_type": "code",
      "source": [
        "#30.Train an XGBoost Classifier for multi-class classification and evaluate using log-loss.\n",
        "\n",
        "!pip install xgboost scikit-learn numpy\n",
        "\n",
        "import numpy as np\n",
        "from xgboost import XGBClassifier\n",
        "from sklearn.datasets import make_classification\n",
        "from sklearn.model_selection import train_test_split\n",
        "from sklearn.metrics import log_loss\n",
        "\n",
        "# Generate a synthetic multi-class dataset\n",
        "X, y = make_classification(n_samples=1000, n_features=20, n_classes=3, n_informative=4, random_state=42)\n",
        "\n",
        "# Split the dataset into training and testing sets\n",
        "X_train, X_test, y_train, y_test = train_test_split(X, y, test_size=0.2, random_state=42)\n",
        "\n",
        "# Train an XGBoost Classifier for multi-class classification\n",
        "xgb_multi = XGBClassifier(n_estimators=100, use_label_encoder=False, eval_metric='mlogloss')\n",
        "xgb_multi.fit(X_train, y_train)\n",
        "\n",
        "# Get predicted probabilities for log-loss calculation\n",
        "y_pred_probs = xgb_multi.predict_proba(X_test)\n",
        "\n",
        "# Evaluate using log-loss\n",
        "print(\"Multi-Class Log Loss:\", log_loss(y_test, y_pred_probs))\n"
      ],
      "metadata": {
        "colab": {
          "base_uri": "https://localhost:8080/"
        },
        "id": "l00JwgmtOe2m",
        "outputId": "0f4483a0-bf6b-40ec-d1dc-0496c5bb48c3"
      },
      "execution_count": 18,
      "outputs": [
        {
          "output_type": "stream",
          "name": "stdout",
          "text": [
            "Requirement already satisfied: xgboost in /usr/local/lib/python3.11/dist-packages (2.1.4)\n",
            "Requirement already satisfied: scikit-learn in /usr/local/lib/python3.11/dist-packages (1.6.1)\n",
            "Requirement already satisfied: numpy in /usr/local/lib/python3.11/dist-packages (1.26.4)\n",
            "Requirement already satisfied: nvidia-nccl-cu12 in /usr/local/lib/python3.11/dist-packages (from xgboost) (2.21.5)\n",
            "Requirement already satisfied: scipy in /usr/local/lib/python3.11/dist-packages (from xgboost) (1.14.1)\n",
            "Requirement already satisfied: joblib>=1.2.0 in /usr/local/lib/python3.11/dist-packages (from scikit-learn) (1.4.2)\n",
            "Requirement already satisfied: threadpoolctl>=3.1.0 in /usr/local/lib/python3.11/dist-packages (from scikit-learn) (3.6.0)\n"
          ]
        },
        {
          "output_type": "stream",
          "name": "stderr",
          "text": [
            "/usr/local/lib/python3.11/dist-packages/xgboost/core.py:158: UserWarning: [17:50:30] WARNING: /workspace/src/learner.cc:740: \n",
            "Parameters: { \"use_label_encoder\" } are not used.\n",
            "\n",
            "  warnings.warn(smsg, UserWarning)\n"
          ]
        },
        {
          "output_type": "stream",
          "name": "stdout",
          "text": [
            "Multi-Class Log Loss: 0.6826703806971426\n"
          ]
        }
      ]
    }
  ]
}