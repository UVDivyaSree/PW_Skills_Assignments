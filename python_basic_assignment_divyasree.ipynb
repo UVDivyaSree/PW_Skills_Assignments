{
  "nbformat": 4,
  "nbformat_minor": 0,
  "metadata": {
    "colab": {
      "provenance": []
    },
    "kernelspec": {
      "name": "python3",
      "display_name": "Python 3"
    },
    "language_info": {
      "name": "python"
    }
  },
  "cells": [
    {
      "cell_type": "markdown",
      "source": [
        "#1.Explain the key features of python that make it a popular choice of programming.\n",
        "Python is a popular programming language known for its simplicity, readability, and versatility. Here are some key features of Python that make it a popular choice among developers:\n",
        "\n",
        "**Key Features of Python:**\n",
        "\n",
        "1.**Easy to Learn and Read:** Python has a simple and clean syntax that makes it easy to learn, understand, and write code. Its readability resembles the English language, which reduces the cost of program maintenance.\n",
        "\n",
        "**2.Extensive Standard Library:** Python comes with a large standard library that provides support for various tasks like file I/O, networking, database management, data processing, and more. This helps developers write code faster without having to build everything from scratch.\n",
        "\n",
        "**3.Versatile and Flexible:**Python can be used for various programming tasks, including web development, data science, artificial intelligence, scientific computing, automation, and more. Its versatility makes it a valuable tool for a wide range of applications.\n",
        "\n",
        "**4.Large Community Support:** Python has a vast community of developers who contribute to its growth and development. This community support means there are plenty of resources, libraries, and frameworks available to help developers solve problems and build applications efficiently.\n",
        "\n",
        "**5.Open Source:** Python is open source software, which means it is free to use and distribute. This has contributed to its widespread adoption and popularity among developers and organizations.\n",
        "\n",
        "**6.Object-Oriented Programming (OOP):** Python supports OOP principles, allowing developers to write reusable and maintainable code through the use of classes and objects. This makes it easier to organize and structure code for complex projects.\n",
        "\n",
        "**7.Dynamic Typing and Memory Management:** Python is dynamically typed, meaning variables don't need to be declared with a data type. It also has automatic memory management through garbage collection, which simplifies memory allocation and deallocation for developers.\n",
        "\n",
        "**8.Platform Independent:** Python is a cross-platform language, meaning it can run on different operating systems like Windows, macOS, and Linux without any modifications. This portability makes it a go-to choice for building applications that need to run on multiple platforms.\n",
        "\n",
        "These features, among others, have contributed to Python's popularity and made it a versatile and powerful programming language for a wide range of applications."
      ],
      "metadata": {
        "id": "Ogxnh-DHeLwz"
      }
    },
    {
      "cell_type": "markdown",
      "source": [
        "#2.Describe the role of predefined keywords in python and provide examples of how they are used in a program.\n",
        "In Python, **predefined keywords** are reserved words that have special meanings and are built-in to the language. These keywords are **used to define the syntax and structure of Python code and cannot be used as identifiers** for variables, functions, or classes. Here is a list of the predefined keywords in Python:"
      ],
      "metadata": {
        "id": "tsGp9g_ZgT0Q"
      }
    },
    {
      "cell_type": "code",
      "source": [
        "help(\"keywords\")"
      ],
      "metadata": {
        "colab": {
          "base_uri": "https://localhost:8080/"
        },
        "id": "gVJpVmpoiS4e",
        "outputId": "4f61f760-97f9-44d2-b8a3-b10b279499d0"
      },
      "execution_count": 1,
      "outputs": [
        {
          "output_type": "stream",
          "name": "stdout",
          "text": [
            "\n",
            "Here is a list of the Python keywords.  Enter any keyword to get more help.\n",
            "\n",
            "False               class               from                or\n",
            "None                continue            global              pass\n",
            "True                def                 if                  raise\n",
            "and                 del                 import              return\n",
            "as                  elif                in                  try\n",
            "assert              else                is                  while\n",
            "async               except              lambda              with\n",
            "await               finally             nonlocal            yield\n",
            "break               for                 not                 \n",
            "\n"
          ]
        }
      ]
    },
    {
      "cell_type": "code",
      "source": [
        "help(\"yield\")\n"
      ],
      "metadata": {
        "colab": {
          "base_uri": "https://localhost:8080/"
        },
        "id": "OVOOqNu9icSc",
        "outputId": "b89b7180-7d59-415d-c232-390416baaaf1"
      },
      "execution_count": 7,
      "outputs": [
        {
          "output_type": "stream",
          "name": "stdout",
          "text": [
            "The \"yield\" statement\n",
            "*********************\n",
            "\n",
            "   yield_stmt ::= yield_expression\n",
            "\n",
            "A \"yield\" statement is semantically equivalent to a yield expression.\n",
            "The yield statement can be used to omit the parentheses that would\n",
            "otherwise be required in the equivalent yield expression statement.\n",
            "For example, the yield statements\n",
            "\n",
            "   yield <expr>\n",
            "   yield from <expr>\n",
            "\n",
            "are equivalent to the yield expression statements\n",
            "\n",
            "   (yield <expr>)\n",
            "   (yield from <expr>)\n",
            "\n",
            "Yield expressions and statements are only used when defining a\n",
            "*generator* function, and are only used in the body of the generator\n",
            "function.  Using yield in a function definition is sufficient to cause\n",
            "that definition to create a generator function instead of a normal\n",
            "function.\n",
            "\n",
            "For full details of \"yield\" semantics, refer to the Yield expressions\n",
            "section.\n",
            "\n"
          ]
        }
      ]
    },
    {
      "cell_type": "markdown",
      "source": [
        "To get the documentation about the predefined words in python we use help()"
      ],
      "metadata": {
        "id": "fSPsPMztjRaz"
      }
    },
    {
      "cell_type": "markdown",
      "source": [
        "**Key Roles of Predefined Keywords:**\n",
        "\n",
        "**1.Control Flow:** Keywords like if, else, elif, for, while, and break are used to control the flow of the program based on conditions and loops.\n",
        "\n",
        "**2.Data Types and Values:** Keywords such as True, False, None, and, or, and not represent data types or logical operators used for performing logical operations.\n",
        "\n",
        "**3.Function and Class Definition:** Keywords like def and class are used to define functions and classes, which are building blocks of Python programs.\n",
        "\n",
        "**4.Error Handling:** Keywords such as try, except, finally, raise, and assert are used for handling exceptions and errors gracefully.\n",
        "\n",
        "**5.Variable Scope and Namespace Management:** Keywords like global, nonlocal, del, and yield help manage the scope of variables and namespaces.\n",
        "\n",
        "Here are some examples demonstrating the use of Python keywords in a program:\n",
        "\n",
        "**Example 1:** Control Flow using if, elif, and else\n",
        "\n"
      ],
      "metadata": {
        "id": "Mn-z2REEjkZM"
      }
    },
    {
      "cell_type": "code",
      "source": [
        "x=10\n",
        "if x > 0:\n",
        "    print(\"x is positive\")\n",
        "elif x == 0:\n",
        "    print(\"x is zero\")\n",
        "else:\n",
        "    print(\"x is negative\")\n"
      ],
      "metadata": {
        "colab": {
          "base_uri": "https://localhost:8080/"
        },
        "id": "esl2QMy0kvb2",
        "outputId": "45a9c71f-f11c-4559-cdd5-2717678ac3f6"
      },
      "execution_count": 11,
      "outputs": [
        {
          "output_type": "stream",
          "name": "stdout",
          "text": [
            "x is positive\n"
          ]
        }
      ]
    },
    {
      "cell_type": "markdown",
      "source": [
        "**Example 2:** Looping with for and Using break"
      ],
      "metadata": {
        "id": "iq_x6s95lo2y"
      }
    },
    {
      "cell_type": "code",
      "source": [
        "for i in range(10, 15):\n",
        "    if i == 13:\n",
        "        break  # Exit the loop when i is 13\n",
        "    print(i)"
      ],
      "metadata": {
        "colab": {
          "base_uri": "https://localhost:8080/"
        },
        "id": "11EKpyOPlyjh",
        "outputId": "097b2f57-fd78-4399-e03d-0790c52ac0b7"
      },
      "execution_count": 12,
      "outputs": [
        {
          "output_type": "stream",
          "name": "stdout",
          "text": [
            "10\n",
            "11\n",
            "12\n"
          ]
        }
      ]
    },
    {
      "cell_type": "markdown",
      "source": [
        "**Example 3:** Handling Exceptions with try and except"
      ],
      "metadata": {
        "id": "PCctg22gmiVU"
      }
    },
    {
      "cell_type": "code",
      "source": [
        "try:\n",
        "    x = 10\n",
        "    y = 0\n",
        "    result = x / y\n",
        "    print(\"Division result:\", result)\n",
        "except ZeroDivisionError:\n",
        "    print(\"Error: Cannot divide by zero!\")"
      ],
      "metadata": {
        "colab": {
          "base_uri": "https://localhost:8080/"
        },
        "id": "ILMUwVMFmr5a",
        "outputId": "07b0b3c2-bb60-4ae2-9d1c-ea642da6c51e"
      },
      "execution_count": 15,
      "outputs": [
        {
          "output_type": "stream",
          "name": "stdout",
          "text": [
            "Error: Cannot divide by zero!\n"
          ]
        }
      ]
    },
    {
      "cell_type": "markdown",
      "source": [
        "#3.Compare and Contrast mutable and immutable objects in python with examples.\n",
        "In Python, objects are classified as either mutable or immutable based on whether their state (i.e., their data/content) can be changed after they are created\n",
        "\n",
        "**Mutable objects:**\n",
        "\n",
        "*Objects whose state **can be changed** after creation are considered mutable.\n",
        "\n",
        "*Examples of mutable objects in Python include lists, dictionaries, and sets.\n",
        "\n",
        "*When you modify a mutable object, you are actually changing the object itself, not creating a new object.\n",
        "\n",
        "*Which supports item assignment(refers to the process of assigning a new value to an individual element within a mutable data structure)\n",
        "\n",
        "Example of a mutable object (list):\n"
      ],
      "metadata": {
        "id": "efcJ21SWnIzP"
      }
    },
    {
      "cell_type": "code",
      "source": [
        "list_cont=[1, 2, 3, 4]\n",
        "list_cont[0]"
      ],
      "metadata": {
        "colab": {
          "base_uri": "https://localhost:8080/"
        },
        "id": "RxQhArIUpQ-G",
        "outputId": "0b6636ac-1446-4cf3-8ea8-6f507655e718"
      },
      "execution_count": 17,
      "outputs": [
        {
          "output_type": "execute_result",
          "data": {
            "text/plain": [
              "list"
            ]
          },
          "metadata": {},
          "execution_count": 17
        }
      ]
    },
    {
      "cell_type": "code",
      "source": [
        "type(list_cont)"
      ],
      "metadata": {
        "colab": {
          "base_uri": "https://localhost:8080/"
        },
        "id": "aZZWUpqEp0P-",
        "outputId": "325b7a11-7f86-439c-d924-3b76405e7489"
      },
      "execution_count": 18,
      "outputs": [
        {
          "output_type": "execute_result",
          "data": {
            "text/plain": [
              "list"
            ]
          },
          "metadata": {},
          "execution_count": 18
        }
      ]
    },
    {
      "cell_type": "code",
      "source": [
        "list_cont[3]=5.25\n",
        "list_cont"
      ],
      "metadata": {
        "colab": {
          "base_uri": "https://localhost:8080/"
        },
        "id": "cJ0KdEp9p1eD",
        "outputId": "1f25639f-db47-4e00-a0e1-c3acbe1405fb"
      },
      "execution_count": 19,
      "outputs": [
        {
          "output_type": "execute_result",
          "data": {
            "text/plain": [
              "[1, 2, 3, 5.25]"
            ]
          },
          "metadata": {},
          "execution_count": 19
        }
      ]
    },
    {
      "cell_type": "code",
      "source": [
        "\n",
        "# Dictionary is a mutable object\n",
        "person = {'name': 'Alice', 'age': 25}\n",
        "print(f\"Original dictionary: {person}\")\n",
        "\n",
        "# Modifying the dictionary (mutates the object)\n",
        "person['age'] = 26\n",
        "print(f\"Modified dictionary: {person}\")  # The original dictionary is changed"
      ],
      "metadata": {
        "colab": {
          "base_uri": "https://localhost:8080/"
        },
        "id": "4DSy8gLQsn73",
        "outputId": "1f65a6e5-30fc-4896-ef8f-b502e9fcde8c"
      },
      "execution_count": 22,
      "outputs": [
        {
          "output_type": "stream",
          "name": "stdout",
          "text": [
            "Original dictionary: {'name': 'Alice', 'age': 25}\n",
            "Modified dictionary: {'name': 'Alice', 'age': 26}\n"
          ]
        }
      ]
    },
    {
      "cell_type": "markdown",
      "source": [
        "**Immutable objects:**\n",
        "\n",
        "*Objects whose state **cannot be changed** after creation are considered immutable.\n",
        "\n",
        "*Examples of immutable objects in Python include integers, floats, strings, and tuples.\n",
        "\n",
        "*When you \"modify\" an immutable object, you are typically creating a new object with the modified value, as the original object cannot be changed.\n",
        "\n",
        "*It does not support Item assignment\n",
        "\n",
        "Example of an immutable object (string):"
      ],
      "metadata": {
        "id": "_Dt14zF4rMVM"
      }
    },
    {
      "cell_type": "code",
      "source": [
        "b=\"pwskills\"\n",
        "b[0]"
      ],
      "metadata": {
        "colab": {
          "base_uri": "https://localhost:8080/",
          "height": 35
        },
        "id": "YGXPLvcaqDZE",
        "outputId": "0ea7fa6a-2a6e-49a6-dc46-f5a728d8f1e0"
      },
      "execution_count": 20,
      "outputs": [
        {
          "output_type": "execute_result",
          "data": {
            "text/plain": [
              "'p'"
            ],
            "application/vnd.google.colaboratory.intrinsic+json": {
              "type": "string"
            }
          },
          "metadata": {},
          "execution_count": 20
        }
      ]
    },
    {
      "cell_type": "code",
      "source": [
        "b[1]=i  #as it is a string it does not support item assignment which is an immutable object"
      ],
      "metadata": {
        "colab": {
          "base_uri": "https://localhost:8080/",
          "height": 141
        },
        "id": "gMesTpe2qTeQ",
        "outputId": "fef1afdb-cc03-406f-9f8c-ac46ab7d7b06"
      },
      "execution_count": 21,
      "outputs": [
        {
          "output_type": "error",
          "ename": "TypeError",
          "evalue": "'str' object does not support item assignment",
          "traceback": [
            "\u001b[0;31m---------------------------------------------------------------------------\u001b[0m",
            "\u001b[0;31mTypeError\u001b[0m                                 Traceback (most recent call last)",
            "\u001b[0;32m<ipython-input-21-0233f9bcfe28>\u001b[0m in \u001b[0;36m<cell line: 1>\u001b[0;34m()\u001b[0m\n\u001b[0;32m----> 1\u001b[0;31m \u001b[0mb\u001b[0m\u001b[0;34m[\u001b[0m\u001b[0;36m1\u001b[0m\u001b[0;34m]\u001b[0m\u001b[0;34m=\u001b[0m\u001b[0mi\u001b[0m\u001b[0;34m\u001b[0m\u001b[0;34m\u001b[0m\u001b[0m\n\u001b[0m",
            "\u001b[0;31mTypeError\u001b[0m: 'str' object does not support item assignment"
          ]
        }
      ]
    },
    {
      "cell_type": "code",
      "source": [
        "# Tuple is an immutable object\n",
        "coordinates = (10, 20)\n",
        "print(f\"Original tuple: {coordinates}\")\n",
        "\n",
        "# Trying to modify the tuple (raises an error)\n",
        "# coordinates[0] = 15  # Uncommenting this line will raise a TypeError\n",
        "\n",
        "# Creating a new tuple instead\n",
        "new_coordinates = (15, 20)\n",
        "print(f\"New tuple: {new_coordinates}\")  # A new tuple is created"
      ],
      "metadata": {
        "id": "fx3EDgzWs7GG"
      },
      "execution_count": null,
      "outputs": []
    },
    {
      "cell_type": "markdown",
      "source": [
        "#4.Discusss the different types of operators in python and provide examples of how they are used.\n",
        "\n",
        "**Operators in Python**:\n",
        "\n",
        "Operators in Python are special symbols that perform computations or operations on variables and values. Python supports several types of operators, each serving different purposes such as arithmetic, comparison, logical operations, and more.\n",
        "\n",
        "**1.Arithmetic Operators**\n",
        "\n",
        "**Arithmetic operators are used to perform basic mathematical operations.\n",
        "\n",
        "Addition -> x + y (adds x and y)\n",
        "\n",
        "Subtraction -> x - y (subtracts y from x)\n",
        "\n",
        "Multiplication -> x * y (multiplies x and y)\n",
        "\n",
        "Division -> x / y (divides x by y)\n",
        "\n",
        "Floor Division - x // y (divides x by y and rounds down)\n",
        "\n",
        "Modulus -> x % y (remainder of x divided by y)\n",
        "\n",
        "Exponentiation -> x ** y (raises x to the power of y)"
      ],
      "metadata": {
        "id": "COxGPz8etGic"
      }
    },
    {
      "cell_type": "code",
      "source": [
        "# Addition\n",
        "result_addition = 10 + 5\n",
        "print(\"Addition result:\", result_addition)\n",
        "\n",
        "# Subtraction\n",
        "result_subtraction = 10 - 5\n",
        "print(\"Subtraction result:\", result_subtraction)\n",
        "\n",
        "# Multiplication\n",
        "result_multiplication = 10 * 5\n",
        "print(\"Multiplication result:\", result_multiplication)\n",
        "\n",
        "# Division\n",
        "result_division = 10 / 5\n",
        "print(\"Division result:\", result_division)\n",
        "\n",
        "# Floor Division\n",
        "result_floor_division = 10 // 3\n",
        "print(\"Floor Division result:\", result_floor_division)\n",
        "\n",
        "# Modulus (Remainder)\n",
        "result_modulus = 10 % 3\n",
        "print(\"Modulus result:\", result_modulus)\n",
        "\n",
        "# Exponentiation\n",
        "result_exponentiation = 2 ** 3\n",
        "print(\"Exponentiation result:\", result_exponentiation)\n"
      ],
      "metadata": {
        "colab": {
          "base_uri": "https://localhost:8080/"
        },
        "id": "pB7MQe11tnOV",
        "outputId": "8e2e8be0-faaa-414d-9d6a-563aae6b5f8f"
      },
      "execution_count": 24,
      "outputs": [
        {
          "output_type": "stream",
          "name": "stdout",
          "text": [
            "Addition result: 15\n",
            "Subtraction result: 5\n",
            "Multiplication result: 50\n",
            "Division result: 2.0\n",
            "Floor Division result: 3\n",
            "Modulus result: 1\n",
            "Exponentiation result: 8\n"
          ]
        }
      ]
    },
    {
      "cell_type": "markdown",
      "source": [
        "**2. Comparison Operators**\n",
        "\n",
        "**Comparison operators are used to compare two values. They return a Boolean value (True or False).\n",
        "\n",
        "equal to -> x == y (True if x equals y)\n",
        "\n",
        "Not equal to -> x != y (True if x is not equal to y)\n",
        "\n",
        "Greater than -> x > y (True if x is greater than y)\n",
        "\n",
        "Less than -> x < y (True if x is less than y)\n",
        "\n",
        "Greater than or equal to -> x >= y (True if x is greater than or equal to y)\n",
        "\n",
        "Less than or equal to -> x <= y (True if x is less than or equal to y)"
      ],
      "metadata": {
        "id": "OjXpRPgYuRen"
      }
    },
    {
      "cell_type": "code",
      "source": [
        "# Equal to\n",
        "print(5 == 5)\n",
        "\n",
        "# Not equal to\n",
        "print(3 != 3)\n",
        "\n",
        "# Greater than\n",
        "print(5 > 3)\n",
        "\n",
        "# Less than\n",
        "print(3 < 5)\n",
        "\n",
        "# Greater than or equal to\n",
        "print(5 >= 5)\n",
        "\n",
        "# Less than or equal to\n",
        "print(13 <= 5)"
      ],
      "metadata": {
        "colab": {
          "base_uri": "https://localhost:8080/"
        },
        "id": "tHa6aJzauhDt",
        "outputId": "8f3877cb-af30-43aa-abc0-c4ad7503cb55"
      },
      "execution_count": 29,
      "outputs": [
        {
          "output_type": "stream",
          "name": "stdout",
          "text": [
            "True\n",
            "False\n",
            "True\n",
            "True\n",
            "True\n",
            "False\n"
          ]
        }
      ]
    },
    {
      "cell_type": "markdown",
      "source": [
        "**3.Logical Operators**\n",
        "\n",
        "**Logical operators are used to combine conditional statements. They return True or False based on the evaluation.\n",
        "\n",
        "Logical AND -> x and y (True if both x and y are True)\n",
        "\n",
        "Logical OR -> x or y (True if either x or y is True)\n",
        "\n",
        "Logical NOT -> not x (True if x is False)"
      ],
      "metadata": {
        "id": "Rl3Jshh9xSC_"
      }
    },
    {
      "cell_type": "code",
      "source": [
        "a = True\n",
        "b = False\n",
        "\n",
        "print(a and b)  # Logical AND\n",
        "print(a or b)   # Logical OR\n",
        "print(not a)    # Logical NOT"
      ],
      "metadata": {
        "colab": {
          "base_uri": "https://localhost:8080/"
        },
        "id": "Lf3lrTrVxi_T",
        "outputId": "f842ba2f-9969-494c-8202-7c9bf0d03de4"
      },
      "execution_count": 34,
      "outputs": [
        {
          "output_type": "stream",
          "name": "stdout",
          "text": [
            "False\n",
            "True\n",
            "False\n"
          ]
        }
      ]
    },
    {
      "cell_type": "markdown",
      "source": [
        "**4.Assignment Operators**\n",
        "\n",
        "**Assignment operators are used to assign values to variables.\n",
        "\n",
        "Assignment -> x = 5 (assigns value 5 to x)\n",
        "\n",
        "Add and assign -> x += 3 (adds 3 to x and assigns result to x)\n",
        "\n",
        "Subtract and assign -> x -= 2 (subtracts 2 from x and assigns result to x)\n",
        "\n",
        "Multiply and assign -> x *= 4 (multiplies x by 4 and assigns result to x)\n",
        "\n",
        "Divide and assign -> x /= 2 (divides x by 2 and assigns\n",
        "result to x)\n",
        "\n",
        "Floor divide and assign -> x //= 2 (floor divides x by 2 and assigns result to x)\n",
        "\n",
        "Modulus and assign -> x %= 2 (modulus of x by 2 and assigns\n",
        "result to x)\n",
        "\n",
        "Exponentiate and assign -> x **= 3 (raises x to the power of\n",
        "3 and assigns result to x)\n",
        "\n"
      ],
      "metadata": {
        "id": "KoeP5qT9vP8P"
      }
    },
    {
      "cell_type": "code",
      "source": [
        "x = 5\n",
        "x += 3  # x = x + 3\n",
        "print(x)\n",
        "\n",
        "y = 10\n",
        "y *= 2  # y = y * 2\n",
        "print(y)\n",
        "\n",
        "#Exponentiate assignment\n",
        "z = 4\n",
        "z **= 7 #z = z ** 7\n",
        "print(z)\n",
        "\n",
        "# Floor Division Assignment\n",
        "x //= 2  # Equivalent to x = x // 2\n",
        "print(\"Floor Division Assignment - x:\", x)\n",
        "\n",
        "# Modulus Assignment\n",
        "x %= 3  # Equivalent to x = x % 3\n",
        "print(\"Modulus Assignment - x:\", x)\n",
        "\n",
        "\n"
      ],
      "metadata": {
        "colab": {
          "base_uri": "https://localhost:8080/"
        },
        "id": "vkAr6QQrwCW6",
        "outputId": "b70ec37b-06fe-4022-d989-139326eb27e5"
      },
      "execution_count": 33,
      "outputs": [
        {
          "output_type": "stream",
          "name": "stdout",
          "text": [
            "8\n",
            "20\n",
            "16384\n",
            "Floor Division Assignment - x: 4\n",
            "Modulus Assignment - x: 1\n"
          ]
        }
      ]
    },
    {
      "cell_type": "markdown",
      "source": [
        "**5.Bitwise Operators**\n",
        "\n",
        "Bitwise operators are used to perform bit-level operations on binary numbers.\n",
        "\n",
        "Bitwise AND -> x & y (bits that are 1 in both x and y)\n",
        "\n",
        "Bitwise XOR -> x ^ y (bits that are 1 in x or y but not both)\n",
        "\n",
        "Bitwise NOT ~x (inverts all bits of x)\n",
        "\n",
        "Bitwise Left Shift x << 2 (shifts bits of x left by 2 positions)\n",
        "\n",
        "Bitwise Right Shift x >> 2 (shifts bits of x right by 2 positions)\n",
        "\n",
        "Bitwise OR -> x | y (bits that are 1 in both x and y)"
      ],
      "metadata": {
        "id": "Da_cm7dYxrlq"
      }
    },
    {
      "cell_type": "code",
      "source": [
        "# Bitwise AND\n",
        "result_and = 10 & 6  # Binary representation: 1010 & 0110\n",
        "print(\"Bitwise AND:\", result_and)  # Output: 2\n",
        "\n",
        "# Bitwise OR\n",
        "result_or = 10 | 6  # Binary representation: 1010 | 0110\n",
        "print(\"Bitwise OR:\", result_or)  # Output: 14\n",
        "\n",
        "# Bitwise XOR\n",
        "result_xor = 10 ^ 6  # Binary representation: 1010 ^ 0110\n",
        "print(\"Bitwise XOR:\", result_xor)  # Output: 12\n",
        "\n",
        "# Bitwise NOT\n",
        "result_not = ~10  # Inverting bits of 10\n",
        "print(\"Bitwise NOT:\", result_not)  # Output: -11 (Due to two's complement representation)\n",
        "\n",
        "# Left Shift\n",
        "result_left_shift = 5 << 2  # Shifting binary representation of 5 to the left by 2\n",
        "print(\"Left Shift:\", result_left_shift)  # Output: 20\n",
        "\n",
        "# Right Shift\n",
        "result_right_shift = 5 >> 2  # Shifting binary representation of  5 to the right by 2\n",
        "print(\"Right Shift:\", result_right_shift)  # Output: 1\n"
      ],
      "metadata": {
        "colab": {
          "base_uri": "https://localhost:8080/"
        },
        "id": "dBmwXB43x1Oc",
        "outputId": "7aa8172f-3c07-432c-c07c-ea6241161b4a"
      },
      "execution_count": 38,
      "outputs": [
        {
          "output_type": "stream",
          "name": "stdout",
          "text": [
            "Bitwise AND: 2\n",
            "Bitwise OR: 14\n",
            "Bitwise XOR: 12\n",
            "Bitwise NOT: -11\n",
            "Left Shift: 20\n",
            "Right Shift: 1\n"
          ]
        }
      ]
    },
    {
      "cell_type": "markdown",
      "source": [
        "**6.Identity Operators**\n",
        "\n",
        "**Identity operators are used to compare the memory locations of two objects.\n",
        "\n",
        "is -> Returns True if both variables point to the same object\n",
        "(x is y)\n",
        "\n",
        "is not -> Returns True if both variables point to different objects (x is not y)"
      ],
      "metadata": {
        "id": "1RI7Y9vvyoMt"
      }
    },
    {
      "cell_type": "code",
      "source": [
        "a = [1, 2, 3]\n",
        "b = a\n",
        "c = [1, 2, 3]\n",
        "\n",
        "print(a is b)       # True, because b is the same object as a\n",
        "print(a is c)       # False, because c is a different object with the same content\n",
        "print(a is not c)   # True, because a and c are not the same object"
      ],
      "metadata": {
        "colab": {
          "base_uri": "https://localhost:8080/"
        },
        "id": "CbqmyYpHy6YE",
        "outputId": "a4896cad-f33c-41ee-f28f-81732e0843fd"
      },
      "execution_count": 39,
      "outputs": [
        {
          "output_type": "stream",
          "name": "stdout",
          "text": [
            "True\n",
            "False\n",
            "True\n"
          ]
        }
      ]
    },
    {
      "cell_type": "markdown",
      "source": [
        "**7.Membership Operators**\n",
        "\n",
        "**Membership operators are used to test whether a value is found within a sequence, such as a string, list, tuple, etc.\n",
        "\n",
        "in -> Returns True if a value is found in the sequence (\"a\" in \"apple\")\n",
        "\n",
        "not in -> Returns True if a value is not found in the sequence (\"b\" not in \"apple\")\n"
      ],
      "metadata": {
        "id": "PaWAKjMLyutm"
      }
    },
    {
      "cell_type": "code",
      "source": [
        "fruits = [\"apple\", \"banana\", \"dragonfruit\"]\n",
        "print(\"apple\" in fruits)     # True, because \"apple\" is in the list\n",
        "print(\"mango\" not in fruits) # True, because \"grape\" is not in the list"
      ],
      "metadata": {
        "colab": {
          "base_uri": "https://localhost:8080/"
        },
        "id": "m__uYi-NzB8s",
        "outputId": "e9d0d3c5-1b63-4d50-e592-8fe37c57fc8c"
      },
      "execution_count": 41,
      "outputs": [
        {
          "output_type": "stream",
          "name": "stdout",
          "text": [
            "True\n",
            "True\n"
          ]
        }
      ]
    },
    {
      "cell_type": "markdown",
      "source": [
        "#5.Explain the concept of type casting in Python with examples.\n",
        "\n",
        "Type casting in Python refers to the process of converting a variable from one data type to another. Python supports several built-in functions for type casting, allowing you to convert variables between different data types. Here are some commonly used type casting functions in Python:\n",
        "\n",
        "1.int(): Converts a variable to an integer.\n",
        "\n",
        "2.float(): Converts a variable to a floating-point number.\n",
        "\n",
        "3.str(): Converts a variable to a string.\n",
        "\n",
        "4.bool(): Converts a variable to a Boolean value\n",
        "\n",
        "5.tuple(): Converts a value to a tuple.\n",
        "\n",
        "6.dict(): Converts a value to a dictionary.\n",
        "\n",
        "7.set(): Converts a value to a set..\n",
        "\n",
        "Here are some examples to illustrate type casting in Python:\n",
        "\n",
        "**1.Converting String to Integer (int()):**"
      ],
      "metadata": {
        "id": "IE-ev_ZYzNQM"
      }
    },
    {
      "cell_type": "code",
      "source": [
        "str_num = \"10\"\n",
        "int_num = int(str_num)  # Converts the string \"10\" to an integer 10\n",
        "print(int_num)  # Output: 10"
      ],
      "metadata": {
        "colab": {
          "base_uri": "https://localhost:8080/"
        },
        "id": "vpqExmei2YNc",
        "outputId": "d16916f7-107e-491b-a08b-e7b014b45674"
      },
      "execution_count": 47,
      "outputs": [
        {
          "output_type": "stream",
          "name": "stdout",
          "text": [
            "10\n"
          ]
        }
      ]
    },
    {
      "cell_type": "markdown",
      "source": [
        "**2.Converting Integer to Float (float()):**"
      ],
      "metadata": {
        "id": "0LJbLu-A2b9s"
      }
    },
    {
      "cell_type": "code",
      "source": [
        "int_num = 5\n",
        "float_num = float(int_num)  # Converts the integer 5 to a floating-point number 5.0\n",
        "print(float_num)  # Output: 5.0"
      ],
      "metadata": {
        "colab": {
          "base_uri": "https://localhost:8080/"
        },
        "id": "2gNDqC-c2gRz",
        "outputId": "ecbf7ccb-729d-40dd-e9f4-67a98fafd157"
      },
      "execution_count": 48,
      "outputs": [
        {
          "output_type": "stream",
          "name": "stdout",
          "text": [
            "5.0\n"
          ]
        }
      ]
    },
    {
      "cell_type": "markdown",
      "source": [
        "**3.Converting Float to Integer (int()):**"
      ],
      "metadata": {
        "id": "KU2btv332kjo"
      }
    },
    {
      "cell_type": "code",
      "source": [
        "float_num = 7.9\n",
        "int_num = int(float_num)  # Converts the floating-point number 7.9 to an integer 7 (truncates the decimal part)\n",
        "print(int_num)  # Output: 7"
      ],
      "metadata": {
        "colab": {
          "base_uri": "https://localhost:8080/"
        },
        "id": "CqOA9l5j2otM",
        "outputId": "0ba8bf2f-0820-41a8-d19d-428aca171708"
      },
      "execution_count": 49,
      "outputs": [
        {
          "output_type": "stream",
          "name": "stdout",
          "text": [
            "7\n"
          ]
        }
      ]
    },
    {
      "cell_type": "markdown",
      "source": [
        "**4.Converting Number to String (str()):**"
      ],
      "metadata": {
        "id": "8gYDRjc22tDw"
      }
    },
    {
      "cell_type": "code",
      "source": [
        "num = 100\n",
        "str_num = str(num)  # Converts the integer 100 to a string \"100\"\n",
        "print(str_num)  # Output: \"100\""
      ],
      "metadata": {
        "colab": {
          "base_uri": "https://localhost:8080/"
        },
        "id": "nuucJEnN20Ux",
        "outputId": "3bee7c70-a4a5-4c9c-8784-125f4ab924b0"
      },
      "execution_count": 50,
      "outputs": [
        {
          "output_type": "stream",
          "name": "stdout",
          "text": [
            "100\n"
          ]
        }
      ]
    },
    {
      "cell_type": "markdown",
      "source": [
        "**5.Converting List to Tuple (tuple()):**"
      ],
      "metadata": {
        "id": "sbzFBWMD251V"
      }
    },
    {
      "cell_type": "code",
      "source": [
        "list_data = [1, 2, 3]\n",
        "tuple_data = tuple(list_data)  # Converts the list [1, 2, 3] to a tuple (1, 2, 3)\n",
        "print(tuple_data)  # Output: (1, 2, 3)"
      ],
      "metadata": {
        "colab": {
          "base_uri": "https://localhost:8080/"
        },
        "id": "GEbl2nZ33BkM",
        "outputId": "391f87a4-8f6d-4832-b41c-270b76b5362d"
      },
      "execution_count": 51,
      "outputs": [
        {
          "output_type": "stream",
          "name": "stdout",
          "text": [
            "(1, 2, 3)\n"
          ]
        }
      ]
    },
    {
      "cell_type": "markdown",
      "source": [
        "**6.Converting Tuple to List (list()):**"
      ],
      "metadata": {
        "id": "H92t_33m3FuH"
      }
    },
    {
      "cell_type": "code",
      "source": [
        "tuple_data = (4, 5, 6)\n",
        "list_data = list(tuple_data)  # Converts the tuple (4, 5, 6) to a list [4, 5, 6]\n",
        "print(list_data)  # Output: [4, 5, 6]"
      ],
      "metadata": {
        "colab": {
          "base_uri": "https://localhost:8080/"
        },
        "id": "pNuJGCEd3Lu_",
        "outputId": "580883cd-cb8b-4287-d1eb-0cde661f5507"
      },
      "execution_count": 52,
      "outputs": [
        {
          "output_type": "stream",
          "name": "stdout",
          "text": [
            "[4, 5, 6]\n"
          ]
        }
      ]
    },
    {
      "cell_type": "markdown",
      "source": [
        "**7.Converting List to Set (set()):**"
      ],
      "metadata": {
        "id": "BdHt1eA93P-M"
      }
    },
    {
      "cell_type": "code",
      "source": [
        "list_data = [1, 2, 2, 3, 3, 3]\n",
        "set_data = set(list_data)  # Converts the list to a set, removing duplicates: {1, 2, 3}\n",
        "print(set_data)  # Output: {1, 2, 3}"
      ],
      "metadata": {
        "colab": {
          "base_uri": "https://localhost:8080/"
        },
        "id": "l9KN3ino3T8c",
        "outputId": "ff586cf7-9ee2-4914-e5c3-82060a8b262d"
      },
      "execution_count": 53,
      "outputs": [
        {
          "output_type": "stream",
          "name": "stdout",
          "text": [
            "{1, 2, 3}\n"
          ]
        }
      ]
    },
    {
      "cell_type": "markdown",
      "source": [
        "\n",
        "**Conclusion:**\n",
        "\n",
        "Implicit Type Casting: Python automatically converts data types in certain expressions (e.g., int to float in arithmetic operations).\n",
        "\n",
        "Explicit Type Casting: The programmer manually converts data types using the functions mentioned above.\n",
        "\n",
        "Type casting allows you to convert variables from one data type to another, enabling you to perform operations and manipulate data more effectively in Python."
      ],
      "metadata": {
        "id": "vF-McQnv1dvt"
      }
    },
    {
      "cell_type": "markdown",
      "source": [
        "#6.How do conditional statements work in Python? Illustrate with examples.\n",
        "\n",
        "Conditional statements in Python allow you to execute different blocks of code based on certain conditions. They are used to control the flow of a program by making decisions based on logical conditions.\n",
        "\n",
        "Types of Conditional Statements in Python\n",
        "\n",
        "**1.if statement:** Executes a block of code if a specified condition is True.\n",
        "\n",
        "**2.elif statement:** Stands for \"else if\" and allows you to check multiple expressions for True and execute a block of code as soon as one condition is True.\n",
        "\n",
        "**3.else statement:** Executes a block of code if all preceding conditions are False.\n"
      ],
      "metadata": {
        "id": "0SlPQXOW1nsD"
      }
    },
    {
      "cell_type": "code",
      "source": [
        "#if statement\n",
        "x = 10\n",
        "if x > 5:\n",
        "    print(\"x is greater than 5\")\n",
        "#In this example, if the condition x > 5 is true, the indented block of code under the if statement will be executed."
      ],
      "metadata": {
        "colab": {
          "base_uri": "https://localhost:8080/"
        },
        "id": "x7tpm6tlOGIv",
        "outputId": "01d4948a-436b-4a8e-e50c-cba9a17d20a1"
      },
      "execution_count": 4,
      "outputs": [
        {
          "output_type": "stream",
          "name": "stdout",
          "text": [
            "x is greater than 5\n"
          ]
        }
      ]
    },
    {
      "cell_type": "code",
      "source": [
        "#elif statement\n",
        "x = 3\n",
        "if x % 2 == 0:\n",
        "    print(\"x is even\")\n",
        "else:\n",
        "    print(\"x is odd\")\n",
        "\n",
        "#Here, if the condition x % 2 == 0 is true, the first block of code will be executed;\n",
        "#otherwise, the block of code under the else statement will be executed."
      ],
      "metadata": {
        "colab": {
          "base_uri": "https://localhost:8080/"
        },
        "id": "xkZNxx-4PCji",
        "outputId": "dc0112c0-94c4-4eb7-bff0-588f645155c8"
      },
      "execution_count": 5,
      "outputs": [
        {
          "output_type": "stream",
          "name": "stdout",
          "text": [
            "x is odd\n"
          ]
        }
      ]
    },
    {
      "cell_type": "code",
      "source": [
        "#if-elif-else statement\n",
        "age = 25\n",
        "if age < 18:\n",
        "    print(\"You are a minor\")\n",
        "elif age >= 18 and age < 65:\n",
        "    print(\"You are an adult\")\n",
        "else:\n",
        "    print(\"You are a senior citizen\")\n",
        "\n",
        "#depending on the value of age, the corresponding block of code will be executed.\n",
        "#The elif allows testing for additional conditions,\n",
        "#and the else block serves as a catch-all if none of the previous conditions are true.\n"
      ],
      "metadata": {
        "colab": {
          "base_uri": "https://localhost:8080/"
        },
        "id": "NdmxBE9zRB-h",
        "outputId": "b2ac49cc-f245-41ca-e18f-b96fffe31e26"
      },
      "execution_count": 6,
      "outputs": [
        {
          "output_type": "stream",
          "name": "stdout",
          "text": [
            "You are an adult\n"
          ]
        }
      ]
    },
    {
      "cell_type": "markdown",
      "source": [
        "**How conditional statements work:**\n",
        "\n",
        "1.When a conditional statement is encountered, the condition is evaluated.\n",
        "\n",
        "2.If the condition is true, the indented block of code under the statement is executed.\n",
        "\n",
        "3.If the condition is false, the block is skipped (in the case of if), or the block under the else statement is executed (in the case of if-else).\n",
        "\n",
        "4.In the case of if-elif-else, the conditions are evaluated one by one, and the block corresponding to the first true condition is executed, or the else block is executed if none of the conditions are true.\n",
        "\n",
        "Conditional statements are fundamental to creating logic and controlling the flow of a program in Python, allowing for different actions to be taken based on varying conditions."
      ],
      "metadata": {
        "id": "cB0IwxJLRcuH"
      }
    },
    {
      "cell_type": "markdown",
      "source": [
        "#7.Describe the different types of loops in Python and their usecases with examples.\n",
        "\n",
        "In Python, there are three main types of loops: for loop, while loop, and nested loops. Each type of loop serves a specific purpose and can be used in different scenarios.\n",
        "\n",
        "**1. for loop:** The for loop is used when you know the number of iterations needed. It is commonly used to iterate over a sequence (such as a list, tuple, string, or dictionary) or to execute a block of code a specific number of times."
      ],
      "metadata": {
        "id": "g8cobUh5R0qX"
      }
    },
    {
      "cell_type": "code",
      "source": [
        "# Iterate over a list\n",
        "fruits = [\"apple\", \"banana\", \"cherry\"]\n",
        "for fruit in fruits:\n",
        "    print(fruit)\n",
        "#the for loop iterates over each element in the fruits list and prints each fruit."
      ],
      "metadata": {
        "colab": {
          "base_uri": "https://localhost:8080/"
        },
        "id": "FW6mQcICSKLQ",
        "outputId": "14037e97-146f-4a4f-8995-516a1daad409"
      },
      "execution_count": 7,
      "outputs": [
        {
          "output_type": "stream",
          "name": "stdout",
          "text": [
            "apple\n",
            "banana\n",
            "cherry\n"
          ]
        }
      ]
    },
    {
      "cell_type": "markdown",
      "source": [
        "**2. while loop:** The while loop is used when you want to execute a block of code as long as a specified condition is true. It is suitable when you may not know in advance how many times the code needs to be executed."
      ],
      "metadata": {
        "id": "cokPAD3FSWuB"
      }
    },
    {
      "cell_type": "code",
      "source": [
        "# Using while loop to print numbers from 1 to 5\n",
        "num = 1\n",
        "while num <= 5:\n",
        "    print(num)\n",
        "    num +=\n",
        "#the while loop continues to execute and print num as long as num is less than or equal to 5."
      ],
      "metadata": {
        "colab": {
          "base_uri": "https://localhost:8080/"
        },
        "id": "ky9X9_eXRTQR",
        "outputId": "37f47c4b-3797-4c78-f7ce-cd0e23369607"
      },
      "execution_count": 8,
      "outputs": [
        {
          "output_type": "stream",
          "name": "stdout",
          "text": [
            "1\n",
            "2\n",
            "3\n",
            "4\n",
            "5\n"
          ]
        }
      ]
    },
    {
      "cell_type": "markdown",
      "source": [
        "**3. Nested loops:** Nested loops are loops within loops. They are used when you need to perform repetitive tasks within repetitive tasks, such as iterating over a 2D list or matrix."
      ],
      "metadata": {
        "id": "mIxk_CxzS6H-"
      }
    },
    {
      "cell_type": "code",
      "source": [
        "# Using nested loops to iterate over a 2D list\n",
        "matrix = [[1, 2, 3], [4, 5, 6], [7, 8, 9]]\n",
        "for row in matrix:\n",
        "    for element in row:\n",
        "        print(element, end=\" \")\n",
        "    print()\n",
        "\n",
        "\n",
        "#the outer loop iterates over each row of the 2D list matrix,\n",
        "#while the inner loop iterates over each element within the row and prints it.\n"
      ],
      "metadata": {
        "colab": {
          "base_uri": "https://localhost:8080/"
        },
        "id": "1xe5kTM3TB1S",
        "outputId": "25e604f8-e635-4354-84a2-c40599e729a9"
      },
      "execution_count": 9,
      "outputs": [
        {
          "output_type": "stream",
          "name": "stdout",
          "text": [
            "1 2 3 \n",
            "4 5 6 \n",
            "7 8 9 \n"
          ]
        }
      ]
    },
    {
      "cell_type": "markdown",
      "source": [
        "Each type of loop has its specific use case, and choosing the right type of loop depends on the scenario and the nature of the iterative task. Loops are fundamental for iterating through data, performing repetitive tasks, and controlling the flow of a program.\n"
      ],
      "metadata": {
        "id": "iWkEkwjETQqF"
      }
    }
  ]
}